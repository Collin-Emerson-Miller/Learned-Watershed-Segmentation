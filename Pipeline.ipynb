{
 "cells": [
  {
   "cell_type": "markdown",
   "metadata": {},
   "source": [
    "# Setup"
   ]
  },
  {
   "cell_type": "code",
   "execution_count": 1,
   "metadata": {
    "collapsed": false
   },
   "outputs": [],
   "source": [
    "# Imports\n",
    "\n",
    "import cv2\n",
    "import numpy as np\n",
    "from scipy import sparse\n",
    "import pandas as pd\n",
    "import networkx as nx\n",
    "from sklearn.feature_extraction import image\n",
    "import matplotlib.pyplot as plt\n",
    "%matplotlib inline"
   ]
  },
  {
   "cell_type": "markdown",
   "metadata": {},
   "source": [
    "# Image to graph"
   ]
  },
  {
   "cell_type": "code",
   "execution_count": 2,
   "metadata": {
    "collapsed": false
   },
   "outputs": [],
   "source": [
    "def _make_edges_3d(n_x, n_y, n_z=1):\n",
    "    \"\"\"Returns a list of edges for a 3D image.\n",
    "    Parameters\n",
    "    ===========\n",
    "    n_x: integer\n",
    "        The size of the grid in the x direction.\n",
    "    n_y: integer\n",
    "        The size of the grid in the y direction.\n",
    "    n_z: integer, optional\n",
    "        The size of the grid in the z direction, defaults to 1\n",
    "    \"\"\"\n",
    "    vertices = np.arange(n_x * n_y * n_z).reshape((n_x, n_y, n_z))\n",
    "    edges_deep = np.vstack((vertices[:, :, :-1].ravel(),\n",
    "                            vertices[:, :, 1:].ravel()))\n",
    "    edges_right = np.vstack((vertices[:, :-1].ravel(),\n",
    "                             vertices[:, 1:].ravel()))\n",
    "    edges_down = np.vstack((vertices[:-1].ravel(), vertices[1:].ravel()))\n",
    "    edges = np.hstack((edges_deep, edges_right, edges_down))\n",
    "    return edges"
   ]
  },
  {
   "cell_type": "code",
   "execution_count": 3,
   "metadata": {
    "collapsed": false
   },
   "outputs": [],
   "source": [
    "def _compute_altitude_3d(edges, img):\n",
    "    n_x, n_y, n_z = img.shape\n",
    "    gradient = np.abs(img[edges[0] // (n_y * n_z),\n",
    "                          (edges[0] % (n_y * n_z)) // n_z,\n",
    "                          (edges[0] % (n_y * n_z)) % n_z] -\n",
    "                          img[edges[1] // (n_y * n_z),\n",
    "                          (edges[1] % (n_y * n_z)) // n_z,\n",
    "                          (edges[1] % (n_y * n_z)) % n_z])\n",
    "    \n",
    "    altitude_function = 'gradient_magnitude'\n",
    "    \n",
    "    '''\n",
    "    Replace this with our fixed altitude fucntion.\n",
    "    \n",
    "    '''\n",
    "    if altitude_function is 'gradient_magnitude':\n",
    "        pass\n",
    "    elif altitude_function is 'static':\n",
    "        #not supported\n",
    "        pass\n",
    "    elif altitude_function is 'dynamic':\n",
    "        #not supported\n",
    "        pass\n",
    "    elif altitude_function is 'random':\n",
    "        gradient = np.random.randint(255 , size=gradient.shape)\n",
    "    else:\n",
    "        raise ValueError(altitude_function + ' is not a valid altitude function.')\n",
    "    \n",
    "    return gradient"
   ]
  },
  {
   "cell_type": "code",
   "execution_count": 4,
   "metadata": {
    "collapsed": false
   },
   "outputs": [
    {
     "data": {
      "text/html": [
       "<div>\n",
       "<table border=\"1\" class=\"dataframe\">\n",
       "  <thead>\n",
       "    <tr style=\"text-align: right;\">\n",
       "      <th></th>\n",
       "      <th>0</th>\n",
       "      <th>1</th>\n",
       "      <th>2</th>\n",
       "      <th>3</th>\n",
       "      <th>4</th>\n",
       "    </tr>\n",
       "  </thead>\n",
       "  <tbody>\n",
       "    <tr>\n",
       "      <th>0</th>\n",
       "      <td>88</td>\n",
       "      <td>105</td>\n",
       "      <td>95</td>\n",
       "      <td>84</td>\n",
       "      <td>92</td>\n",
       "    </tr>\n",
       "    <tr>\n",
       "      <th>1</th>\n",
       "      <td>75</td>\n",
       "      <td>110</td>\n",
       "      <td>80</td>\n",
       "      <td>72</td>\n",
       "      <td>84</td>\n",
       "    </tr>\n",
       "    <tr>\n",
       "      <th>2</th>\n",
       "      <td>92</td>\n",
       "      <td>78</td>\n",
       "      <td>83</td>\n",
       "      <td>81</td>\n",
       "      <td>63</td>\n",
       "    </tr>\n",
       "    <tr>\n",
       "      <th>3</th>\n",
       "      <td>87</td>\n",
       "      <td>112</td>\n",
       "      <td>86</td>\n",
       "      <td>77</td>\n",
       "      <td>98</td>\n",
       "    </tr>\n",
       "    <tr>\n",
       "      <th>4</th>\n",
       "      <td>105</td>\n",
       "      <td>73</td>\n",
       "      <td>110</td>\n",
       "      <td>81</td>\n",
       "      <td>109</td>\n",
       "    </tr>\n",
       "  </tbody>\n",
       "</table>\n",
       "</div>"
      ],
      "text/plain": [
       "     0    1    2   3    4\n",
       "0   88  105   95  84   92\n",
       "1   75  110   80  72   84\n",
       "2   92   78   83  81   63\n",
       "3   87  112   86  77   98\n",
       "4  105   73  110  81  109"
      ]
     },
     "execution_count": 4,
     "metadata": {},
     "output_type": "execute_result"
    }
   ],
   "source": [
    "img = cv2.imread('1.jpg', 0)\n",
    "img = img[0:5, 0:5]\n",
    "img = img.astype(np.int16)\n",
    "dtype=None\n",
    "img = np.atleast_3d(img)\n",
    "n_x, n_y, n_z = img.shape\n",
    "edges = _make_edges_3d(n_x, n_y, n_z)\n",
    "weights = _compute_altitude_3d(edges, img)\n",
    "diag = img.ravel()\n",
    "n_voxels = diag.size\n",
    "diag_idx = np.arange(n_voxels)\n",
    "i_idx = np.hstack((edges[0], edges[1]))\n",
    "j_idx = np.hstack((edges[1], edges[0]))\n",
    "matrix = sparse.coo_matrix((np.hstack((weights, weights, diag)),\n",
    "                          (np.hstack((i_idx, diag_idx)),\n",
    "                           np.hstack((j_idx, diag_idx)))),\n",
    "                          (n_voxels, n_voxels),\n",
    "                          dtype=dtype)\n",
    "graph = nx.from_scipy_sparse_matrix(matrix)\n",
    "graph.remove_edges_from(graph.selfloop_edges())\n",
    "nx.get_edge_attributes(graph,'weight')"
   ]
  },
  {
   "cell_type": "code",
   "execution_count": 5,
   "metadata": {
    "collapsed": false
   },
   "outputs": [],
   "source": [
    "#set positions \n",
    "positions = dict()\n",
    "values = dict()\n",
    "for row in range(img.shape[0]):\n",
    "    for col in range(img.shape[1]):\n",
    "        positions[row * img.shape[1] + col] = ((col), (img.shape[1]-row))\n",
    "        #print row * img.shape[1] + col, \" is \", row,col\n",
    "        #print row * img.shape[1] + col, \" is \", col,img.shape[1]-row"
   ]
  },
  {
   "cell_type": "code",
   "execution_count": 8,
   "metadata": {
    "collapsed": false
   },
   "outputs": [
    {
     "data": {
      "text/html": [
       "<div>\n",
       "<table border=\"1\" class=\"dataframe\">\n",
       "  <thead>\n",
       "    <tr style=\"text-align: right;\">\n",
       "      <th></th>\n",
       "      <th>0</th>\n",
       "      <th>1</th>\n",
       "      <th>2</th>\n",
       "      <th>3</th>\n",
       "      <th>4</th>\n",
       "    </tr>\n",
       "  </thead>\n",
       "  <tbody>\n",
       "    <tr>\n",
       "      <th>0</th>\n",
       "      <td>88</td>\n",
       "      <td>105</td>\n",
       "      <td>95</td>\n",
       "      <td>84</td>\n",
       "      <td>92</td>\n",
       "    </tr>\n",
       "    <tr>\n",
       "      <th>1</th>\n",
       "      <td>75</td>\n",
       "      <td>110</td>\n",
       "      <td>80</td>\n",
       "      <td>72</td>\n",
       "      <td>84</td>\n",
       "    </tr>\n",
       "    <tr>\n",
       "      <th>2</th>\n",
       "      <td>92</td>\n",
       "      <td>78</td>\n",
       "      <td>83</td>\n",
       "      <td>81</td>\n",
       "      <td>63</td>\n",
       "    </tr>\n",
       "    <tr>\n",
       "      <th>3</th>\n",
       "      <td>87</td>\n",
       "      <td>112</td>\n",
       "      <td>86</td>\n",
       "      <td>77</td>\n",
       "      <td>98</td>\n",
       "    </tr>\n",
       "    <tr>\n",
       "      <th>4</th>\n",
       "      <td>105</td>\n",
       "      <td>73</td>\n",
       "      <td>110</td>\n",
       "      <td>81</td>\n",
       "      <td>109</td>\n",
       "    </tr>\n",
       "  </tbody>\n",
       "</table>\n",
       "</div>"
      ],
      "text/plain": [
       "     0    1    2   3    4\n",
       "0   88  105   95  84   92\n",
       "1   75  110   80  72   84\n",
       "2   92   78   83  81   63\n",
       "3   87  112   86  77   98\n",
       "4  105   73  110  81  109"
      ]
     },
     "execution_count": 8,
     "metadata": {},
     "output_type": "execute_result"
    },
    {
     "data": {
      "image/png": "[encoded data removed]",
      "text/plain": [
       "<matplotlib.figure.Figure at 0x7f124a226b50>"
      ]
     },
     "metadata": {},
     "output_type": "display_data"
    }
   ],
   "source": [
    "fixed_nodes = positions.keys()\n",
    "pos = nx.spring_layout(graph,pos=positions, fixed = fixed_nodes)\n",
    "labels = nx.get_edge_attributes(graph,'weight')\n",
    "nx.draw(graph,pos)\n",
    "nx.draw_networkx_labels(graph,pos)\n",
    "edge_labels = nx.draw_networkx_edge_labels(graph,pos,edge_labels=labels)\n",
    "pd.DataFrame(img.squeeze(axis=(2,)))"
   ]
  },
  {
   "cell_type": "markdown",
   "metadata": {},
   "source": [
    "# Boundary Probability"
   ]
  },
  {
   "cell_type": "markdown",
   "metadata": {},
   "source": [
    "# Static Body Training\n",
    "\n",
    "** - Loop this until convergence**"
   ]
  },
  {
   "cell_type": "markdown",
   "metadata": {},
   "source": [
    "## Step 1"
   ]
  },
  {
   "cell_type": "markdown",
   "metadata": {},
   "source": [
    "### Compute Altitude"
   ]
  },
  {
   "cell_type": "markdown",
   "metadata": {},
   "source": [
    "### Determine MSF"
   ]
  },
  {
   "cell_type": "markdown",
   "metadata": {},
   "source": [
    "### Determine Constrained MSF"
   ]
  },
  {
   "cell_type": "markdown",
   "metadata": {},
   "source": [
    "## Step 2 "
   ]
  },
  {
   "cell_type": "markdown",
   "metadata": {},
   "source": [
    "### Identify Root Edges"
   ]
  },
  {
   "cell_type": "markdown",
   "metadata": {},
   "source": [
    "### Define weights"
   ]
  },
  {
   "cell_type": "markdown",
   "metadata": {},
   "source": [
    "### Define Loss"
   ]
  },
  {
   "cell_type": "markdown",
   "metadata": {},
   "source": [
    "## Step 3"
   ]
  },
  {
   "cell_type": "markdown",
   "metadata": {},
   "source": [
    "### Obtain Updated Parameters"
   ]
  },
  {
   "cell_type": "code",
   "execution_count": null,
   "metadata": {
    "collapsed": true
   },
   "outputs": [],
   "source": []
  }
 ],
 "metadata": {
  "kernelspec": {
   "display_name": "Python [conda root]",
   "language": "python",
   "name": "conda-root-py"
  },
  "language_info": {
   "codemirror_mode": {
    "name": "ipython",
    "version": 2
   },
   "file_extension": ".py",
   "mimetype": "text/x-python",
   "name": "python",
   "nbconvert_exporter": "python",
   "pygments_lexer": "ipython2",
   "version": "2.7.12"
  }
 },
 "nbformat": 4,
 "nbformat_minor": 2
}
