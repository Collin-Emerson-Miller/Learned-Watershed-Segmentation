{
 "cells": [
  {
   "cell_type": "markdown",
   "metadata": {},
   "source": [
    "# Setup"
   ]
  },
  {
   "cell_type": "code",
   "execution_count": 1,
   "metadata": {},
   "outputs": [
    {
     "name": "stderr",
     "output_type": "stream",
     "text": [
      "Using TensorFlow backend.\n"
     ]
    }
   ],
   "source": [
    "# Imports\n",
    "\n",
    "import cv2\n",
    "import keras\n",
    "import numpy as np\n",
    "from scipy import sparse\n",
    "import pandas as pd\n",
    "import networkx as nx\n",
    "from networkx_viewer import Viewer\n",
    "from sklearn.feature_extraction import image\n",
    "import matplotlib.pyplot as plt\n",
    "%matplotlib inline\n",
    "\n",
    "from keras.models import Sequential\n",
    "from keras.layers import Conv2D, recurrent"
   ]
  },
  {
   "cell_type": "markdown",
   "metadata": {},
   "source": [
    "# Image to graph"
   ]
  },
  {
   "cell_type": "code",
   "execution_count": 149,
   "metadata": {},
   "outputs": [],
   "source": [
    "def _make_edges_3d(n_x, n_y, n_z=1):\n",
    "    \"\"\"Returns a list of edges for a 3D image.\n",
    "    Parameters\n",
    "    ===========\n",
    "    n_x: integer\n",
    "        The size of the grid in the x direction.\n",
    "    n_y: integer\n",
    "        The size of the grid in the y direction.\n",
    "    n_z: integer, optional\n",
    "        The size of the grid in the z direction, defaults to 1\n",
    "    \"\"\"\n",
    "    vertices = np.arange(n_x * n_y * n_z).reshape((n_x, n_y, n_z))\n",
    "    edges_deep = np.vstack((vertices[:, :, :-1].ravel(),\n",
    "                            vertices[:, :, 1:].ravel()))\n",
    "    edges_right = np.vstack((vertices[:, :-1].ravel(),\n",
    "                             vertices[:, 1:].ravel()))\n",
    "    edges_down = np.vstack((vertices[:-1].ravel(), vertices[1:].ravel()))\n",
    "    edges = np.hstack((edges_deep, edges_right, edges_down))\n",
    "    return edges"
   ]
  },
  {
   "cell_type": "code",
   "execution_count": 150,
   "metadata": {},
   "outputs": [],
   "source": [
    "def _compute_altitude_3d(edges, img):\n",
    "    n_x, n_y, n_z = img.shape\n",
    "    gradient = np.abs(img[edges[0] // (n_y * n_z),\n",
    "                          (edges[0] % (n_y * n_z)) // n_z,\n",
    "                          (edges[0] % (n_y * n_z)) % n_z] -\n",
    "                          img[edges[1] // (n_y * n_z),\n",
    "                          (edges[1] % (n_y * n_z)) // n_z,\n",
    "                          (edges[1] % (n_y * n_z)) % n_z])\n",
    "    return gradient"
   ]
  },
  {
   "cell_type": "code",
   "execution_count": 151,
   "metadata": {},
   "outputs": [],
   "source": [
    "def img_to_graph(image):\n",
    "    \n",
    "    dtype=None\n",
    "    image = np.atleast_3d(image)\n",
    "    n_x, n_y, n_z = image.shape\n",
    "    edges = _make_edges_3d(n_x, n_y, n_z)\n",
    "    weights = _compute_altitude_3d(edges, image)\n",
    "    diag = image.ravel()\n",
    "    n_voxels = diag.size\n",
    "    diag_idx = np.arange(n_voxels)\n",
    "    i_idx = np.hstack((edges[0], edges[1]))\n",
    "    j_idx = np.hstack((edges[1], edges[0]))\n",
    "    matrix = sparse.coo_matrix((np.hstack((weights, weights, diag)),\n",
    "                              (np.hstack((i_idx, diag_idx)),\n",
    "                               np.hstack((j_idx, diag_idx)))),\n",
    "                              (n_voxels, n_voxels),\n",
    "                              dtype=dtype)\n",
    "    graph = nx.from_scipy_sparse_matrix(matrix)\n",
    "    graph.remove_edges_from(graph.selfloop_edges())\n",
    "    \n",
    "    mapping = map_node(image)\n",
    "    values = get_altitude_map(image)\n",
    "    \n",
    "    graph = nx.relabel_nodes(graph, mapping)\n",
    "    nx.set_node_attributes(graph,'value',values=values)\n",
    "    \n",
    "    \n",
    "    return graph"
   ]
  },
  {
   "cell_type": "code",
   "execution_count": 178,
   "metadata": {
    "collapsed": true
   },
   "outputs": [],
   "source": [
    "def get_altitude_map(img):\n",
    "    values = dict()\n",
    "    for row in range(img.shape[0]):\n",
    "        for col in range(img.shape[1]):\n",
    "            values[(row,col)] = img[row,col][0]\n",
    "    \n",
    "    return values"
   ]
  },
  {
   "cell_type": "code",
   "execution_count": 179,
   "metadata": {
    "collapsed": true
   },
   "outputs": [],
   "source": [
    "def map_node(img):\n",
    "    \n",
    "    assert isinstance(a, np.ndarray), \"Not an image\"\n",
    "    \n",
    "    mapping = dict()\n",
    "    \n",
    "    for row in range(img.shape[0]):\n",
    "        for col in range(img.shape[1]):\n",
    "            mapping[row * img.shape[1] + col] = ((row), (col))\n",
    "\n",
    "    return mapping"
   ]
  },
  {
   "cell_type": "code",
   "execution_count": 193,
   "metadata": {},
   "outputs": [],
   "source": [
    "def view_graph(img, graph, pixel_values=False):\n",
    "    \n",
    "    positions = dict()\n",
    "    for row in range(img.shape[0]):\n",
    "        for col in range(img.shape[1]):\n",
    "            positions[(row,col)] = ((col), (img.shape[1]-row))\n",
    "          \n",
    "    pos = nx.spring_layout(graph,pos=positions, fixed = graph.nodes())\n",
    "    labels = nx.get_edge_attributes(graph,'weight')\n",
    "    \n",
    "    if pixel_values:\n",
    "        values = nx.get_node_attributes(graph,'value')\n",
    "        nx.draw(graph,pos,labels=values)\n",
    "    else:\n",
    "        nx.draw(graph,pos)\n",
    "        nx.draw_networkx_labels(graph,pos)\n",
    "        \n",
    "    edge_labels = nx.draw_networkx_edge_labels(graph,pos,edge_labels=labels)"
   ]
  },
  {
   "cell_type": "code",
   "execution_count": 195,
   "metadata": {},
   "outputs": [],
   "source": [
    "# Set image size\n",
    "img_resize=(5,5,1)\n",
    "\n",
    "#import Images\n",
    "img = cv2.imread('1O.jpg', 0)\n",
    "gt = cv2.imread('1G.jpg', 0)\n",
    "img = img[0:img_resize[0], 0:img_resize[1]]\n",
    "gt = gt[0:img_resize[0], 0:img_resize[1]]\n",
    "img = img.astype(np.int16)\n",
    "gt = gt.astype(np.int16)\n",
    "\n",
    "#Translate image to 4 connected grid graph\n",
    "image_graph = img_to_graph(img)\n",
    "ground_truth_graph = img_to_graph(gt)"
   ]
  },
  {
   "cell_type": "code",
   "execution_count": 198,
   "metadata": {},
   "outputs": [
    {
     "data": {
      "image/png": "[encoded data removed]",
      "text/plain": [
       "<matplotlib.figure.Figure at 0x7fbb9abc8b90>"
      ]
     },
     "metadata": {},
     "output_type": "display_data"
    }
   ],
   "source": [
    "view_graph(img, image_graph,pixel_values=True)"
   ]
  },
  {
   "cell_type": "code",
   "execution_count": 204,
   "metadata": {},
   "outputs": [
    {
     "data": {
      "text/plain": [
       "<matplotlib.image.AxesImage at 0x7fbb9eb66ad0>"
      ]
     },
     "execution_count": 204,
     "metadata": {},
     "output_type": "execute_result"
    },
    {
     "data": {
      "image/png": "[encoded data removed]",
      "text/plain": [
       "<matplotlib.figure.Figure at 0x7fbb9ab818d0>"
      ]
     },
     "metadata": {},
     "output_type": "display_data"
    }
   ],
   "source": [
    "plt.imshow(img, cmap = 'gray')"
   ]
  },
  {
   "cell_type": "code",
   "execution_count": 197,
   "metadata": {},
   "outputs": [
    {
     "data": {
      "image/png": "[encoded data removed]",
      "text/plain": [
       "<matplotlib.figure.Figure at 0x7fbb9b129ed0>"
      ]
     },
     "metadata": {},
     "output_type": "display_data"
    }
   ],
   "source": [
    "view_graph(gt, ground_truth_graph,pixel_values=True)"
   ]
  },
  {
   "cell_type": "code",
   "execution_count": 203,
   "metadata": {},
   "outputs": [
    {
     "data": {
      "text/plain": [
       "<matplotlib.image.AxesImage at 0x7fbb9eb92c90>"
      ]
     },
     "execution_count": 203,
     "metadata": {},
     "output_type": "execute_result"
    },
    {
     "data": {
      "image/png": "[encoded data removed]",
      "text/plain": [
       "<matplotlib.figure.Figure at 0x7fbb9ab71190>"
      ]
     },
     "metadata": {},
     "output_type": "display_data"
    }
   ],
   "source": [
    "plt.imshow(gt, cmap = 'gray')"
   ]
  },
  {
   "cell_type": "code",
   "execution_count": 232,
   "metadata": {},
   "outputs": [
    {
     "data": {
      "text/plain": [
       "126504"
      ]
     },
     "execution_count": 232,
     "metadata": {},
     "output_type": "execute_result"
    }
   ],
   "source": [
    "len(nx.get_edge_attributes(graph,'weight').values())"
   ]
  },
  {
   "cell_type": "code",
   "execution_count": 233,
   "metadata": {
    "collapsed": true
   },
   "outputs": [],
   "source": [
    "def get_boundary_probabilities(img):\n",
    "    \n",
    "    #Make a placeholder for boundary probabilities coming in next iteration of pipeline\n",
    "    return np.random.rand(img_resize[0],img_resize[1])"
   ]
  },
  {
   "cell_type": "code",
   "execution_count": 234,
   "metadata": {},
   "outputs": [
    {
     "data": {
      "text/plain": [
       "(252, 252, 2)"
      ]
     },
     "execution_count": 234,
     "metadata": {},
     "output_type": "execute_result"
    }
   ],
   "source": [
    "I_a.shape"
   ]
  },
  {
   "cell_type": "code",
   "execution_count": 236,
   "metadata": {},
   "outputs": [
    {
     "name": "stdout",
     "output_type": "stream",
     "text": [
      "(252, 252, 1)\n",
      "(1, 184, 184, 1)\n"
     ]
    }
   ],
   "source": [
    "I = img\n",
    "print I.shape\n",
    "boundary_probabilities = get_boundary_probabilities(I)\n",
    "\n",
    "#Augment the image with boundary probabilities\n",
    "I_a = np.dstack((I, boundary_probabilities))\n",
    "\n",
    "#Create Model\n",
    "from keras.layers import Dense, Activation, Recurrent\n",
    "\n",
    "from keras import optimizers\n",
    "\n",
    "model = Sequential()\n",
    "model.add(Conv2D(16, 5, input_shape=I_a.shape, activation='elu', dilation_rate=1))\n",
    "model.add(Conv2D(16, 3, activation='elu', dilation_rate=1))\n",
    "model.add(Conv2D(32, 3, activation='elu', dilation_rate=2))\n",
    "model.add(Conv2D(32, 3, activation='elu', dilation_rate=4))\n",
    "model.add(Conv2D(64, 3, activation='elu', dilation_rate=8))\n",
    "model.add(Conv2D(64, 3, activation='elu', dilation_rate=16))\n",
    "model.add(Conv2D(128, 3, activation='elu', dilation_rate=1))\n",
    "model.add(Dense(1024))\n",
    "model.add(Dense(1))\n",
    "#model.add(Dense(len(nx.get_edge_attributes(graph,'weight').values())))\n",
    "\n",
    "\n",
    "\"\"\"Training was performed by stochastic gradient descent (SGD) with mini-batch size 14,\n",
    "learning rate 10−3\n",
    ", and momentum 0.9. The network was trained for 60K iterations.\"\"\"\n",
    "\n",
    "sgd = optimizers.SGD(lr=0.01, decay=1e-6, momentum=0.9, nesterov=True)\n",
    "model.compile(optimizer=sgd,\n",
    "                      loss='categorical_crossentropy',\n",
    "                      metrics=['accuracy'])\n",
    "\n",
    "#Compute Altitudes with current model parameters\n",
    "\n",
    "#\n",
    "\n",
    "I_a = np.expand_dims(I_a, axis=0)\n",
    "p = model.predict(I_a)\n",
    "print p.shape"
   ]
  },
  {
   "cell_type": "code",
   "execution_count": 219,
   "metadata": {},
   "outputs": [
    {
     "data": {
      "text/plain": [
       "array([[-0.36356637, -0.38028884, -0.31565717, ..., -0.16191852,\n",
       "        -0.36426044, -0.32957712],\n",
       "       [-0.33196166, -0.50350296, -0.28878713, ..., -0.56227231,\n",
       "        -0.36117327, -0.29996049],\n",
       "       [-0.49372977, -0.40250069, -0.27348992, ..., -0.28096771,\n",
       "        -0.32239872, -0.21431977],\n",
       "       ..., \n",
       "       [-0.44773769, -0.54297799, -0.48131537, ..., -0.36836463,\n",
       "        -0.36758232, -0.52226734],\n",
       "       [-0.36676663, -0.46444643, -0.46431983, ..., -0.1857065 ,\n",
       "        -0.40571523, -0.43323743],\n",
       "       [-0.57433718, -0.51221085, -0.47775197, ..., -0.31362647,\n",
       "        -0.49286199, -0.40582812]], dtype=float32)"
      ]
     },
     "execution_count": 219,
     "metadata": {},
     "output_type": "execute_result"
    }
   ],
   "source": [
    "p[0,:,:,0]"
   ]
  },
  {
   "cell_type": "code",
   "execution_count": 189,
   "metadata": {},
   "outputs": [
    {
     "data": {
      "text/plain": [
       "(1, 100, 100, 2)"
      ]
     },
     "execution_count": 189,
     "metadata": {},
     "output_type": "execute_result"
    }
   ],
   "source": [
    "I_a.shape"
   ]
  },
  {
   "cell_type": "code",
   "execution_count": 190,
   "metadata": {},
   "outputs": [
    {
     "data": {
      "text/plain": [
       "array([ 88.       ,   0.3451981])"
      ]
     },
     "execution_count": 190,
     "metadata": {},
     "output_type": "execute_result"
    }
   ],
   "source": [
    "I_a[0,0,0,:]"
   ]
  },
  {
   "cell_type": "code",
   "execution_count": 191,
   "metadata": {},
   "outputs": [
    {
     "data": {
      "text/plain": [
       "array([88], dtype=int16)"
      ]
     },
     "execution_count": 191,
     "metadata": {},
     "output_type": "execute_result"
    }
   ],
   "source": [
    "I[0,0,:]"
   ]
  },
  {
   "cell_type": "code",
   "execution_count": 192,
   "metadata": {
    "scrolled": true
   },
   "outputs": [],
   "source": []
  },
  {
   "cell_type": "code",
   "execution_count": 193,
   "metadata": {},
   "outputs": [
    {
     "data": {
      "text/plain": [
       "(1, 96, 96, 16)"
      ]
     },
     "execution_count": 193,
     "metadata": {},
     "output_type": "execute_result"
    }
   ],
   "source": []
  },
  {
   "cell_type": "code",
   "execution_count": 173,
   "metadata": {},
   "outputs": [
    {
     "data": {
      "text/plain": [
       "array([ 3.12481308, -0.96227485,  3.49154544, -0.5382762 , -0.90918523,\n",
       "        0.83449161, -0.70998693,  0.44036934,  4.46567249, -0.87546444,\n",
       "       -0.68696773, -0.30691391, -0.93509239, -0.40531236, -0.99781704,\n",
       "       -0.92181677,  1.3948611 , -0.45131719,  0.51080537, -0.97048539,\n",
       "       -0.92896301, -0.58866966, -0.94019961, -0.55908251,  0.28576887,\n",
       "        1.30408406,  2.69624209, -0.38842565, -0.74179465,  0.20478624,\n",
       "       -0.12914276, -0.57746118,  0.5547787 , -0.86723721,  1.33187437,\n",
       "        3.50594997, -0.97171158, -0.66117108, -0.43622577, -0.9886933 ,\n",
       "        0.03607702,  1.29375291, -0.91160041, -0.58185279, -0.0543583 ,\n",
       "        3.95769453, -0.81320632,  1.0388279 ,  1.440135  ,  0.65312982,\n",
       "       -0.26819646, -0.97723758,  5.45371389,  0.955841  ,  1.72034955,\n",
       "        1.29644966, -0.31166732, -0.65844572,  0.83943945, -0.46552575,\n",
       "       -0.97724169, -0.99731779,  0.74880099,  0.33263487, -0.83384848,\n",
       "       -0.24687743,  1.04738569, -0.93623757, -0.99571151,  2.03280878,\n",
       "        2.35042405,  1.0885241 ,  1.27446818, -0.71300542, -0.05784225,\n",
       "        0.10042217,  0.71014386,  1.73580933,  1.62271333,  1.23073387,\n",
       "        0.20246643, -0.69407308,  0.53547376, -0.92987794,  3.48580432,\n",
       "        2.06493711,  1.84731102, -0.06151527, -0.99311078, -0.4370386 ,\n",
       "       -0.3133682 , -0.73827076,  2.45858097, -0.97079009, -0.96156633,\n",
       "       -0.57997179, -0.97665912,  1.86222315, -0.95559192,  0.23263329,\n",
       "        1.99374008, -0.90450269,  0.41091651,  3.68717098, -0.97367096,\n",
       "       -0.94147962, -0.25056231, -0.82518041,  0.73507065, -0.66872728,\n",
       "        1.4470644 , -0.86537516, -0.13935041, -0.99664325, -0.73030353,\n",
       "       -0.99745625, -0.84112418, -0.66584116, -0.33244401, -0.88340688,\n",
       "       -0.9948982 ,  2.01475668, -0.73399895,  0.45472848, -0.6944446 ,\n",
       "        1.59786177,  2.99326301, -0.75115037], dtype=float32)"
      ]
     },
     "execution_count": 173,
     "metadata": {},
     "output_type": "execute_result"
    }
   ],
   "source": [
    "p[0,0,0,:]"
   ]
  },
  {
   "cell_type": "code",
   "execution_count": 138,
   "metadata": {},
   "outputs": [
    {
     "data": {
      "text/plain": [
       "array([-0.18248022, -0.1272058 ,  0.01445921, ...,  0.01033194,\n",
       "       -0.11372139, -0.1584323 ], dtype=float32)"
      ]
     },
     "execution_count": 138,
     "metadata": {},
     "output_type": "execute_result"
    }
   ],
   "source": [
    "p[0,0,1,:]"
   ]
  },
  {
   "cell_type": "code",
   "execution_count": 53,
   "metadata": {},
   "outputs": [
    {
     "name": "stdout",
     "output_type": "stream",
     "text": [
      "[0, 1, 8, 9, 16, 17, 24]\n"
     ]
    },
    {
     "data": {
      "text/plain": [
       "{(18, 25), (24, 25), (26, 25), (32, 25)}"
      ]
     },
     "execution_count": 53,
     "metadata": {},
     "output_type": "execute_result"
    }
   ],
   "source": [
    "V_ = \n",
    "print (nx.shortest_path(graph, 0, 24))\n",
    "nx.minimum_edge_cut(graph, 8, 25)"
   ]
  },
  {
   "cell_type": "code",
   "execution_count": 60,
   "metadata": {},
   "outputs": [
    {
     "name": "stdout",
     "output_type": "stream",
     "text": [
      "135\n",
      "[0, 1, 8, 9, 16, 17, 24, 25, 32, 33, 40, 41, 48]\n"
     ]
    }
   ],
   "source": [
    "print nx.shortest_path_length(graph, 0 ,48, weight='weight')\n",
    "print nx.shortest_path(graph, 0 ,48)"
   ]
  },
  {
   "cell_type": "code",
   "execution_count": 38,
   "metadata": {},
   "outputs": [],
   "source": [
    "g = nx.prim_mst(graph)"
   ]
  },
  {
   "cell_type": "code",
   "execution_count": 39,
   "metadata": {},
   "outputs": [
    {
     "data": {
      "image/png": "[encoded data removed]",
      "text/plain": [
       "<matplotlib.figure.Figure at 0x7f54b9204650>"
      ]
     },
     "metadata": {},
     "output_type": "display_data"
    }
   ],
   "source": [
    "g[0][1]['weight'] = 1\n",
    "fixed_nodes = positions.keys()\n",
    "pos = nx.spring_layout(g,pos=positions, fixed = fixed_nodes)\n",
    "labels = nx.get_edge_attributes(g,'weight')\n",
    "nx.draw(g,pos)\n",
    "nx.draw_networkx_labels(g,pos)\n",
    "edge_labels = nx.draw_networkx_edge_labels(g,pos,edge_labels=labels)"
   ]
  },
  {
   "cell_type": "code",
   "execution_count": 24,
   "metadata": {},
   "outputs": [
    {
     "data": {
      "text/plain": [
       "{1: {'weight': 1}, 10: {'weight': 13}}"
      ]
     },
     "execution_count": 24,
     "metadata": {},
     "output_type": "execute_result"
    }
   ],
   "source": [
    "g[0]"
   ]
  },
  {
   "cell_type": "markdown",
   "metadata": {},
   "source": [
    "# Boundary Probability"
   ]
  },
  {
   "cell_type": "markdown",
   "metadata": {},
   "source": [
    "# Static Body Training\n",
    "\n",
    "** - Loop this until convergence**"
   ]
  },
  {
   "cell_type": "code",
   "execution_count": 31,
   "metadata": {},
   "outputs": [],
   "source": [
    "from keras.layers import Dense, Activation\n",
    "model = Sequential()\n",
    "model.add(Conv2D(16, 5, input_shape=img_resize, activation='elu', dilation_rate=1))\n",
    "model.add(Conv2D(16, 3, activation='elu', dilation_rate=1))\n",
    "model.add(Conv2D(32, 3, activation='elu', dilation_rate=2))\n",
    "model.add(Conv2D(32, 3, activation='elu', dilation_rate=4))\n",
    "model.add(Conv2D(64, 3, activation='elu', dilation_rate=8))\n",
    "model.add(Conv2D(64, 3, activation='elu', dilation_rate=16))\n",
    "model.add(Conv2D(128, 3, activation='elu', dilation_rate=1))"
   ]
  },
  {
   "cell_type": "markdown",
   "metadata": {},
   "source": [
    "## Step 1"
   ]
  },
  {
   "cell_type": "markdown",
   "metadata": {},
   "source": [
    "### Compute Altitude"
   ]
  },
  {
   "cell_type": "markdown",
   "metadata": {},
   "source": [
    "### Determine MSF"
   ]
  },
  {
   "cell_type": "markdown",
   "metadata": {},
   "source": [
    "### Determine Constrained MSF"
   ]
  },
  {
   "cell_type": "markdown",
   "metadata": {},
   "source": [
    "## Step 2 "
   ]
  },
  {
   "cell_type": "markdown",
   "metadata": {},
   "source": [
    "### Identify Root Edges"
   ]
  },
  {
   "cell_type": "markdown",
   "metadata": {},
   "source": [
    "### Define weights"
   ]
  },
  {
   "cell_type": "markdown",
   "metadata": {},
   "source": [
    "### Define Loss"
   ]
  },
  {
   "cell_type": "markdown",
   "metadata": {},
   "source": [
    "## Step 3"
   ]
  },
  {
   "cell_type": "markdown",
   "metadata": {},
   "source": [
    "### Obtain Updated Parameters"
   ]
  },
  {
   "cell_type": "code",
   "execution_count": 261,
   "metadata": {
    "collapsed": true
   },
   "outputs": [],
   "source": [
    "G=nx.grid_2d_graph(4,4) "
   ]
  },
  {
   "cell_type": "code",
   "execution_count": 289,
   "metadata": {},
   "outputs": [
    {
     "data": {
      "text/plain": [
       "[((0, 1), (0, 0), {}),\n",
       " ((0, 1), (1, 1), {}),\n",
       " ((0, 1), (0, 2), {}),\n",
       " ((1, 2), (1, 1), {}),\n",
       " ((1, 2), (1, 3), {}),\n",
       " ((1, 2), (0, 2), {}),\n",
       " ((1, 2), (2, 2), {}),\n",
       " ((3, 2), (3, 1), {}),\n",
       " ((3, 2), (3, 3), {}),\n",
       " ((3, 2), (2, 2), {}),\n",
       " ((0, 0), (1, 0), {}),\n",
       " ((3, 3), (2, 3), {}),\n",
       " ((3, 0), (2, 0), {}),\n",
       " ((3, 0), (3, 1), {}),\n",
       " ((3, 1), (2, 1), {}),\n",
       " ((2, 1), (2, 0), {}),\n",
       " ((2, 1), (1, 1), {}),\n",
       " ((2, 1), (2, 2), {}),\n",
       " ((0, 2), (0, 3), {}),\n",
       " ((2, 0), (1, 0), {}),\n",
       " ((1, 3), (0, 3), {}),\n",
       " ((1, 3), (2, 3), {}),\n",
       " ((2, 3), (2, 2), {}),\n",
       " ((1, 0), (1, 1), {})]"
      ]
     },
     "execution_count": 289,
     "metadata": {},
     "output_type": "execute_result"
    }
   ],
   "source": [
    "G.edges(data=True)"
   ]
  },
  {
   "cell_type": "code",
   "execution_count": 283,
   "metadata": {},
   "outputs": [
    {
     "data": {
      "image/png": "[encoded data removed]",
      "text/plain": [
       "<matplotlib.figure.Figure at 0x7f5477ed7a90>"
      ]
     },
     "metadata": {},
     "output_type": "display_data"
    }
   ],
   "source": [
    "try:\n",
    "    import matplotlib.pyplot as plt\n",
    "except:\n",
    "    raise\n",
    "\n",
    "import networkx as nx\n",
    "\n",
    "G=nx.grid_2d_graph(4,4)  #4x4 grid\n",
    "\n",
    "pos=nx.spring_layout(G,iterations=100)\n",
    "\n",
    "plt.subplot(221)\n",
    "nx.draw(G,pos,font_size=8)\n",
    "\n",
    "plt.subplot(222)\n",
    "nx.draw(G,pos,node_color='k',node_size=0,with_labels=False)\n",
    "\n",
    "plt.subplot(223)\n",
    "nx.draw(G,pos,node_color='g',node_size=250,with_labels=False,width=6)\n",
    "\n",
    "plt.subplot(224)\n",
    "H=G.to_directed()\n",
    "nx.draw(H,pos,node_color='b',node_size=20,with_labels=False)\n",
    "\n",
    "plt.savefig(\"four_grids.png\")\n",
    "plt.show()"
   ]
  },
  {
   "cell_type": "code",
   "execution_count": 284,
   "metadata": {},
   "outputs": [
    {
     "data": {
      "text/plain": [
       "{(0, 0): array([ 0.91422511,  0.2061494 ]),\n",
       " (0, 1): array([ 0.84877055,  0.12895321]),\n",
       " (0, 2): array([ 1.        ,  0.47303276]),\n",
       " (0, 3): array([ 0.93170634,  0.73673599]),\n",
       " (1, 0): array([ 0.60926531,  0.        ]),\n",
       " (1, 1): array([ 0.60466315,  0.25009148]),\n",
       " (1, 2): array([ 0.71095254,  0.61554965]),\n",
       " (1, 3): array([ 0.75176536,  0.92282587]),\n",
       " (2, 0): array([ 0.29153973,  0.03337531]),\n",
       " (2, 1): array([ 0.26504368,  0.33822867]),\n",
       " (2, 2): array([ 0.35147874,  0.70524623]),\n",
       " (2, 3): array([ 0.46804273,  0.99139384]),\n",
       " (3, 0): array([ 0.08985659,  0.19968498]),\n",
       " (3, 1): array([ 0.        ,  0.44334961]),\n",
       " (3, 2): array([ 0.0571532 ,  0.72728501]),\n",
       " (3, 3): array([ 0.22960397,  0.9136958 ])}"
      ]
     },
     "execution_count": 284,
     "metadata": {},
     "output_type": "execute_result"
    }
   ],
   "source": [
    "pos"
   ]
  },
  {
   "cell_type": "code",
   "execution_count": null,
   "metadata": {
    "collapsed": true
   },
   "outputs": [],
   "source": [
    "img = img[0:img_resize[0], 0:img_resize[1]]\n",
    "img = img.astype(np.int16)\n",
    "dtype=None\n",
    "img = np.atleast_3d(img)\n",
    "n_x, n_y, n_z = img.shape\n",
    "edges = _make_edges_3d(n_x, n_y, n_z)\n",
    "weights = _compute_altitude_3d(edges, img)\n",
    "diag = img.ravel()\n",
    "n_voxels = diag.size\n",
    "diag_idx = np.arange(n_voxels)\n",
    "i_idx = np.hstack((edges[0], edges[1]))\n",
    "j_idx = np.hstack((edges[1], edges[0]))\n",
    "matrix = sparse.coo_matrix((np.hstack((weights, weights, diag)),\n",
    "                          (np.hstack((i_idx, diag_idx)),\n",
    "                           np.hstack((j_idx, diag_idx)))),\n",
    "                          (n_voxels, n_voxels),\n",
    "                          dtype=dtype)\n",
    "graph = nx.from_scipy_sparse_matrix(matrix)\n",
    "graph.remove_edges_from(graph.selfloop_edges())"
   ]
  }
 ],
 "metadata": {
  "kernelspec": {
   "display_name": "Python [conda root]",
   "language": "python",
   "name": "conda-root-py"
  },
  "language_info": {
   "codemirror_mode": {
    "name": "ipython",
    "version": 2
   },
   "file_extension": ".py",
   "mimetype": "text/x-python",
   "name": "python",
   "nbconvert_exporter": "python",
   "pygments_lexer": "ipython2",
   "version": "2.7.13"
  }
 },
 "nbformat": 4,
 "nbformat_minor": 2
}
