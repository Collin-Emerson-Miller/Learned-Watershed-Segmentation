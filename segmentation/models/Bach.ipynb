{
 "cells": [
  {
   "cell_type": "code",
   "execution_count": null,
   "metadata": {
    "collapsed": true
   },
   "outputs": [],
   "source": [
    "from __future__ import absolute_import\n",
    "from __future__ import division\n",
    "from __future__ import print_function\n",
    "\n",
    "import numpy as np\n",
    "\n",
    "from keras.models import Sequential, load_model\n",
    "from keras.layers import Conv2D\n",
    "from keras.layers import Flatten, Dense"
   ]
  },
  {
   "cell_type": "code",
   "execution_count": null,
   "metadata": {
    "collapsed": true
   },
   "outputs": [],
   "source": [
    "def build_bach(input_shape):\n",
    "    \"\"\"Builds the a boundary probability model.\n",
    "    \n",
    "    Args:\n",
    "        input_shape (tuple): The input shape of the model.\n",
    "    \n",
    "    \"\"\"\n",
    "\n",
    "    self.receptive_field_shape = (width, height)\n",
    "\n",
    "    self.model = Sequential()\n",
    "\n",
    "    # Layer 1\n",
    "    model.add(Conv2D(filters=32,\n",
    "                    kernel_size=5,\n",
    "                    strides=3,\n",
    "                    padding='valid',\n",
    "                    name=\"Conv_1\",\n",
    "                    activation='relu',\n",
    "                    input_shape=input_shape))\n",
    "\n",
    "    # Layer 2\n",
    "    model.add(Conv2D(filters=256,\n",
    "                     kernel_size=3,\n",
    "                     strides=2,\n",
    "                     padding='valid',\n",
    "                     name=\"Conv_2\",\n",
    "                     activation='relu'))\n",
    "\n",
    "    # Flatten\n",
    "    model.add(Flatten(name='Flatten_1'))\n",
    "    \n",
    "    # Layer 3\n",
    "    model.add(Dense(512,\n",
    "                    activation='sigmoid',\n",
    "                    name='Dense_1'))\n",
    "    model.add(Dense(1,\n",
    "                         activation='sigmoid',\n",
    "                         name='Dense_2'))\n",
    "\n",
    "    # Loss\n",
    "    model.compile(loss='binary_crossentropy',\n",
    "                  optimizer='rmsprop',\n",
    "                  metrics=['accuracy'])\n",
    "\n",
    "def load_model(self):\n",
    "    try:\n",
    "        self.model = load_model('saved_model/Bach/model.h5')\n",
    "    except IOError:\n",
    "        print(\"Could not find model. Creating a new one.\")\n",
    "        self.build(self.receptive_field_shape[0], self.receptive_field_shape[1], 1)\n",
    "        self.model.save('saved_model/Bach/model.h5')"
   ]
  }
 ],
 "metadata": {
  "kernelspec": {
   "display_name": "Python 2",
   "language": "python",
   "name": "python2"
  },
  "language_info": {
   "codemirror_mode": {
    "name": "ipython",
    "version": 2
   },
   "file_extension": ".py",
   "mimetype": "text/x-python",
   "name": "python",
   "nbconvert_exporter": "python",
   "pygments_lexer": "ipython2",
   "version": "2.7.13"
  }
 },
 "nbformat": 4,
 "nbformat_minor": 2
}
