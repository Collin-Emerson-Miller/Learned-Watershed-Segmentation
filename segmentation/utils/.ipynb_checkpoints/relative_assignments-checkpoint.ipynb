{
 "cells": [
  {
   "cell_type": "code",
   "execution_count": null,
   "metadata": {
    "collapsed": true
   },
   "outputs": [],
   "source": [
    "from __future__ import absolute_import\n",
    "from __future__ import division\n",
    "from __future__ import print_function\n",
    "\n",
    "import pr"
   ]
  },
  {
   "cell_type": "code",
   "execution_count": null,
   "metadata": {
    "collapsed": true
   },
   "outputs": [],
   "source": [
    "class RelativeAssignments:\n",
    "    def __init__(self, seeds, image_size, receptive_field_shape):\n",
    "        self.receptive_field_shape = receptive_field_shape\n",
    "        self.seeds = seeds\n",
    "        self.image_size = image_size\n",
    "        self._rgb = np.zeros((len(seeds), image_size[0], image_size[1], 3))\n",
    "        self._rgb[:, :, :] = [0, 0, 1]\n",
    "\n",
    "        npad = ((0, 0), (receptive_field_shape[0] // 2, receptive_field_shape[1] // 2),\n",
    "                (receptive_field_shape[0] // 2, receptive_field_shape[1] // 2), (0, 0))\n",
    "\n",
    "        self._padded_rgb = np.pad(self._rgb, npad, 'edge')\n",
    "\n",
    "    def assign_node(self, node, seed_index):\n",
    "        x = node[0] + self.receptive_field_shape[0] // 2\n",
    "        y = node[1] + self.receptive_field_shape[1] // 2\n",
    "\n",
    "        self._padded_rgb[:seed_index, x, y] = [1, 0, 0]\n",
    "        self._padded_rgb[seed_index, x, y] = [0, 1, 0]\n",
    "        self._padded_rgb[seed_index + 1:, x, y] = [1, 0, 0]\n",
    "\n",
    "        return\n",
    "\n",
    "    def get_node_image(self, node, seed):\n",
    "        seed_index = self.seeds.index(seed)\n",
    "\n",
    "        return utils.crop_2d(self._padded_rgb[seed_index], node,\n",
    "                             self.receptive_field_shape[0],\n",
    "                             self.receptive_field_shape[1])"
   ]
  }
 ],
 "metadata": {
  "kernelspec": {
   "display_name": "Python 2",
   "language": "python",
   "name": "python2"
  },
  "language_info": {
   "codemirror_mode": {
    "name": "ipython",
    "version": 2
   },
   "file_extension": ".py",
   "mimetype": "text/x-python",
   "name": "python",
   "nbconvert_exporter": "python",
   "pygments_lexer": "ipython2",
   "version": "2.7.13"
  }
 },
 "nbformat": 4,
 "nbformat_minor": 2
}
