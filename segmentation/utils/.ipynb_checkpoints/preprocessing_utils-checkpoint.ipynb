{
 "cells": [
  {
   "cell_type": "code",
   "execution_count": 1,
   "metadata": {
    "collapsed": true
   },
   "outputs": [],
   "source": [
    "def load_image(foldername, name, img_path, gt_path):\n",
    "    \n",
    "    if os.path.exists(foldername):\n",
    "        shutil.rmtree(foldername)\n",
    "\n",
    "    os.makedirs(foldername)\n",
    "    \n",
    "    img = cv2.imread(img_path, 0)\n",
    "    gt = cv2.imread(gt_path, 0)\n",
    "    \n",
    "    print(gt_path)\n",
    "    \n",
    "    os.system(\"gmic -v -1 \" + gt_path + \" -channels 1 -threshold 10% -negative -label_fg 0,0 -o -.asc | tail -n +2 | awk '{ for (i = 1; i<=NF; i++) {x[$i] += i; y[$i] += NR; n[$i]++; } } END { for (v in x) print x[v]/n[v],y[v]/n[v] }' > \" + foldername + \"/seeds.txt\")\n",
    "\n",
    "    seeds = []\n",
    "    f = open(foldername + \"/seeds.txt\", 'r')\n",
    "    for line in f:\n",
    "        y = int(float(re.split(' ', line)[0]))\n",
    "        x = int(float(re.split(' ', line)[1]))\n",
    "        seed = (x - 1, y - 1)\n",
    "        seeds.append(seed)\n",
    "\n",
    "    seeds = seeds[1:]\n",
    "    \n",
    "    return img, gt, seeds"
   ]
  },
  {
   "cell_type": "code",
   "execution_count": null,
   "metadata": {
    "collapsed": true
   },
   "outputs": [],
   "source": [
    "def crop_2d(image, top_left_corner, height, width):\n",
    "    \"\"\"\n",
    "    Returns a crop of an image.\n",
    "\n",
    "    Args:\n",
    "        image: The original image to be cropped.\n",
    "        top_left_corner: The coordinates of the top left corner of the image.\n",
    "        height: The hight of the crop.\n",
    "        width: The width of the crop.\n",
    "\n",
    "    Returns:\n",
    "        A cropped version of the original image.\n",
    "    \"\"\"\n",
    "\n",
    "    x_start = top_left_corner[0]\n",
    "    y_start = top_left_corner[1]\n",
    "    x_end = x_start + width\n",
    "    y_end = y_start + height\n",
    "\n",
    "    return image[x_start:x_end, y_start:y_end, ...]"
   ]
  },
  {
   "cell_type": "code",
   "execution_count": null,
   "metadata": {
    "collapsed": true
   },
   "outputs": [],
   "source": [
    "def pad_for_window(img, height, width, padding_type='reflect'):\n",
    "    npad = ((height // 2, width // 2), (height // 2, width // 2), (0, 0))\n",
    "    return np.pad(img, npad, padding_type)"
   ]
  },
  {
   "cell_type": "code",
   "execution_count": null,
   "metadata": {
    "collapsed": true
   },
   "outputs": [],
   "source": [
    "def prepare_input_images(img, height=15, width=15):\n",
    "    \"\"\"\n",
    "    Preprocess images to be used in the prediction of the edges.\n",
    "\n",
    "    Args:\n",
    "        image (numpy.array):\n",
    "    \"\"\"\n",
    "\n",
    "    # Standardize input\n",
    "    if len(img.shape) == 2:\n",
    "        img = np.expand_dims(img, axis=2)\n",
    "\n",
    "    padded_image = pad_for_window(img, height, width)\n",
    "\n",
    "    images = []\n",
    "\n",
    "    for index in np.ndindex(img.shape[:-1]):\n",
    "        images.append(crop_2d(padded_image, index, height, width))\n",
    "\n",
    "    return np.stack(images)"
   ]
  },
  {
   "cell_type": "code",
   "execution_count": null,
   "metadata": {
    "collapsed": true
   },
   "outputs": [],
   "source": [
    "def create_batches(x, max_batch_size=32):\n",
    "    \"\"\"\n",
    "\n",
    "    Args:\n",
    "        x: A numpy array of the input data\n",
    "        y: A numpy array of the output\n",
    "        max_batch_size: The maximum elements in each batch.\n",
    "\n",
    "    Returns: A list of batches.\n",
    "\n",
    "    \"\"\"\n",
    "\n",
    "    batches = math.ceil(x.shape[0] / max_batch_size)\n",
    "    x = np.array_split(x, batches)\n",
    "\n",
    "    return x"
   ]
  }
 ],
 "metadata": {
  "kernelspec": {
   "display_name": "Python 2",
   "language": "python",
   "name": "python2"
  },
  "language_info": {
   "codemirror_mode": {
    "name": "ipython",
    "version": 2
   },
   "file_extension": ".py",
   "mimetype": "text/x-python",
   "name": "python",
   "nbconvert_exporter": "python",
   "pygments_lexer": "ipython2",
   "version": "2.7.13"
  }
 },
 "nbformat": 4,
 "nbformat_minor": 2
}
