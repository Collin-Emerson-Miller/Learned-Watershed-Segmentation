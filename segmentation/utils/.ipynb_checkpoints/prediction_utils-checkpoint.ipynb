{
 "cells": [
  {
   "cell_type": "code",
   "execution_count": 1,
   "metadata": {
    "collapsed": true
   },
   "outputs": [],
   "source": [
    "from __future__ import absolute_import\n",
    "from __future__ import division\n",
    "from __future__ import print_function\n",
    "\n",
    "import numpy as np\n",
    "import preprocessing_utils"
   ]
  },
  {
   "cell_type": "code",
   "execution_count": 2,
   "metadata": {
    "collapsed": true
   },
   "outputs": [],
   "source": [
    "def boundary_probabilities(bach, image, batch_size=32, width=23, height=23, verbose=0):\n",
    "\n",
    "    images = preprocessing_utils.prepare_input_images(image, width=width, height=height)\n",
    "\n",
    "    probabilities = bach.model.predict(images, batch_size=batch_size,\n",
    "                                       verbose=verbose)\n",
    "\n",
    "    probabilities = np.reshape(probabilities, image.shape)\n",
    "\n",
    "    return probabilities"
   ]
  }
 ],
 "metadata": {
  "kernelspec": {
   "display_name": "Python 2",
   "language": "python",
   "name": "python2"
  },
  "language_info": {
   "codemirror_mode": {
    "name": "ipython",
    "version": 2
   },
   "file_extension": ".py",
   "mimetype": "text/x-python",
   "name": "python",
   "nbconvert_exporter": "python",
   "pygments_lexer": "ipython2",
   "version": "2.7.13"
  }
 },
 "nbformat": 4,
 "nbformat_minor": 2
}
