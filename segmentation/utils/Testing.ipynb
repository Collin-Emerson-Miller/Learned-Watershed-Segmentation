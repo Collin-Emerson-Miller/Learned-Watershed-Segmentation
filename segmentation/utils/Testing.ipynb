{
 "cells": [
  {
   "cell_type": "code",
   "execution_count": 8,
   "metadata": {},
   "outputs": [],
   "source": [
    "# Crafted by Collin Miller"
   ]
  },
  {
   "cell_type": "code",
   "execution_count": 9,
   "metadata": {
    "collapsed": true
   },
   "outputs": [],
   "source": [
    "# Compatability imports.\n",
    "from __future__ import absolute_import\n",
    "from __future__ import division\n",
    "from __future__ import print_function"
   ]
  },
  {
   "cell_type": "code",
   "execution_count": 16,
   "metadata": {
    "collapsed": true
   },
   "outputs": [],
   "source": [
    "import cremi\n",
    "from cremi.evaluation import NeuronIds\n",
    "from cremi.io import CremiFile\n",
    "\n",
    "import numpy as np"
   ]
  },
  {
   "cell_type": "code",
   "execution_count": 11,
   "metadata": {
    "collapsed": true
   },
   "outputs": [],
   "source": [
    "def get_metrics(test, truth):\n",
    "    \"\"\"Returns metrics defined by the CREMI challenge.\n",
    "    \n",
    "    The metrics for this challenge include 1) the VOI split,\n",
    "    2) VOI merge, and 3) adapted rand score. \n",
    "    \n",
    "    Args:\n",
    "        test: A `numpy` array of the segmentations that have\n",
    "        been generated and wil be tested on.\n",
    "        truth: A `numpy` array of ground truth segmentations that\n",
    "        have been generated andwil be tested on.\n",
    "        \n",
    "    Returns:\n",
    "        voi split, voi merge, adapted rand\n",
    "\n",
    "    Example:\n",
    "    \n",
    "    >>> segmentations = np.random.rand(10, 100, 10)\n",
    "    >>> ground_truths = np.ones((10, 100, 10), dtype=np.uint8)\n",
    "    >>> voi_split, voi_merge, adapted_rand = get_metrics(segmentations,\n",
    "                                                         ground_truths)\n",
    "    \n",
    "    \"\"\"\n",
    "    \n",
    "    # Open an H5 file so that the cremi_python tool can be used.\n",
    "    truth_file = cremi.CremiFile(\"ground_truth.h5\", \"w\")\n",
    "    test_file = cremi.CremiFile(\"segmentations.h5\", \"w\")\n",
    "    \n",
    "    test_ids = cremi.Volume(test)\n",
    "    truth_ids = cremi.Volume(truth)\n",
    "    \n",
    "    truth_file.write_neuron_ids(truth_ids)\n",
    "    test_file.write_neuron_ids(test_ids)\n",
    "    \n",
    "    truth_file.close()\n",
    "    test_file.close()\n",
    "    \n",
    "    truth_file = CremiFile('segmentations.h5', 'r')\n",
    "    test_file = CremiFile('ground_truth.h5', 'r')\n",
    "    \n",
    "    neuron_ids_evaluation = NeuronIds(truth_file.read_neuron_ids())\n",
    "\n",
    "    (voi_split, voi_merge) = neuron_ids_evaluation.voi(test_file.read_neuron_ids())\n",
    "    adapted_rand = neuron_ids_evaluation.adapted_rand(test_file.read_neuron_ids())\n",
    "\n",
    "    truth_file.close()\n",
    "    test_file.close()\n",
    "    \n",
    "    return voi_split, voi_merge, adapted_rand"
   ]
  },
  {
   "cell_type": "code",
   "execution_count": 18,
   "metadata": {
    "collapsed": true
   },
   "outputs": [],
   "source": [
    "testing = np.random.rand(100, 100)\n",
    "truths = np.random.rand(100, 100)"
   ]
  },
  {
   "cell_type": "code",
   "execution_count": 22,
   "metadata": {},
   "outputs": [
    {
     "data": {
      "text/plain": [
       "dtype('float64')"
      ]
     },
     "execution_count": 22,
     "metadata": {},
     "output_type": "execute_result"
    }
   ],
   "source": [
    "testing.dtype"
   ]
  },
  {
   "cell_type": "code",
   "execution_count": 19,
   "metadata": {
    "collapsed": true
   },
   "outputs": [],
   "source": []
  },
  {
   "cell_type": "code",
   "execution_count": 40,
   "metadata": {},
   "outputs": [
    {
     "name": "stdout",
     "output_type": "stream",
     "text": [
      "Computing VOI...\n",
      "Computing RAND...\n"
     ]
    },
    {
     "data": {
      "text/plain": [
       "(0.0, 0.0, 0.99999998000000023)"
      ]
     },
     "execution_count": 40,
     "metadata": {},
     "output_type": "execute_result"
    }
   ],
   "source": [
    "get_metrics(testing.astype(np.uint16), truths.astype(np.uint16))"
   ]
  },
  {
   "cell_type": "code",
   "execution_count": null,
   "metadata": {
    "collapsed": true
   },
   "outputs": [],
   "source": []
  }
 ],
 "metadata": {
  "kernelspec": {
   "display_name": "Python 2",
   "language": "python",
   "name": "python2"
  },
  "language_info": {
   "codemirror_mode": {
    "name": "ipython",
    "version": 2
   },
   "file_extension": ".py",
   "mimetype": "text/x-python",
   "name": "python",
   "nbconvert_exporter": "python",
   "pygments_lexer": "ipython2",
   "version": "2.7.13"
  }
 },
 "nbformat": 4,
 "nbformat_minor": 2
}
