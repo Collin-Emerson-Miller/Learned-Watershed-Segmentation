{
 "cells": [
  {
   "cell_type": "code",
   "execution_count": 1,
   "metadata": {
    "collapsed": true
   },
   "outputs": [],
   "source": [
    "# Crafted by Collin Miller"
   ]
  },
  {
   "cell_type": "code",
   "execution_count": 2,
   "metadata": {
    "collapsed": true
   },
   "outputs": [],
   "source": [
    "from __future__ import absolute_import\n",
    "from __future__ import division\n",
    "from __future__ import print_function"
   ]
  },
  {
   "cell_type": "code",
   "execution_count": 21,
   "metadata": {
    "collapsed": true
   },
   "outputs": [],
   "source": [
    "import h5py\n",
    "import numpy as np\n",
    "import sys"
   ]
  },
  {
   "cell_type": "code",
   "execution_count": 9,
   "metadata": {
    "collapsed": true
   },
   "outputs": [],
   "source": [
    "resize = True"
   ]
  },
  {
   "cell_type": "code",
   "execution_count": 4,
   "metadata": {
    "collapsed": true
   },
   "outputs": [],
   "source": [
    "def get_cremi_data(file_path):\n",
    "    \"\"\"Returns the raw data and neuron ids.\n",
    "    \n",
    "    \"\"\"\n",
    "    \n",
    "    # Get neuron ids from Cremi data.\n",
    "    with h5py.File(file_path, \"r\") as hdf:\n",
    "        print (\"Initializing...\")\n",
    "        labels = hdf['volumes']['labels']['neuron_ids'][:]\n",
    "        raw = hdf['volumes']['raw'].value\n",
    "        print (\"Done!\")\n",
    "        \n",
    "    return raw, labels"
   ]
  },
  {
   "cell_type": "code",
   "execution_count": 6,
   "metadata": {},
   "outputs": [
    {
     "name": "stdout",
     "output_type": "stream",
     "text": [
      "Initializing...\n",
      "Done!\n"
     ]
    }
   ],
   "source": [
    "r, l = get_cremi_data(\"cremi_data/train/sample_A_20160501.hdf\")"
   ]
  },
  {
   "cell_type": "code",
   "execution_count": 10,
   "metadata": {
    "collapsed": true
   },
   "outputs": [],
   "source": [
    "def ids_to_segmentation(neuron_ids):\n",
    "    \"\"\"\n",
    "    Given a numpy array containing the neuron ids for a CREMI neural segmentation image,\n",
    "    this function returns the ground segmentation image where a segmentation boundary\n",
    "    is a white pixel and everything else is a black pixel.\n",
    "    Args:\n",
    "        neuron_ids: A numpy array containing the neuron ids of a segmentation image.\n",
    "    Returns:\n",
    "        A numpy array of ground truth segmentations.\n",
    "    \"\"\"\n",
    "\n",
    "    edges_right = neuron_ids[:, :-1].ravel() != neuron_ids[:, 1:].ravel()\n",
    "    edges_down = neuron_ids[:-1].ravel() != neuron_ids[1:].ravel()\n",
    "\n",
    "    edges_down = edges_down.reshape((neuron_ids.shape[0] - 1, neuron_ids.shape[1]))\n",
    "    edges_right = edges_right.reshape((neuron_ids.shape[0], neuron_ids.shape[1] - 1))\n",
    "\n",
    "    segmentations = np.zeros_like(neuron_ids)\n",
    "\n",
    "    for index, x in np.ndenumerate(edges_down):\n",
    "        if x:\n",
    "            segmentations[index] = 255\n",
    "            segmentations[index[0] + 1][index[1]] = 255\n",
    "\n",
    "    for index, x in np.ndenumerate(edges_right):\n",
    "        if x:\n",
    "            segmentations[index] = 255\n",
    "            segmentations[index[0]][index[1] + 1] = 255\n",
    "\n",
    "    return segmentations"
   ]
  },
  {
   "cell_type": "code",
   "execution_count": null,
   "metadata": {
    "collapsed": true
   },
   "outputs": [],
   "source": []
  },
  {
   "cell_type": "code",
   "execution_count": 24,
   "metadata": {},
   "outputs": [
    {
     "name": "stdout",
     "output_type": "stream",
     "text": [
      "Converting to ground truth segmentations.\n",
      "This may take a while...\n",
      "Progress\t[99%]"
     ]
    }
   ],
   "source": [
    "# Initialize segmentation image placeholder.\n",
    "gt_segmentations = np.zeros_like(l)\n",
    "\n",
    "# Iterate through slices and save segmentations to\n",
    "# ground truth segmentations array.\n",
    "print(\"Converting to ground truth segmentations.\")\n",
    "print(\"This may take a while...\")\n",
    "for index, x in enumerate(l):\n",
    "    progress = index/len(l) * 100\n",
    "    sys.stdout.write(\"\\rProgress\\t[%d%%]\" % progress)\n",
    "    sys.stdout.flush()\n",
    "    gt_segmentations[index] = ids_to_segmentation(x)"
   ]
  },
  {
   "cell_type": "code",
   "execution_count": 19,
   "metadata": {},
   "outputs": [
    {
     "ename": "ValueError",
     "evalue": "cannot reshape array of size 193750000 into shape (124,1250)",
     "output_type": "error",
     "traceback": [
      "\u001b[0;31m---------------------------------------------------------------------------\u001b[0m",
      "\u001b[0;31mValueError\u001b[0m                                Traceback (most recent call last)",
      "\u001b[0;32m<ipython-input-19-17e66376fde1>\u001b[0m in \u001b[0;36m<module>\u001b[0;34m()\u001b[0m\n\u001b[0;32m----> 1\u001b[0;31m \u001b[0mids_to_segmentation\u001b[0m\u001b[0;34m(\u001b[0m\u001b[0ml\u001b[0m\u001b[0;34m)\u001b[0m\u001b[0;34m\u001b[0m\u001b[0m\n\u001b[0m",
      "\u001b[0;32m<ipython-input-10-15e92b88cd63>\u001b[0m in \u001b[0;36mids_to_segmentation\u001b[0;34m(neuron_ids)\u001b[0m\n\u001b[1;32m     13\u001b[0m     \u001b[0medges_down\u001b[0m \u001b[0;34m=\u001b[0m \u001b[0mneuron_ids\u001b[0m\u001b[0;34m[\u001b[0m\u001b[0;34m:\u001b[0m\u001b[0;34m-\u001b[0m\u001b[0;36m1\u001b[0m\u001b[0;34m]\u001b[0m\u001b[0;34m.\u001b[0m\u001b[0mravel\u001b[0m\u001b[0;34m(\u001b[0m\u001b[0;34m)\u001b[0m \u001b[0;34m!=\u001b[0m \u001b[0mneuron_ids\u001b[0m\u001b[0;34m[\u001b[0m\u001b[0;36m1\u001b[0m\u001b[0;34m:\u001b[0m\u001b[0;34m]\u001b[0m\u001b[0;34m.\u001b[0m\u001b[0mravel\u001b[0m\u001b[0;34m(\u001b[0m\u001b[0;34m)\u001b[0m\u001b[0;34m\u001b[0m\u001b[0m\n\u001b[1;32m     14\u001b[0m \u001b[0;34m\u001b[0m\u001b[0m\n\u001b[0;32m---> 15\u001b[0;31m     \u001b[0medges_down\u001b[0m \u001b[0;34m=\u001b[0m \u001b[0medges_down\u001b[0m\u001b[0;34m.\u001b[0m\u001b[0mreshape\u001b[0m\u001b[0;34m(\u001b[0m\u001b[0;34m(\u001b[0m\u001b[0mneuron_ids\u001b[0m\u001b[0;34m.\u001b[0m\u001b[0mshape\u001b[0m\u001b[0;34m[\u001b[0m\u001b[0;36m0\u001b[0m\u001b[0;34m]\u001b[0m \u001b[0;34m-\u001b[0m \u001b[0;36m1\u001b[0m\u001b[0;34m,\u001b[0m \u001b[0mneuron_ids\u001b[0m\u001b[0;34m.\u001b[0m\u001b[0mshape\u001b[0m\u001b[0;34m[\u001b[0m\u001b[0;36m1\u001b[0m\u001b[0;34m]\u001b[0m\u001b[0;34m)\u001b[0m\u001b[0;34m)\u001b[0m\u001b[0;34m\u001b[0m\u001b[0m\n\u001b[0m\u001b[1;32m     16\u001b[0m     \u001b[0medges_right\u001b[0m \u001b[0;34m=\u001b[0m \u001b[0medges_right\u001b[0m\u001b[0;34m.\u001b[0m\u001b[0mreshape\u001b[0m\u001b[0;34m(\u001b[0m\u001b[0;34m(\u001b[0m\u001b[0mneuron_ids\u001b[0m\u001b[0;34m.\u001b[0m\u001b[0mshape\u001b[0m\u001b[0;34m[\u001b[0m\u001b[0;36m0\u001b[0m\u001b[0;34m]\u001b[0m\u001b[0;34m,\u001b[0m \u001b[0mneuron_ids\u001b[0m\u001b[0;34m.\u001b[0m\u001b[0mshape\u001b[0m\u001b[0;34m[\u001b[0m\u001b[0;36m1\u001b[0m\u001b[0;34m]\u001b[0m \u001b[0;34m-\u001b[0m \u001b[0;36m1\u001b[0m\u001b[0;34m)\u001b[0m\u001b[0;34m)\u001b[0m\u001b[0;34m\u001b[0m\u001b[0m\n\u001b[1;32m     17\u001b[0m \u001b[0;34m\u001b[0m\u001b[0m\n",
      "\u001b[0;31mValueError\u001b[0m: cannot reshape array of size 193750000 into shape (124,1250)"
     ]
    }
   ],
   "source": [
    "ids_to_segmentation(l)"
   ]
  },
  {
   "cell_type": "code",
   "execution_count": 8,
   "metadata": {},
   "outputs": [
    {
     "data": {
      "text/plain": [
       "(125, 1250, 1250)"
      ]
     },
     "execution_count": 8,
     "metadata": {},
     "output_type": "execute_result"
    }
   ],
   "source": [
    "if resize:\n",
    "    new_size = (100, 100)\n",
    "\n",
    "    tl_corner = (randint(0, (img.shape[0] - new_size[0])),\n",
    "                 randint(0, (img.shape[1] - new_size[1])))\n",
    "\n",
    "    resized_img = preprocessing_utils.crop_2d(img, tl_corner, new_size[0], new_size[1])\n",
    "    resized_gt = preprocessing_utils.crop_2d(gt, tl_corner, new_size[0], new_size[1])"
   ]
  }
 ],
 "metadata": {
  "kernelspec": {
   "display_name": "Python 2",
   "language": "python",
   "name": "python2"
  },
  "language_info": {
   "codemirror_mode": {
    "name": "ipython",
    "version": 2
   },
   "file_extension": ".py",
   "mimetype": "text/x-python",
   "name": "python",
   "nbconvert_exporter": "python",
   "pygments_lexer": "ipython2",
   "version": "2.7.14"
  }
 },
 "nbformat": 4,
 "nbformat_minor": 2
}
