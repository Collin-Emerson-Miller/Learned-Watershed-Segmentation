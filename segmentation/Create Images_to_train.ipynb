{
 "cells": [
  {
   "cell_type": "code",
   "execution_count": 2,
   "metadata": {
    "collapsed": true
   },
   "outputs": [],
   "source": [
    "from __future__ import absolute_import\n",
    "from __future__ import division\n",
    "from __future__ import print_function\n",
    "\n",
    "import os"
   ]
  },
  {
   "cell_type": "code",
   "execution_count": 10,
   "metadata": {
    "collapsed": true
   },
   "outputs": [],
   "source": [
    "train_path = \"data/train/input/\"\n",
    "gt_tag = \"gt\""
   ]
  },
  {
   "cell_type": "code",
   "execution_count": 28,
   "metadata": {
    "collapsed": true
   },
   "outputs": [],
   "source": [
    "images_to_train = file(\"images_to_train.txt\", \"w\")\n",
    "\n",
    "for filename in os.listdir(train_path):\n",
    "    \n",
    "    f_name, ext = os.path.splitext(filename)\n",
    "    \n",
    "    if gt_tag in f_name.split(\"_\"):\n",
    "        continue\n",
    "        \n",
    "    gt_filename = f_name + \"_\" + gt_tag\n",
    "    \n",
    "    gt_path = os.path.join(train_path, (gt_filename + ext))\n",
    "        \n",
    "    if not os.path.isfile(gt_path):\n",
    "        continue\n",
    "        \n",
    "    image_path = os.path.join(train_path, filename)\n",
    "    \n",
    "    write = \"{}\\t{}\\t{}\\n\".format(f_name, image_path, gt_path)\n",
    "    \n",
    "    images_to_train.write(write)\n",
    "\n",
    "images_to_train.close()"
   ]
  }
 ],
 "metadata": {
  "kernelspec": {
   "display_name": "Python 2",
   "language": "python",
   "name": "python2"
  },
  "language_info": {
   "codemirror_mode": {
    "name": "ipython",
    "version": 2
   },
   "file_extension": ".py",
   "mimetype": "text/x-python",
   "name": "python",
   "nbconvert_exporter": "python",
   "pygments_lexer": "ipython2",
   "version": "2.7.13"
  }
 },
 "nbformat": 4,
 "nbformat_minor": 2
}
