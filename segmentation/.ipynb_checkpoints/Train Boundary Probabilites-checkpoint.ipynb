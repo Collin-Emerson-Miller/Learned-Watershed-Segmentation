{
 "cells": [
  {
   "cell_type": "code",
   "execution_count": 2,
   "metadata": {},
   "outputs": [
    {
     "name": "stderr",
     "output_type": "stream",
     "text": [
      "Using TensorFlow backend.\n"
     ]
    }
   ],
   "source": [
    "from __future__ import absolute_import\n",
    "from __future__ import division\n",
    "from __future__ import print_function\n",
    "\n",
    "import matplotlib.pyplot as plt\n",
    "%matplotlib inline\n",
    "\n",
    "import cv2\n",
    "import numpy as np\n",
    "\n",
    "import os\n",
    "import sys\n",
    "\n",
    "from models import BachNet\n",
    "from utils import preprocessing_utils"
   ]
  },
  {
   "cell_type": "code",
   "execution_count": 3,
   "metadata": {
    "collapsed": true
   },
   "outputs": [],
   "source": [
    "bach = BachNet.BachNet()"
   ]
  },
  {
   "cell_type": "code",
   "execution_count": 4,
   "metadata": {
    "collapsed": true
   },
   "outputs": [],
   "source": [
    "train_path = \"data/train/input/\"\n",
    "path_to_original_images = \"original/\"\n",
    "path_to_gt_images = \"gt/\"\n",
    "\n",
    "gt_tag = \"gt\"\n",
    "\n",
    "receptive_field_shape = (12, 12)"
   ]
  },
  {
   "cell_type": "code",
   "execution_count": 5,
   "metadata": {},
   "outputs": [
    {
     "name": "stdout",
     "output_type": "stream",
     "text": [
      "Loading Images\n",
      "\r",
      "Progress: 0.00% || 0/2\r",
      "Progress: 0.50% || 1/2\r",
      "Progress: Done! || 2/2"
     ]
    }
   ],
   "source": [
    "print(\"Loading Images\")\n",
    "\n",
    "X = []\n",
    "Y = []\n",
    "\n",
    "files = os.listdir(train_path)\n",
    "\n",
    "for i, filename in enumerate(files):\n",
    "    \n",
    "    sys.stdout.write(\"\\rProgress: %.2f%% || %d/%d\" % (i / len(files),\n",
    "                                                      i,\n",
    "                                                      len(files)))\n",
    "    \n",
    "    \n",
    "    f_name, ext = os.path.splitext(filename)\n",
    "    \n",
    "    if gt_tag in f_name.split(\"_\"):\n",
    "        continue\n",
    "        \n",
    "    gt_filename = f_name + \"_\" + gt_tag\n",
    "    \n",
    "    gt_path = os.path.join(train_path, (gt_filename + ext))\n",
    "        \n",
    "    if not os.path.isfile(gt_path):\n",
    "        continue\n",
    "        \n",
    "    foldername = \"data/train/chopin/\" + f_name\n",
    "        \n",
    "    image_path = os.path.join(train_path, filename)\n",
    "        \n",
    "    img = cv2.imread(image_path, 0)\n",
    "    \n",
    "    x = preprocessing_utils.prepare_input_images(img, width=receptive_field_shape[0],\n",
    "                                                 height=receptive_field_shape[1])\n",
    "    \n",
    "    X.append(x)\n",
    "\n",
    "    gt = cv2.imread(gt_path, 0)\n",
    "    y = np.zeros_like(gt)\n",
    "    y[gt == 255] = 1\n",
    "    y = y.flatten()\n",
    "    \n",
    "    Y.append(y)\n",
    "    \n",
    "X = np.concatenate(X)\n",
    "Y = np.concatenate(Y)\n",
    "\n",
    "sys.stdout.write(\"\\rProgress: Done! || %d/%d\" % (len(files),\n",
    "                                                len(files)))\n",
    "sys.stdout.flush()"
   ]
  },
  {
   "cell_type": "code",
   "execution_count": 6,
   "metadata": {},
   "outputs": [
    {
     "data": {
      "text/plain": [
       "<matplotlib.image.AxesImage at 0x7fd4439542d0>"
      ]
     },
     "execution_count": 6,
     "metadata": {},
     "output_type": "execute_result"
    },
    {
     "data": {
      "image/png": "[encoded data removed]",
      "text/plain": [
       "<matplotlib.figure.Figure at 0x7fd443988e10>"
      ]
     },
     "metadata": {},
     "output_type": "display_data"
    }
   ],
   "source": [
    "plt.imshow(img, cmap='gray')"
   ]
  },
  {
   "cell_type": "code",
   "execution_count": 7,
   "metadata": {},
   "outputs": [
    {
     "name": "stdout",
     "output_type": "stream",
     "text": [
      "(7128, 12, 12, 1) (7128,)\n"
     ]
    }
   ],
   "source": [
    "print(X.shape, Y.shape)"
   ]
  },
  {
   "cell_type": "code",
   "execution_count": 8,
   "metadata": {
    "collapsed": true
   },
   "outputs": [],
   "source": [
    "bach.build(receptive_field_shape, 1)"
   ]
  },
  {
   "cell_type": "code",
   "execution_count": 9,
   "metadata": {
    "scrolled": true
   },
   "outputs": [
    {
     "name": "stdout",
     "output_type": "stream",
     "text": [
      "Epoch 1/35\n",
      "7128/7128 [==============================] - 0s - loss: 0.2130 - acc: 0.9273     \n",
      "Epoch 2/35\n",
      "7128/7128 [==============================] - 0s - loss: 0.1131 - acc: 0.9548     \n",
      "Epoch 3/35\n",
      "7128/7128 [==============================] - 0s - loss: 0.0977 - acc: 0.9600     \n",
      "Epoch 4/35\n",
      "7128/7128 [==============================] - 0s - loss: 0.0828 - acc: 0.9652     \n",
      "Epoch 5/35\n",
      "7128/7128 [==============================] - 0s - loss: 0.0778 - acc: 0.9684     \n",
      "Epoch 6/35\n",
      "7128/7128 [==============================] - 0s - loss: 0.0699 - acc: 0.9724     \n",
      "Epoch 7/35\n",
      "7128/7128 [==============================] - 0s - loss: 0.0593 - acc: 0.9750     \n",
      "Epoch 8/35\n",
      "7128/7128 [==============================] - 0s - loss: 0.0541 - acc: 0.9771     \n",
      "Epoch 9/35\n",
      "7128/7128 [==============================] - 0s - loss: 0.0482 - acc: 0.9804     \n",
      "Epoch 10/35\n",
      "7128/7128 [==============================] - 0s - loss: 0.0440 - acc: 0.9830     \n",
      "Epoch 11/35\n",
      "7128/7128 [==============================] - 0s - loss: 0.0427 - acc: 0.9840     \n",
      "Epoch 12/35\n",
      "7128/7128 [==============================] - 0s - loss: 0.0378 - acc: 0.9855     \n",
      "Epoch 13/35\n",
      "7128/7128 [==============================] - 0s - loss: 0.0318 - acc: 0.9888     \n",
      "Epoch 14/35\n",
      "7128/7128 [==============================] - 0s - loss: 0.0300 - acc: 0.9882     \n",
      "Epoch 15/35\n",
      "7128/7128 [==============================] - 0s - loss: 0.0321 - acc: 0.9874     \n",
      "Epoch 16/35\n",
      "7128/7128 [==============================] - 0s - loss: 0.0260 - acc: 0.9917     \n",
      "Epoch 17/35\n",
      "7128/7128 [==============================] - 0s - loss: 0.0227 - acc: 0.9913     \n",
      "Epoch 18/35\n",
      "7128/7128 [==============================] - 0s - loss: 0.0168 - acc: 0.9955     \n",
      "Epoch 19/35\n",
      "7128/7128 [==============================] - 0s - loss: 0.0156 - acc: 0.9955     \n",
      "Epoch 20/35\n",
      "7128/7128 [==============================] - 0s - loss: 0.0166 - acc: 0.9942     \n",
      "Epoch 21/35\n",
      "7128/7128 [==============================] - 0s - loss: 0.0160 - acc: 0.9949     \n",
      "Epoch 22/35\n",
      "7128/7128 [==============================] - 0s - loss: 0.0168 - acc: 0.9938     \n",
      "Epoch 23/35\n",
      "7128/7128 [==============================] - 0s - loss: 0.0189 - acc: 0.9928     \n",
      "Epoch 24/35\n",
      "7128/7128 [==============================] - 0s - loss: 0.0155 - acc: 0.9941     \n",
      "Epoch 25/35\n",
      "7128/7128 [==============================] - 0s - loss: 0.0120 - acc: 0.9962     \n",
      "Epoch 26/35\n",
      "7128/7128 [==============================] - 0s - loss: 0.0126 - acc: 0.9952     \n",
      "Epoch 27/35\n",
      "7128/7128 [==============================] - 0s - loss: 0.0127 - acc: 0.9964     \n",
      "Epoch 28/35\n",
      "7128/7128 [==============================] - 0s - loss: 0.0113 - acc: 0.9965     \n",
      "Epoch 29/35\n",
      "7128/7128 [==============================] - 0s - loss: 0.0096 - acc: 0.9978     \n",
      "Epoch 30/35\n",
      "7128/7128 [==============================] - 0s - loss: 0.0188 - acc: 0.9920     \n",
      "Epoch 31/35\n",
      "7128/7128 [==============================] - 0s - loss: 0.0263 - acc: 0.9902     \n",
      "Epoch 32/35\n",
      "7128/7128 [==============================] - 0s - loss: 0.0191 - acc: 0.9928     \n",
      "Epoch 33/35\n",
      "7128/7128 [==============================] - 0s - loss: 0.0096 - acc: 0.9979     \n",
      "Epoch 34/35\n",
      "7128/7128 [==============================] - 0s - loss: 0.0062 - acc: 0.9987     \n",
      "Epoch 35/35\n",
      "7128/7128 [==============================] - 0s - loss: 0.0053 - acc: 0.9989     \n"
     ]
    },
    {
     "data": {
      "text/plain": [
       "<keras.callbacks.History at 0x7fd43fbb6390>"
      ]
     },
     "execution_count": 9,
     "metadata": {},
     "output_type": "execute_result"
    }
   ],
   "source": [
    "bach.model.fit(X, Y, batch_size=400, epochs= 35)"
   ]
  },
  {
   "cell_type": "code",
   "execution_count": 11,
   "metadata": {},
   "outputs": [],
   "source": [
    "bach.model.save(\"models/saved_models/Bach/model.h5\")"
   ]
  },
  {
   "cell_type": "code",
   "execution_count": null,
   "metadata": {
    "collapsed": true
   },
   "outputs": [],
   "source": []
  }
 ],
 "metadata": {
  "kernelspec": {
   "display_name": "Python 2",
   "language": "python",
   "name": "python2"
  },
  "language_info": {
   "codemirror_mode": {
    "name": "ipython",
    "version": 2
   },
   "file_extension": ".py",
   "mimetype": "text/x-python",
   "name": "python",
   "nbconvert_exporter": "python",
   "pygments_lexer": "ipython2",
   "version": "2.7.14"
  }
 },
 "nbformat": 4,
 "nbformat_minor": 2
}
