{
 "cells": [
  {
   "cell_type": "code",
   "execution_count": 1,
   "metadata": {},
   "outputs": [
    {
     "name": "stderr",
     "output_type": "stream",
     "text": [
      "Using TensorFlow backend.\n"
     ]
    }
   ],
   "source": [
    "from __future__ import print_function\n",
    "from __future__ import division\n",
    "\n",
    "import networkx as nx\n",
    "import numpy as np\n",
    "import cv2\n",
    "import re\n",
    "import os\n",
    "import sys\n",
    "import math\n",
    "import utils\n",
    "import tensorflow as tf\n",
    "import keras\n",
    "import segmentation\n",
    "import time\n",
    "\n",
    "import BachNet\n",
    "import ChopinNet\n",
    "import utils\n",
    "import shutil\n",
    "from keras.models import load_model\n",
    "from keras import backend as K\n",
    "from random import randint\n",
    "\n",
    "from sklearn import feature_extraction\n",
    "import matplotlib.pyplot as plt\n",
    "%matplotlib inline"
   ]
  },
  {
   "cell_type": "code",
   "execution_count": 2,
   "metadata": {
    "collapsed": true
   },
   "outputs": [],
   "source": [
    "train_path = \"data/train/input/\"\n",
    "test_path = \"data/test/input/\"\n",
    "\n",
    "output_path = \"output\"\n",
    "\n",
    "path_to_original_images = \"original/\"\n",
    "path_to_gt_images = \"gt/\"\n",
    "\n",
    "receptive_field_shape = (23, 23)\n",
    "\n",
    "bach = BachNet.BachNet()\n",
    "chopin = ChopinNet.Chopin()"
   ]
  },
  {
   "cell_type": "markdown",
   "metadata": {},
   "source": [
    "# Training"
   ]
  },
  {
   "cell_type": "markdown",
   "metadata": {},
   "source": [
    "## Bach"
   ]
  },
  {
   "cell_type": "code",
   "execution_count": 3,
   "metadata": {
    "collapsed": true
   },
   "outputs": [],
   "source": [
    "bach.build(receptive_field_shape[0], receptive_field_shape[1], 1)\n",
    "bach.load_model()"
   ]
  },
  {
   "cell_type": "code",
   "execution_count": 8,
   "metadata": {
    "collapsed": true,
    "scrolled": true
   },
   "outputs": [],
   "source": [
    "X = []\n",
    "Y = []\n",
    "\n",
    "originals = os.listdir(os.path.join(train_path))\n",
    "\n",
    "for i, filename in enumerate(originals):\n",
    "    \n",
    "    if \"gt\" in filename.split(\"_\"):\n",
    "        continue\n",
    "    \n",
    "    gt_filename = filename + \"_gt\"\n",
    "    \n",
    "    image_path = os.path.join(train_path, filename)\n",
    "    gt_path = os.path.join(train_path, gt_filename)\n",
    "    \n",
    "    img = cv2.imread(image_path, 0)\n",
    "    gt = cv2.imread(gt_path, 0)\n",
    "    \n",
    "    if gt is None:\n",
    "        continue\n",
    "    \n",
    "    x = utils.prepare_input_images(img, width=receptive_field_shape[0],\n",
    "                                   height=receptive_field_shape[1])\n",
    "    \n",
    "    X.append(x)\n",
    "\n",
    "    gt = cv2.imread(gt_path, 0)\n",
    "    y = np.ones_like(gt)\n",
    "    y[gt == 255] = 0\n",
    "    y = y.flatten()\n",
    "    \n",
    "    Y.append(y)\n",
    "    \n",
    "X = np.concatenate(X)\n",
    "Y = np.concatenate(Y)"
   ]
  },
  {
   "cell_type": "code",
   "execution_count": 9,
   "metadata": {
    "scrolled": true
   },
   "outputs": [
    {
     "name": "stdout",
     "output_type": "stream",
     "text": [
      "Epoch 1/32\n",
      "560000/560000 [==============================] - 8s - loss: 0.1254 - acc: 0.9566     \n",
      "Epoch 2/32\n",
      "560000/560000 [==============================] - 7s - loss: 0.0778 - acc: 0.9680     \n",
      "Epoch 3/32\n",
      "560000/560000 [==============================] - 7s - loss: 0.0730 - acc: 0.9700     \n",
      "Epoch 4/32\n",
      "560000/560000 [==============================] - 7s - loss: 0.0694 - acc: 0.9711     \n",
      "Epoch 5/32\n",
      "560000/560000 [==============================] - 7s - loss: 0.0688 - acc: 0.9721     \n",
      "Epoch 6/32\n",
      "560000/560000 [==============================] - 7s - loss: 0.0681 - acc: 0.9723     \n",
      "Epoch 7/32\n",
      "560000/560000 [==============================] - 7s - loss: 0.0674 - acc: 0.9727     \n",
      "Epoch 8/32\n",
      "560000/560000 [==============================] - 7s - loss: 0.0705 - acc: 0.9720     \n",
      "Epoch 9/32\n",
      "560000/560000 [==============================] - 7s - loss: 0.0702 - acc: 0.9720     \n",
      "Epoch 10/32\n",
      "560000/560000 [==============================] - 7s - loss: 0.0684 - acc: 0.9726     \n",
      "Epoch 11/32\n",
      "560000/560000 [==============================] - 7s - loss: 0.0706 - acc: 0.9721     \n",
      "Epoch 12/32\n",
      "560000/560000 [==============================] - 7s - loss: 0.0705 - acc: 0.9719     \n",
      "Epoch 13/32\n",
      "560000/560000 [==============================] - 7s - loss: 0.0701 - acc: 0.9716     \n",
      "Epoch 14/32\n",
      "560000/560000 [==============================] - 7s - loss: 0.0732 - acc: 0.9715     \n",
      "Epoch 15/32\n",
      "560000/560000 [==============================] - 7s - loss: 0.0714 - acc: 0.9710     \n",
      "Epoch 16/32\n",
      "560000/560000 [==============================] - 8s - loss: 0.0720 - acc: 0.9714     \n",
      "Epoch 17/32\n",
      "560000/560000 [==============================] - 7s - loss: 0.0725 - acc: 0.9710     \n",
      "Epoch 18/32\n",
      "560000/560000 [==============================] - 7s - loss: 0.0760 - acc: 0.9707     \n",
      "Epoch 19/32\n",
      "560000/560000 [==============================] - 7s - loss: 0.0741 - acc: 0.9709     \n",
      "Epoch 20/32\n",
      "560000/560000 [==============================] - 7s - loss: 0.0739 - acc: 0.9708     \n",
      "Epoch 21/32\n",
      "560000/560000 [==============================] - 7s - loss: 0.0736 - acc: 0.9710     \n",
      "Epoch 22/32\n",
      "560000/560000 [==============================] - 7s - loss: 0.0752 - acc: 0.9709     \n",
      "Epoch 23/32\n",
      "560000/560000 [==============================] - 7s - loss: 0.0755 - acc: 0.9708     \n",
      "Epoch 24/32\n",
      "560000/560000 [==============================] - 8s - loss: 0.0775 - acc: 0.9697     \n",
      "Epoch 25/32\n",
      "560000/560000 [==============================] - 7s - loss: 0.0751 - acc: 0.9705     \n",
      "Epoch 26/32\n",
      "560000/560000 [==============================] - 7s - loss: 0.0755 - acc: 0.9701     \n",
      "Epoch 27/32\n",
      "560000/560000 [==============================] - 7s - loss: 0.0770 - acc: 0.9701     \n",
      "Epoch 28/32\n",
      "560000/560000 [==============================] - 8s - loss: 0.0758 - acc: 0.9697     \n",
      "Epoch 29/32\n",
      "560000/560000 [==============================] - 7s - loss: 0.0777 - acc: 0.9693     \n",
      "Epoch 30/32\n",
      "560000/560000 [==============================] - 7s - loss: 0.0770 - acc: 0.9692     \n",
      "Epoch 31/32\n",
      "560000/560000 [==============================] - 7s - loss: 0.0798 - acc: 0.9679     \n",
      "Epoch 32/32\n",
      "560000/560000 [==============================] - 8s - loss: 0.0798 - acc: 0.9697     \n"
     ]
    }
   ],
   "source": [
    "bach.model.fit(X, Y, batch_size=1000, epochs=32)\n",
    "bach.model.save('saved_model/Bach/model.h5')"
   ]
  },
  {
   "cell_type": "code",
   "execution_count": 10,
   "metadata": {},
   "outputs": [
    {
     "name": "stdout",
     "output_type": "stream",
     "text": [
      " 3000/10000 [========>.....................] - ETA: 0s"
     ]
    }
   ],
   "source": [
    "originals = os.listdir(os.path.join(train_path))\n",
    "\n",
    "for i, filename in enumerate(originals):\n",
    "    \n",
    "    if \"gt\" in filename.split(\"_\"):\n",
    "        continue\n",
    "    \n",
    "    image_path = os.path.join(train_path, filename)\n",
    "    \n",
    "    img = cv2.imread(image_path, 0)\n",
    "\n",
    "    bach_filename = \"data/train/bach/\" + filename\n",
    "\n",
    "    boundary_probabilities = bach.boundary_probabilities(img, batch_size=3000, verbose=1)\n",
    "\n",
    "    plt.imsave(bach_filename, boundary_probabilities, cmap='gray')"
   ]
  },
  {
   "cell_type": "markdown",
   "metadata": {},
   "source": [
    "## Chopin"
   ]
  },
  {
   "cell_type": "code",
   "execution_count": 4,
   "metadata": {
    "collapsed": true
   },
   "outputs": [],
   "source": [
    "img_size = (100, 100)"
   ]
  },
  {
   "cell_type": "code",
   "execution_count": null,
   "metadata": {
    "scrolled": true
   },
   "outputs": [
    {
     "name": "stdout",
     "output_type": "stream",
     "text": [
      "slice_64\n",
      "slice_52\n",
      "slice_18\n",
      "slice_29\n",
      "slice_62\n",
      "slice_54\n",
      "slice_82\n",
      "slice_23\n",
      "slice_73\n",
      "slice_25\n",
      "slice_15\n",
      "slice_43\n",
      "slice_22\n",
      "slice_67\n",
      "slice_57\n"
     ]
    }
   ],
   "source": [
    "chopin_input = {}\n",
    "\n",
    "originals = os.listdir(os.path.join(train_path))\n",
    "\n",
    "for i, filename in enumerate(originals):\n",
    "    \n",
    "    if \"gt\" in filename.split(\"_\"):\n",
    "        continue\n",
    "        \n",
    "    print(filename)\n",
    "    \n",
    "    image_path = os.path.join(train_path, filename)\n",
    "    gt_filename = filename + \"_gt\"\n",
    "    gt_path = os.path.join(train_path, gt_filename)\n",
    "    \n",
    "    img = cv2.imread(image_path, 0)\n",
    "    gt = cv2.imread(gt_path, 0)\n",
    "    \n",
    "    if gt is None:\n",
    "        continue\n",
    "\n",
    "\n",
    "    tl_corner = (randint(0, img.shape[0] - img_size[0]), randint(0, img.shape[1] - img_size[1]))\n",
    "\n",
    "    slice_name = filename + \"_\" + str(tl_corner[0]) + \"_\" + str(tl_corner[1])\n",
    "\n",
    "    foldername = \"data/train/chopin/\" + slice_name\n",
    "\n",
    "    if os.path.exists(foldername):\n",
    "        shutil.rmtree(foldername)\n",
    "\n",
    "    os.makedirs(foldername)\n",
    "\n",
    "    sliced_image = utils.crop_2d(img, tl_corner, img_size[0], img_size[1])\n",
    "    plt.imsave(os.path.join(foldername, slice_name), sliced_image, cmap='gray')\n",
    "\n",
    "    slice_name = slice_name = filename + \"_\" + str(tl_corner[0]) + \"_\" + str(tl_corner[1]) + \"_gt\"\n",
    "\n",
    "    sliced_gt = utils.crop_2d(gt, tl_corner, img_size[0], img_size[1])\n",
    "    plt.imsave(os.path.join(foldername, slice_name), sliced_gt, cmap='gray')\n",
    "\n",
    "    os.system(\"gmic -v -1 \" + foldername + \"/\" + slice_name + \" -channels 1 -threshold 10% -negative -label_fg 0,0 -o -.asc | tail -n +2 | awk '{ for (i = 1; i<=NF; i++) {x[$i] += i; y[$i] += NR; n[$i]++; } } END { for (v in x) print x[v]/n[v],y[v]/n[v] }' > \" + foldername + \"/seeds.txt\")\n",
    "\n",
    "    seeds = []\n",
    "    f = open(foldername + \"/seeds.txt\", 'r')\n",
    "    for line in f:\n",
    "        y = int(float(re.split(' ', line)[0]))\n",
    "        x = int(float(re.split(' ', line)[1]))\n",
    "        seed = (x - 1, y - 1)\n",
    "        seeds.append(seed)\n",
    "\n",
    "    seeds = seeds[1:]\n",
    "\n",
    "    bps = bach.boundary_probabilities(sliced_image, batch_size=3000, verbose=0)\n",
    "\n",
    "    chopin_input[slice_name] = (sliced_image, bps, sliced_gt, seeds, foldername)"
   ]
  },
  {
   "cell_type": "code",
   "execution_count": 5,
   "metadata": {
    "scrolled": true
   },
   "outputs": [
    {
     "name": "stdout",
     "output_type": "stream",
     "text": [
      "slice_64\n"
     ]
    },
    {
     "ename": "RuntimeError",
     "evalue": "libpng signaled error",
     "output_type": "error",
     "traceback": [
      "\u001b[0;31m---------------------------------------------------------------------------\u001b[0m",
      "\u001b[0;31mRuntimeError\u001b[0m                              Traceback (most recent call last)",
      "\u001b[0;32m<ipython-input-5-bad4f91f39e0>\u001b[0m in \u001b[0;36m<module>\u001b[0;34m()\u001b[0m\n\u001b[1;32m     37\u001b[0m \u001b[0;34m\u001b[0m\u001b[0m\n\u001b[1;32m     38\u001b[0m             \u001b[0msliced_image\u001b[0m \u001b[0;34m=\u001b[0m \u001b[0mutils\u001b[0m\u001b[0;34m.\u001b[0m\u001b[0mcrop_2d\u001b[0m\u001b[0;34m(\u001b[0m\u001b[0mimg\u001b[0m\u001b[0;34m,\u001b[0m \u001b[0mtl_corner\u001b[0m\u001b[0;34m,\u001b[0m \u001b[0mimg_size\u001b[0m\u001b[0;34m[\u001b[0m\u001b[0;36m0\u001b[0m\u001b[0;34m]\u001b[0m\u001b[0;34m,\u001b[0m \u001b[0mimg_size\u001b[0m\u001b[0;34m[\u001b[0m\u001b[0;36m1\u001b[0m\u001b[0;34m]\u001b[0m\u001b[0;34m)\u001b[0m\u001b[0;34m\u001b[0m\u001b[0m\n\u001b[0;32m---> 39\u001b[0;31m             \u001b[0mplt\u001b[0m\u001b[0;34m.\u001b[0m\u001b[0mimsave\u001b[0m\u001b[0;34m(\u001b[0m\u001b[0mos\u001b[0m\u001b[0;34m.\u001b[0m\u001b[0mpath\u001b[0m\u001b[0;34m.\u001b[0m\u001b[0mjoin\u001b[0m\u001b[0;34m(\u001b[0m\u001b[0mfoldername\u001b[0m\u001b[0;34m,\u001b[0m \u001b[0mslice_name\u001b[0m\u001b[0;34m)\u001b[0m\u001b[0;34m,\u001b[0m \u001b[0msliced_image\u001b[0m\u001b[0;34m,\u001b[0m \u001b[0mcmap\u001b[0m\u001b[0;34m=\u001b[0m\u001b[0;34m'gray'\u001b[0m\u001b[0;34m)\u001b[0m\u001b[0;34m\u001b[0m\u001b[0m\n\u001b[0m\u001b[1;32m     40\u001b[0m \u001b[0;34m\u001b[0m\u001b[0m\n\u001b[1;32m     41\u001b[0m             \u001b[0mslice_name\u001b[0m \u001b[0;34m=\u001b[0m \u001b[0mslice_name\u001b[0m \u001b[0;34m=\u001b[0m \u001b[0mfilename\u001b[0m \u001b[0;34m+\u001b[0m \u001b[0;34m\"_\"\u001b[0m \u001b[0;34m+\u001b[0m \u001b[0mstr\u001b[0m\u001b[0;34m(\u001b[0m\u001b[0mtl_corner\u001b[0m\u001b[0;34m[\u001b[0m\u001b[0;36m0\u001b[0m\u001b[0;34m]\u001b[0m\u001b[0;34m)\u001b[0m \u001b[0;34m+\u001b[0m \u001b[0;34m\"_\"\u001b[0m \u001b[0;34m+\u001b[0m \u001b[0mstr\u001b[0m\u001b[0;34m(\u001b[0m\u001b[0mtl_corner\u001b[0m\u001b[0;34m[\u001b[0m\u001b[0;36m1\u001b[0m\u001b[0;34m]\u001b[0m\u001b[0;34m)\u001b[0m \u001b[0;34m+\u001b[0m \u001b[0;34m\"_gt\"\u001b[0m\u001b[0;34m\u001b[0m\u001b[0m\n",
      "\u001b[0;32m/home/serl/anaconda2/lib/python2.7/site-packages/matplotlib/pyplot.pyc\u001b[0m in \u001b[0;36mimsave\u001b[0;34m(*args, **kwargs)\u001b[0m\n\u001b[1;32m   2317\u001b[0m \u001b[0;34m@\u001b[0m\u001b[0mdocstring\u001b[0m\u001b[0;34m.\u001b[0m\u001b[0mcopy_dedent\u001b[0m\u001b[0;34m(\u001b[0m\u001b[0m_imsave\u001b[0m\u001b[0;34m)\u001b[0m\u001b[0;34m\u001b[0m\u001b[0m\n\u001b[1;32m   2318\u001b[0m \u001b[0;32mdef\u001b[0m \u001b[0mimsave\u001b[0m\u001b[0;34m(\u001b[0m\u001b[0;34m*\u001b[0m\u001b[0margs\u001b[0m\u001b[0;34m,\u001b[0m \u001b[0;34m**\u001b[0m\u001b[0mkwargs\u001b[0m\u001b[0;34m)\u001b[0m\u001b[0;34m:\u001b[0m\u001b[0;34m\u001b[0m\u001b[0m\n\u001b[0;32m-> 2319\u001b[0;31m     \u001b[0;32mreturn\u001b[0m \u001b[0m_imsave\u001b[0m\u001b[0;34m(\u001b[0m\u001b[0;34m*\u001b[0m\u001b[0margs\u001b[0m\u001b[0;34m,\u001b[0m \u001b[0;34m**\u001b[0m\u001b[0mkwargs\u001b[0m\u001b[0;34m)\u001b[0m\u001b[0;34m\u001b[0m\u001b[0m\n\u001b[0m\u001b[1;32m   2320\u001b[0m \u001b[0;34m\u001b[0m\u001b[0m\n\u001b[1;32m   2321\u001b[0m \u001b[0;34m\u001b[0m\u001b[0m\n",
      "\u001b[0;32m/home/serl/anaconda2/lib/python2.7/site-packages/matplotlib/image.pyc\u001b[0m in \u001b[0;36mimsave\u001b[0;34m(fname, arr, vmin, vmax, cmap, format, origin, dpi)\u001b[0m\n\u001b[1;32m   1345\u001b[0m         \u001b[0mimage\u001b[0m\u001b[0;34m.\u001b[0m\u001b[0mset_data\u001b[0m\u001b[0;34m(\u001b[0m\u001b[0marr\u001b[0m\u001b[0;34m)\u001b[0m\u001b[0;34m\u001b[0m\u001b[0m\n\u001b[1;32m   1346\u001b[0m         \u001b[0mimage\u001b[0m\u001b[0;34m.\u001b[0m\u001b[0mset_clim\u001b[0m\u001b[0;34m(\u001b[0m\u001b[0mvmin\u001b[0m\u001b[0;34m,\u001b[0m \u001b[0mvmax\u001b[0m\u001b[0;34m)\u001b[0m\u001b[0;34m\u001b[0m\u001b[0m\n\u001b[0;32m-> 1347\u001b[0;31m         \u001b[0mimage\u001b[0m\u001b[0;34m.\u001b[0m\u001b[0mwrite_png\u001b[0m\u001b[0;34m(\u001b[0m\u001b[0mfname\u001b[0m\u001b[0;34m)\u001b[0m\u001b[0;34m\u001b[0m\u001b[0m\n\u001b[0m\u001b[1;32m   1348\u001b[0m     \u001b[0;32melse\u001b[0m\u001b[0;34m:\u001b[0m\u001b[0;34m\u001b[0m\u001b[0m\n\u001b[1;32m   1349\u001b[0m         \u001b[0mfig\u001b[0m \u001b[0;34m=\u001b[0m \u001b[0mFigure\u001b[0m\u001b[0;34m(\u001b[0m\u001b[0mdpi\u001b[0m\u001b[0;34m=\u001b[0m\u001b[0mdpi\u001b[0m\u001b[0;34m,\u001b[0m \u001b[0mframeon\u001b[0m\u001b[0;34m=\u001b[0m\u001b[0mFalse\u001b[0m\u001b[0;34m)\u001b[0m\u001b[0;34m\u001b[0m\u001b[0m\n",
      "\u001b[0;32m/home/serl/anaconda2/lib/python2.7/site-packages/matplotlib/image.pyc\u001b[0m in \u001b[0;36mwrite_png\u001b[0;34m(self, fname)\u001b[0m\n\u001b[1;32m    576\u001b[0m         im = self.to_rgba(self._A[::-1] if self.origin == 'lower' else self._A,\n\u001b[1;32m    577\u001b[0m                           bytes=True, norm=True)\n\u001b[0;32m--> 578\u001b[0;31m         \u001b[0m_png\u001b[0m\u001b[0;34m.\u001b[0m\u001b[0mwrite_png\u001b[0m\u001b[0;34m(\u001b[0m\u001b[0mim\u001b[0m\u001b[0;34m,\u001b[0m \u001b[0mfname\u001b[0m\u001b[0;34m)\u001b[0m\u001b[0;34m\u001b[0m\u001b[0m\n\u001b[0m\u001b[1;32m    579\u001b[0m \u001b[0;34m\u001b[0m\u001b[0m\n\u001b[1;32m    580\u001b[0m     \u001b[0;32mdef\u001b[0m \u001b[0mset_data\u001b[0m\u001b[0;34m(\u001b[0m\u001b[0mself\u001b[0m\u001b[0;34m,\u001b[0m \u001b[0mA\u001b[0m\u001b[0;34m)\u001b[0m\u001b[0;34m:\u001b[0m\u001b[0;34m\u001b[0m\u001b[0m\n",
      "\u001b[0;31mRuntimeError\u001b[0m: libpng signaled error"
     ]
    }
   ],
   "source": [
    "chopin_input = {}\n",
    "\n",
    "originals = os.listdir(os.path.join(train_path))\n",
    "\n",
    "for i, filename in enumerate(originals):\n",
    "    \n",
    "    if \"gt\" in filename.split(\"_\"):\n",
    "        continue\n",
    "        \n",
    "    print(filename)\n",
    "    \n",
    "    image_path = os.path.join(train_path, filename)\n",
    "    gt_filename = filename + \"_gt\"\n",
    "    gt_path = os.path.join(train_path, gt_filename)\n",
    "    \n",
    "    img = cv2.imread(image_path, 0)\n",
    "    gt = cv2.imread(gt_path, 0)\n",
    "    \n",
    "    hor_slices = img.shape[0] // img_size[0]\n",
    "    ver_slices = img.shape[1] // img_size[1]\n",
    "    \n",
    "    if gt is None:\n",
    "        continue\n",
    "\n",
    "    for x in xrange(hor_slices):\n",
    "        for y in xrange(ver_slices):\n",
    "            tl_corner = (x * img_size[0], y * img_size[1])\n",
    "            \n",
    "            slice_name = filename + \"_\" + str(tl_corner[0]) + \"_\" + str(tl_corner[1])\n",
    "            \n",
    "            foldername = \"data/train/chopin/\" + slice_name\n",
    "            \n",
    "            if os.path.exists(foldername):\n",
    "                shutil.rmtree(foldername)\n",
    "\n",
    "            os.makedirs(foldername)\n",
    "            \n",
    "            sliced_image = utils.crop_2d(img, tl_corner, img_size[0], img_size[1])\n",
    "            plt.imsave(os.path.join(foldername, slice_name), sliced_image, cmap='gray')\n",
    "\n",
    "            slice_name = slice_name = filename + \"_\" + str(tl_corner[0]) + \"_\" + str(tl_corner[1]) + \"_gt\"\n",
    "\n",
    "            sliced_gt = utils.crop_2d(gt, tl_corner, img_size[0], img_size[1])\n",
    "            plt.imsave(os.path.join(foldername, slice_name), sliced_gt, cmap='gray')\n",
    "            os.system(\"gmic -v -1 \" + foldername + \"/\" + slice_name + \" -channels 1 -threshold 10% -negative -label_fg 0,0 -o -.asc | tail -n +2 | awk '{ for (i = 1; i<=NF; i++) {x[$i] += i; y[$i] += NR; n[$i]++; } } END { for (v in x) print x[v]/n[v],y[v]/n[v] }' > \" + foldername + \"/seeds.txt\")\n",
    "            \n",
    "            seeds = []\n",
    "            f = open(foldername + \"/seeds.txt\", 'r')\n",
    "            for line in f:\n",
    "                y = int(float(re.split(' ', line)[0]))\n",
    "                x = int(float(re.split(' ', line)[1]))\n",
    "                seed = (x - 1, y - 1)\n",
    "                seeds.append(seed)\n",
    "\n",
    "            seeds = seeds[1:]\n",
    "\n",
    "            bps = bach.boundary_probabilities(sliced_image, batch_size=3000, verbose=0)\n",
    "\n",
    "            chopin_input[slice_name] = (sliced_image, bps, sliced_gt, seeds, foldername)"
   ]
  },
  {
   "cell_type": "code",
   "execution_count": 44,
   "metadata": {
    "collapsed": true,
    "scrolled": true
   },
   "outputs": [],
   "source": [
    "chopin.build(receptive_field_shape)\n",
    "chopin.initialize_session()"
   ]
  },
  {
   "cell_type": "code",
   "execution_count": 45,
   "metadata": {},
   "outputs": [
    {
     "name": "stdout",
     "output_type": "stream",
     "text": [
      "INFO:tensorflow:Restoring parameters from saved_model/Chopin/model.ckpt\n"
     ]
    }
   ],
   "source": [
    "chopin.load_model(\"saved_model/Chopin/model.ckpt\")"
   ]
  },
  {
   "cell_type": "code",
   "execution_count": 46,
   "metadata": {},
   "outputs": [
    {
     "ename": "KeyError",
     "evalue": "'slice_0_211_801_gt'",
     "output_type": "error",
     "traceback": [
      "\u001b[0;31m---------------------------------------------------------------------------\u001b[0m",
      "\u001b[0;31mKeyError\u001b[0m                                  Traceback (most recent call last)",
      "\u001b[0;32m<ipython-input-46-355e08290ac8>\u001b[0m in \u001b[0;36m<module>\u001b[0;34m()\u001b[0m\n\u001b[0;32m----> 1\u001b[0;31m \u001b[0mchopin_input\u001b[0m\u001b[0;34m[\u001b[0m\u001b[0;34m\"slice_0_211_801_gt\"\u001b[0m\u001b[0;34m]\u001b[0m\u001b[0;34m[\u001b[0m\u001b[0;36m1\u001b[0m\u001b[0;34m]\u001b[0m\u001b[0;34m.\u001b[0m\u001b[0mshape\u001b[0m\u001b[0;34m\u001b[0m\u001b[0m\n\u001b[0m",
      "\u001b[0;31mKeyError\u001b[0m: 'slice_0_211_801_gt'"
     ]
    }
   ],
   "source": [
    "chopin_input[\"slice_0_211_801_gt\"][1].shape"
   ]
  },
  {
   "cell_type": "code",
   "execution_count": 47,
   "metadata": {
    "scrolled": true
   },
   "outputs": [
    {
     "name": "stdout",
     "output_type": "stream",
     "text": [
      "Training on  data/train/chopin/slice_54_355_685\n",
      "Epoch 1\n",
      "Starting gradient segmentation...\n",
      "Segmentation done: 7.139394s\n",
      "Starting gradient segmentation...\n",
      "Segmentation done: 66.468181s\n",
      "Accuracy:  0.924\n",
      "Starting gradient segmentation...\n",
      "Segmentation done: 7.005640s\n",
      "Calculating Root Error Edge Children.\n",
      "Done: 5.017691s\n",
      "Loss:  46.7610220313\n",
      "Epoch 2\n",
      "Starting gradient segmentation...\n",
      "Segmentation done: 7.021167s\n",
      "Starting gradient segmentation...\n",
      "Segmentation done: 66.837985s\n",
      "Accuracy:  0.9273\n",
      "Starting gradient segmentation...\n",
      "Segmentation done: 7.046776s\n",
      "Calculating Root Error Edge Children.\n",
      "Done: 4.668501s\n",
      "Loss:  42.8991565704\n",
      "Epoch 3\n",
      "Starting gradient segmentation...\n",
      "Segmentation done: 7.144457s\n",
      "Starting gradient segmentation...\n",
      "Segmentation done: 67.234986s\n",
      "Accuracy:  0.9299\n",
      "Starting gradient segmentation...\n",
      "Segmentation done: 7.026442s\n",
      "Calculating Root Error Edge Children.\n",
      "Done: 3.934883s\n",
      "Loss:  29.0185658038\n",
      "Epoch 4\n",
      "Starting gradient segmentation...\n",
      "Segmentation done: 7.034789s\n",
      "Starting gradient segmentation...\n",
      "Segmentation done: 66.824008s\n",
      "Accuracy:  0.925\n",
      "Starting gradient segmentation...\n",
      "Segmentation done: 7.052122s\n",
      "Calculating Root Error Edge Children.\n",
      "Done: 4.486532s\n",
      "Loss:  30.6023413241\n",
      "Epoch 5\n",
      "Starting gradient segmentation...\n",
      "Segmentation done: 7.033995s\n",
      "Starting gradient segmentation...\n",
      "Segmentation done: 66.822794s\n",
      "Accuracy:  0.9242\n",
      "Starting gradient segmentation...\n",
      "Segmentation done: 7.056848s\n",
      "Calculating Root Error Edge Children.\n",
      "Done: 4.107257s\n",
      "Loss:  19.7675424218\n",
      "Epoch 6\n",
      "Starting gradient segmentation...\n",
      "Segmentation done: 7.032065s\n",
      "Starting gradient segmentation...\n",
      "Segmentation done: 66.923922s\n",
      "Accuracy:  0.9315\n",
      "Starting gradient segmentation...\n",
      "Segmentation done: 7.043851s\n",
      "Calculating Root Error Edge Children.\n",
      "Done: 3.837946s\n",
      "Loss:  7.9129499495\n",
      "Epoch 7\n",
      "Starting gradient segmentation...\n",
      "Segmentation done: 7.050268s\n",
      "Starting gradient segmentation...\n",
      "Segmentation done: 66.834239s\n",
      "Accuracy:  0.9289\n",
      "Starting gradient segmentation...\n",
      "Segmentation done: 7.060755s\n",
      "Calculating Root Error Edge Children.\n",
      "Done: 4.692247s\n",
      "Loss:  15.6761216521\n",
      "Epoch 8\n",
      "Starting gradient segmentation...\n",
      "Segmentation done: 7.061207s\n",
      "Starting gradient segmentation...\n",
      "Segmentation done: 66.877654s\n",
      "Accuracy:  0.9279\n",
      "Starting gradient segmentation...\n",
      "Segmentation done: 7.037884s\n",
      "Calculating Root Error Edge Children.\n",
      "Done: 4.897349s\n",
      "Loss:  9.85266232491\n",
      "Epoch 9\n",
      "Starting gradient segmentation...\n",
      "Segmentation done: 7.053885s\n",
      "Starting gradient segmentation...\n",
      "Segmentation done: 66.918095s\n",
      "Accuracy:  0.9313\n",
      "Starting gradient segmentation...\n",
      "Segmentation done: 7.039647s\n",
      "Calculating Root Error Edge Children.\n",
      "Done: 4.532738s\n",
      "Loss:  3.108984828\n",
      "Epoch 10\n",
      "Starting gradient segmentation...\n",
      "Segmentation done: 7.049599s\n",
      "Starting gradient segmentation...\n",
      "Segmentation done: 66.841712s\n",
      "Accuracy:  0.9315\n",
      "Starting gradient segmentation...\n",
      "Segmentation done: 7.098514s\n",
      "Calculating Root Error Edge Children.\n",
      "Done: 4.695485s\n",
      "Loss:  6.1190854907\n",
      "Epoch 11\n",
      "Starting gradient segmentation...\n",
      "Segmentation done: 7.039951s\n",
      "Starting gradient segmentation...\n",
      "Segmentation done: 66.878858s\n",
      "Accuracy:  0.9295\n",
      "Starting gradient segmentation...\n",
      "Segmentation done: 7.066480s\n",
      "Calculating Root Error Edge Children.\n",
      "Done: 5.183149s\n",
      "Loss:  -8.58134895563\n"
     ]
    },
    {
     "name": "stderr",
     "output_type": "stream",
     "text": [
      "/home/serl/anaconda2/lib/python2.7/site-packages/matplotlib/pyplot.py:524: RuntimeWarning: More than 20 figures have been opened. Figures created through the pyplot interface (`matplotlib.pyplot.figure`) are retained until explicitly closed and may consume too much memory. (To control this warning, see the rcParam `figure.max_open_warning`).\n",
      "  max_open_warning, RuntimeWarning)\n"
     ]
    },
    {
     "name": "stdout",
     "output_type": "stream",
     "text": [
      "Epoch 12\n",
      "Starting gradient segmentation...\n",
      "Segmentation done: 7.039818s\n",
      "Starting gradient segmentation...\n",
      "Segmentation done: 66.884044s\n",
      "Accuracy:  0.9333\n",
      "Starting gradient segmentation...\n",
      "Segmentation done: 7.112013s\n",
      "Calculating Root Error Edge Children.\n",
      "Done: 4.694261s\n",
      "Loss:  -4.73732161522\n",
      "Epoch 13\n",
      "Starting gradient segmentation...\n",
      "Segmentation done: 7.145877s\n",
      "Starting gradient segmentation...\n",
      "Segmentation done: 67.672978s\n",
      "Accuracy:  0.9332\n",
      "Starting gradient segmentation...\n",
      "Segmentation done: 7.048743s\n",
      "Calculating Root Error Edge Children.\n",
      "Done: 4.769511s\n",
      "Loss:  -8.67210656404\n",
      "Epoch 14\n",
      "Starting gradient segmentation...\n",
      "Segmentation done: 7.065574s\n",
      "Starting gradient segmentation...\n",
      "Segmentation done: 66.979681s\n",
      "Accuracy:  0.9304\n",
      "Starting gradient segmentation...\n",
      "Segmentation done: 7.079584s\n",
      "Calculating Root Error Edge Children.\n",
      "Done: 4.742144s\n",
      "Loss:  -4.87103188038\n",
      "Epoch 15\n",
      "Starting gradient segmentation...\n",
      "Segmentation done: 7.044531s\n",
      "Starting gradient segmentation...\n",
      "Segmentation done: 68.020781s\n",
      "Accuracy:  0.9384\n",
      "Starting gradient segmentation...\n"
     ]
    },
    {
     "ename": "KeyboardInterrupt",
     "evalue": "",
     "output_type": "error",
     "traceback": [
      "\u001b[0;31m---------------------------------------------------------------------------\u001b[0m",
      "\u001b[0;31mKeyboardInterrupt\u001b[0m                         Traceback (most recent call last)",
      "\u001b[0;32m<ipython-input-47-d6905c2a3ddf>\u001b[0m in \u001b[0;36m<module>\u001b[0;34m()\u001b[0m\n\u001b[1;32m      7\u001b[0m     \u001b[0;32mfor\u001b[0m \u001b[0mi\u001b[0m \u001b[0;32min\u001b[0m \u001b[0mrange\u001b[0m\u001b[0;34m(\u001b[0m\u001b[0;36m16\u001b[0m\u001b[0;34m)\u001b[0m\u001b[0;34m:\u001b[0m\u001b[0;34m\u001b[0m\u001b[0m\n\u001b[1;32m      8\u001b[0m         \u001b[0;32mprint\u001b[0m\u001b[0;34m(\u001b[0m\u001b[0;34m\"Epoch \"\u001b[0m \u001b[0;34m+\u001b[0m \u001b[0mstr\u001b[0m\u001b[0;34m(\u001b[0m\u001b[0mi\u001b[0m \u001b[0;34m+\u001b[0m \u001b[0;36m1\u001b[0m\u001b[0;34m)\u001b[0m\u001b[0;34m)\u001b[0m\u001b[0;34m\u001b[0m\u001b[0m\n\u001b[0;32m----> 9\u001b[0;31m         \u001b[0msegmentations\u001b[0m\u001b[0;34m,\u001b[0m \u001b[0mloss\u001b[0m\u001b[0;34m,\u001b[0m \u001b[0maccuracy\u001b[0m \u001b[0;34m=\u001b[0m \u001b[0mchopin\u001b[0m\u001b[0;34m.\u001b[0m\u001b[0mfit\u001b[0m\u001b[0;34m(\u001b[0m\u001b[0mimg\u001b[0m\u001b[0;34m,\u001b[0m \u001b[0mI_a\u001b[0m\u001b[0;34m,\u001b[0m \u001b[0mgt\u001b[0m\u001b[0;34m,\u001b[0m \u001b[0mseeds\u001b[0m\u001b[0;34m,\u001b[0m \u001b[0mfoldername\u001b[0m\u001b[0;34m,\u001b[0m \u001b[0mnum_epochs\u001b[0m\u001b[0;34m=\u001b[0m\u001b[0;36m1\u001b[0m\u001b[0;34m)\u001b[0m\u001b[0;34m\u001b[0m\u001b[0m\n\u001b[0m\u001b[1;32m     10\u001b[0m         \u001b[0mloss_timeline\u001b[0m \u001b[0;34m+=\u001b[0m \u001b[0mloss\u001b[0m\u001b[0;34m\u001b[0m\u001b[0m\n\u001b[1;32m     11\u001b[0m         \u001b[0maccuracy_timeline\u001b[0m \u001b[0;34m+=\u001b[0m \u001b[0maccuracy\u001b[0m\u001b[0;34m\u001b[0m\u001b[0m\n",
      "\u001b[0;32m/home/serl/PycharmProjects/Learned-Watershed-Segmentation/segmentation/ChopinNet.pyc\u001b[0m in \u001b[0;36mfit\u001b[0;34m(self, img, I_a, gt, seeds, foldername, num_epochs)\u001b[0m\n\u001b[1;32m    297\u001b[0m             \u001b[0mconstrained_msf\u001b[0m\u001b[0;34m.\u001b[0m\u001b[0mremove_edges_from\u001b[0m\u001b[0;34m(\u001b[0m\u001b[0mground_truth_cuts\u001b[0m\u001b[0;34m)\u001b[0m\u001b[0;34m\u001b[0m\u001b[0m\n\u001b[1;32m    298\u001b[0m \u001b[0;34m\u001b[0m\u001b[0m\n\u001b[0;32m--> 299\u001b[0;31m             \u001b[0mconstrained_msf\u001b[0m \u001b[0;34m=\u001b[0m \u001b[0mutils\u001b[0m\u001b[0;34m.\u001b[0m\u001b[0mminimum_spanning_forest\u001b[0m\u001b[0;34m(\u001b[0m\u001b[0mconstrained_msf\u001b[0m\u001b[0;34m,\u001b[0m \u001b[0mseeds\u001b[0m\u001b[0;34m)\u001b[0m\u001b[0;34m\u001b[0m\u001b[0m\n\u001b[0m\u001b[1;32m    300\u001b[0m \u001b[0;34m\u001b[0m\u001b[0m\n\u001b[1;32m    301\u001b[0m             \u001b[0mground_truth_paths\u001b[0m \u001b[0;34m=\u001b[0m \u001b[0mnx\u001b[0m\u001b[0;34m.\u001b[0m\u001b[0mget_node_attributes\u001b[0m\u001b[0;34m(\u001b[0m\u001b[0mconstrained_msf\u001b[0m\u001b[0;34m,\u001b[0m \u001b[0;34m'path'\u001b[0m\u001b[0;34m)\u001b[0m\u001b[0;34m\u001b[0m\u001b[0m\n",
      "\u001b[0;32m/home/serl/PycharmProjects/Learned-Watershed-Segmentation/segmentation/utils.pyc\u001b[0m in \u001b[0;36mminimum_spanning_forest\u001b[0;34m(graph, seeds)\u001b[0m\n\u001b[1;32m    129\u001b[0m \u001b[0;34m\u001b[0m\u001b[0m\n\u001b[1;32m    130\u001b[0m             \u001b[0;32mfor\u001b[0m \u001b[0mv\u001b[0m\u001b[0;34m,\u001b[0m \u001b[0mw\u001b[0m \u001b[0;32min\u001b[0m \u001b[0mgraph\u001b[0m\u001b[0;34m.\u001b[0m\u001b[0medges\u001b[0m\u001b[0;34m(\u001b[0m\u001b[0mv\u001b[0m\u001b[0;34m)\u001b[0m\u001b[0;34m:\u001b[0m\u001b[0;34m\u001b[0m\u001b[0m\n\u001b[0;32m--> 131\u001b[0;31m                 \u001b[0;32mif\u001b[0m \u001b[0;32mnot\u001b[0m \u001b[0mw\u001b[0m \u001b[0;32min\u001b[0m \u001b[0mvisited\u001b[0m\u001b[0;34m:\u001b[0m\u001b[0;34m\u001b[0m\u001b[0m\n\u001b[0m\u001b[1;32m    132\u001b[0m                     \u001b[0;32mtry\u001b[0m\u001b[0;34m:\u001b[0m\u001b[0;34m\u001b[0m\u001b[0m\n\u001b[1;32m    133\u001b[0m                         \u001b[0mgraph\u001b[0m\u001b[0;34m.\u001b[0m\u001b[0medge\u001b[0m\u001b[0;34m[\u001b[0m\u001b[0mv\u001b[0m\u001b[0;34m]\u001b[0m\u001b[0;34m[\u001b[0m\u001b[0mw\u001b[0m\u001b[0;34m]\u001b[0m\u001b[0;34m[\u001b[0m\u001b[0;34m'image'\u001b[0m\u001b[0;34m]\u001b[0m \u001b[0;34m=\u001b[0m \u001b[0mgraph\u001b[0m\u001b[0;34m.\u001b[0m\u001b[0mnode\u001b[0m\u001b[0;34m[\u001b[0m\u001b[0mw\u001b[0m\u001b[0;34m]\u001b[0m\u001b[0;34m[\u001b[0m\u001b[0;34m'image'\u001b[0m\u001b[0;34m]\u001b[0m\u001b[0;34m\u001b[0m\u001b[0m\n",
      "\u001b[0;31mKeyboardInterrupt\u001b[0m: "
     ]
    }
   ],
   "source": [
    "loss_timeline = []\n",
    "accuracy_timeline = []\n",
    "\n",
    "for filename, (img, bps, gt, seeds, foldername) in chopin_input.iteritems():\n",
    "    print(\"Training on \", foldername)\n",
    "    I_a = np.stack((img, bps), axis=2)\n",
    "    for i in range(16):\n",
    "        print(\"Epoch \" + str(i + 1))\n",
    "        segmentations, loss, accuracy = chopin.fit(img, I_a, gt, seeds, foldername, num_epochs=1)\n",
    "        loss_timeline += loss\n",
    "        accuracy_timeline += accuracy\n",
    "\n",
    "        f, axarr = plt.subplots(2, sharex=True)\n",
    "        axarr[0].plot(loss_timeline)\n",
    "        axarr[0].set_title(\"Loss\")\n",
    "        axarr[1].plot(accuracy_timeline)\n",
    "        axarr[1].set_title(\"Accuracy\")\n",
    "\n",
    "        figurname = \"loss_and_accuracy\"\n",
    "\n",
    "        plt.savefig(os.path.join(\"data/train/chopin\", figurname))"
   ]
  },
  {
   "cell_type": "code",
   "execution_count": null,
   "metadata": {
    "collapsed": true
   },
   "outputs": [],
   "source": [
    "chopin.save_model(\"saved_model/Chopin\")\n",
    "chopin.sess.close()"
   ]
  },
  {
   "cell_type": "markdown",
   "metadata": {},
   "source": [
    "# Testing"
   ]
  },
  {
   "cell_type": "code",
   "execution_count": 30,
   "metadata": {
    "collapsed": true
   },
   "outputs": [],
   "source": [
    "bach.build(receptive_field_shape[0], receptive_field_shape[1], 1)\n",
    "bach.load_model()"
   ]
  },
  {
   "cell_type": "code",
   "execution_count": 31,
   "metadata": {},
   "outputs": [
    {
     "name": "stdout",
     "output_type": "stream",
     "text": [
      "147000/160000 [==========================>...] - ETA: 0s"
     ]
    }
   ],
   "source": [
    "originals = os.listdir(os.path.join(test_path))\n",
    "\n",
    "for i, filename in enumerate(originals):\n",
    "    \n",
    "    if \"gt\" in filename.split(\"_\"):\n",
    "        continue\n",
    "    \n",
    "    image_path = os.path.join(test_path, filename)\n",
    "    \n",
    "    img = cv2.imread(image_path, 0)\n",
    "\n",
    "    bach_filename = \"data/test/bach/\" + filename\n",
    "\n",
    "    boundary_probabilities = bach.boundary_probabilities(img, batch_size=3000, verbose=1)\n",
    "\n",
    "    plt.imsave(bach_filename, boundary_probabilities, cmap='gray')"
   ]
  },
  {
   "cell_type": "code",
   "execution_count": 32,
   "metadata": {
    "collapsed": true
   },
   "outputs": [],
   "source": [
    "chopin_input = {}\n",
    "\n",
    "originals = os.listdir(os.path.join(test_path))\n",
    "\n",
    "for i, filename in enumerate(originals):\n",
    "    \n",
    "    if \"gt\" in filename.split(\"_\"):\n",
    "        continue\n",
    "    \n",
    "    image_path = os.path.join(test_path, filename)\n",
    "    gt_filename = filename + \"_gt\"\n",
    "    gt_path = os.path.join(test_path, gt_filename)\n",
    "    \n",
    "    \n",
    "    img = cv2.imread(image_path, 0)\n",
    "    gt = cv2.imread(gt_path, 0)\n",
    "    \n",
    "    if gt is None:\n",
    "        continue\n",
    "    \n",
    "    foldername = \"data/test/chopin/\" + filename\n",
    "    if os.path.exists(foldername):\n",
    "        shutil.rmtree(foldername)\n",
    "    \n",
    "    os.makedirs(foldername)\n",
    "        \n",
    "    os.system(\"gmic -v -1 data/test/input/\" + gt_filename + \" -channels 1 -threshold 10% -negative -label_fg 0,0 -o -.asc | tail -n +2 | awk '{ for (i = 1; i<=NF; i++) {x[$i] += i; y[$i] += NR; n[$i]++; } } END { for (v in x) print x[v]/n[v],y[v]/n[v] }' > \" + foldername + \"/seeds.txt\")\n",
    "    \n",
    "    seeds = []\n",
    "    f = open(foldername + \"/seeds.txt\", 'r')\n",
    "    for line in f:\n",
    "        y = int(float(re.split(' ', line)[0]))\n",
    "        x = int(float(re.split(' ', line)[1]))\n",
    "        seed = (x - 1, y - 1)\n",
    "        seeds.append(seed)\n",
    "\n",
    "    seeds = seeds[1:]\n",
    "    \n",
    "    bps = bach.boundary_probabilities(img, batch_size=3000, verbose=0)\n",
    "    \n",
    "    chopin_input[filename] = (img, bps, gt, seeds, foldername)"
   ]
  },
  {
   "cell_type": "code",
   "execution_count": 33,
   "metadata": {},
   "outputs": [
    {
     "name": "stdout",
     "output_type": "stream",
     "text": [
      "INFO:tensorflow:Restoring parameters from saved_model/Chopin/model.ckpt\n"
     ]
    }
   ],
   "source": [
    "chopin.build(receptive_field_shape)\n",
    "chopin.initialize_session()\n",
    "chopin.load_model(\"saved_model/Chopin/model.ckpt\")"
   ]
  },
  {
   "cell_type": "code",
   "execution_count": 34,
   "metadata": {
    "scrolled": true
   },
   "outputs": [
    {
     "name": "stdout",
     "output_type": "stream",
     "text": [
      "Testing on  data/test/chopin/slice_3\n",
      "Starting gradient segmentation...\n",
      "Segmentation done: 2179.517940s\n",
      "Starting gradient segmentation...\n",
      "Segmentation done: 6517.602162s\n",
      "Accuracy: 0.66799375\n"
     ]
    }
   ],
   "source": [
    "accuracies = []\n",
    "\n",
    "for filename, (img, bps, gt, seeds, foldername) in chopin_input.iteritems():\n",
    "    print(\"Testing on \", foldername)\n",
    "    I_a = np.stack((img, bps), axis=2)\n",
    "    I_a = utils.pad_for_window(I_a, receptive_field_shape[0], receptive_field_shape[1])\n",
    "    s, a = chopin.evaluate([img], [I_a], [gt], [seeds])\n",
    "    print(\"Accuracy: {}\".format(a[0]))\n",
    "    accuracies.append(a[0])\n",
    "    mask = utils.transparent_mask(img, s[0])\n",
    "    plt.imsave(os.path.join(foldername, filename), mask)"
   ]
  },
  {
   "cell_type": "code",
   "execution_count": 12,
   "metadata": {},
   "outputs": [
    {
     "data": {
      "text/plain": [
       "0.8202638888888889"
      ]
     },
     "execution_count": 12,
     "metadata": {},
     "output_type": "execute_result"
    }
   ],
   "source": [
    "np.mean(accuracies)"
   ]
  },
  {
   "cell_type": "code",
   "execution_count": null,
   "metadata": {
    "collapsed": true
   },
   "outputs": [],
   "source": [
    "chopin.sess.close()"
   ]
  },
  {
   "cell_type": "code",
   "execution_count": 26,
   "metadata": {
    "collapsed": true
   },
   "outputs": [],
   "source": [
    "img = cv2.imread(\"data/test/input/slice_3.png\")\n",
    "gt = cv2.imread(\"data/test/input/slice_3_gt.png\")"
   ]
  },
  {
   "cell_type": "code",
   "execution_count": 27,
   "metadata": {},
   "outputs": [
    {
     "data": {
      "text/plain": [
       "(1250, 1250, 3)"
      ]
     },
     "execution_count": 27,
     "metadata": {},
     "output_type": "execute_result"
    }
   ],
   "source": [
    "gt.shape"
   ]
  },
  {
   "cell_type": "code",
   "execution_count": 29,
   "metadata": {
    "collapsed": true
   },
   "outputs": [],
   "source": [
    "plt.imsave(\"data/test/input/slice_3\", img[400:800, 400:800])"
   ]
  },
  {
   "cell_type": "code",
   "execution_count": 17,
   "metadata": {
    "collapsed": true
   },
   "outputs": [],
   "source": [
    "%matplotlib inline"
   ]
  },
  {
   "cell_type": "code",
   "execution_count": null,
   "metadata": {
    "collapsed": true
   },
   "outputs": [],
   "source": [
    "utils.crop_2d()"
   ]
  },
  {
   "cell_type": "code",
   "execution_count": null,
   "metadata": {
    "collapsed": true
   },
   "outputs": [],
   "source": []
  },
  {
   "cell_type": "code",
   "execution_count": 21,
   "metadata": {},
   "outputs": [
    {
     "name": "stdout",
     "output_type": "stream",
     "text": [
      "data/train/input/slice_86_gt.png\n",
      "data/train/input/slice_87.png\n",
      "data/train/input/slice_59.png\n",
      "data/train/input/slice_31_gt.png\n",
      "data/train/input/slice_14.png\n",
      "data/train/input/slice_38.png\n",
      "data/train/input/slice_66.png\n",
      "data/train/input/slice_54.png\n",
      "data/train/input/slice_80_gt.png\n",
      "data/train/input/slice_23_gt.png\n",
      "data/train/input/slice_65_gt.png\n",
      "data/train/input/slice_4.png\n",
      "data/train/input/slice_30.png\n",
      "data/train/input/slice_40_gt.png\n",
      "data/train/input/slice_72_gt.png\n",
      "data/train/input/slice_50_gt.png\n",
      "data/train/input/slice_25.png\n",
      "data/train/input/slice_41_gt.png\n",
      "data/train/input/slice_0_gt.png\n",
      "data/train/input/slice_3_gt.png\n",
      "data/train/input/slice_48_gt.png\n",
      "data/train/input/slice_36_gt.png\n",
      "data/train/input/slice_16.png\n",
      "data/train/input/slice_73_gt.png\n",
      "data/train/input/slice_35_gt.png\n",
      "data/train/input/slice_51_gt.png\n",
      "data/train/input/slice_11.png\n",
      "data/train/input/slice_10_gt.png\n",
      "data/train/input/slice_31.png\n",
      "data/train/input/slice_26.png\n",
      "data/train/input/slice_54_gt.png\n",
      "data/train/input/slice_43.png\n",
      "data/train/input/slice_80.png\n",
      "data/train/input/slice_44_gt.png\n",
      "data/train/input/slice_70_gt.png\n",
      "data/train/input/slice_52_gt.png\n",
      "data/train/input/slice_56.png\n",
      "data/train/input/slice_21.png\n",
      "data/train/input/slice_57_gt.png\n",
      "data/train/input/slice_21_gt.png\n",
      "data/train/input/slice_81_gt.png\n",
      "data/train/input/slice_29.png\n",
      "data/train/input/slice_0.png\n",
      "data/train/input/slice_17_gt.png\n",
      "data/train/input/slice_37.png\n",
      "data/train/input/slice_3.png\n",
      "data/train/input/slice_79.png\n",
      "data/train/input/slice_64_gt.png\n",
      "data/train/input/slice_40.png\n",
      "data/train/input/slice_77_gt.png\n",
      "data/train/input/slice_39_gt.png\n",
      "data/train/input/slice_63_gt.png\n",
      "data/train/input/slice_75.png\n",
      "data/train/input/slice_20_gt.png\n",
      "data/train/input/slice_53.png\n",
      "data/train/input/slice_46_gt.png\n",
      "data/train/input/slice_67.png\n",
      "data/train/input/slice_59_gt.png\n",
      "data/train/input/slice_47_gt.png\n",
      "data/train/input/slice_27.png\n",
      "data/train/input/slice_58.png\n",
      "data/train/input/slice_38_gt.png\n",
      "data/train/input/slice_41.png\n",
      "data/train/input/slice_33_gt.png\n",
      "data/train/input/slice_71_gt.png\n",
      "data/train/input/slice_75_gt.png\n",
      "data/train/input/slice_68.png\n",
      "data/train/input/slice_47.png\n",
      "data/train/input/slice_61.png\n",
      "data/train/input/slice_76.png\n",
      "data/train/input/slice_36.png\n",
      "data/train/input/slice_73.png\n",
      "data/train/input/slice_9.png\n",
      "data/train/input/slice_22_gt.png\n",
      "data/train/input/slice_88.png\n",
      "data/train/input/slice_32_gt.png\n",
      "data/train/input/slice_72.png\n",
      "data/train/input/slice_42.png\n",
      "data/train/input/slice_6_gt.png\n",
      "data/train/input/slice_42_gt.png\n",
      "data/train/input/slice_8_gt.png\n",
      "data/train/input/slice_50.png\n",
      "data/train/input/slice_43_gt.png\n",
      "data/train/input/slice_24.png\n",
      "data/train/input/slice_28.png\n",
      "data/train/input/slice_79_gt.png\n",
      "data/train/input/slice_32.png\n",
      "data/train/input/slice_69_gt.png\n",
      "data/train/input/slice_8.png\n",
      "data/train/input/slice_49_gt.png\n",
      "data/train/input/slice_13.png\n",
      "data/train/input/slice_67_gt.png\n",
      "data/train/input/slice_55_gt.png\n",
      "data/train/input/slice_81.png\n",
      "data/train/input/slice_15_gt.png\n",
      "data/train/input/slice_60.png\n",
      "data/train/input/slice_51.png\n",
      "data/train/input/slice_4_gt.png\n",
      "data/train/input/slice_66_gt.png\n",
      "data/train/input/slice_69.png\n",
      "data/train/input/slice_11_gt.png\n",
      "data/train/input/slice_77.png\n",
      "data/train/input/slice_68_gt.png\n",
      "data/train/input/slice_28_gt.png\n",
      "data/train/input/slice_19_gt.png\n",
      "data/train/input/slice_7_gt.png\n",
      "data/train/input/slice_34.png\n",
      "data/train/input/slice_17.png\n",
      "data/train/input/slice_52.png\n",
      "data/train/input/slice_61_gt.png\n",
      "data/train/input/slice_64.png\n",
      "data/train/input/slice_55.png\n",
      "data/train/input/slice_1.png\n",
      "data/train/input/slice_16_gt.png\n",
      "data/train/input/slice_5.png\n",
      "data/train/input/slice_23.png\n",
      "data/train/input/slice_84.png\n",
      "data/train/input/slice_34_gt.png\n",
      "data/train/input/slice_45_gt.png\n",
      "data/train/input/slice_88_gt.png\n",
      "data/train/input/slice_12.png\n",
      "data/train/input/slice_83.png\n",
      "data/train/input/slice_49.png\n",
      "data/train/input/slice_2.png\n",
      "data/train/input/slice_86.png\n",
      "data/train/input/slice_18_gt.png\n",
      "data/train/input/slice_85_gt.png\n",
      "data/train/input/slice_10.png\n",
      "data/train/input/slice_70.png\n",
      "data/train/input/slice_9_gt.png\n",
      "data/train/input/slice_1_gt.png\n",
      "data/train/input/slice_5_gt.png\n",
      "data/train/input/slice_7.png\n",
      "data/train/input/slice_39.png\n",
      "data/train/input/slice_15.png\n",
      "data/train/input/slice_25_gt.png\n",
      "data/train/input/slice_2_gt.png\n",
      "data/train/input/slice_29_gt.png\n",
      "data/train/input/slice_46.png\n",
      "data/train/input/slice_19.png\n",
      "data/train/input/slice_48.png\n",
      "data/train/input/slice_37_gt.png\n",
      "data/train/input/slice_45.png\n",
      "data/train/input/slice_82_gt.png\n",
      "data/train/input/slice_58_gt.png\n",
      "data/train/input/slice_30_gt.png\n",
      "data/train/input/slice_20.png\n",
      "data/train/input/slice_14_gt.png\n",
      "data/train/input/slice_57.png\n",
      "data/train/input/slice_82.png\n",
      "data/train/input/slice_35.png\n",
      "data/train/input/slice_74_gt.png\n",
      "data/train/input/slice_56_gt.png\n",
      "data/train/input/slice_22.png\n",
      "data/train/input/slice_83_gt.png\n",
      "data/train/input/slice_44.png\n",
      "data/train/input/slice_27_gt.png\n",
      "data/train/input/slice_53_gt.png\n",
      "data/train/input/slice_6.png\n",
      "data/train/input/slice_24_gt.png\n",
      "data/train/input/slice_84_gt.png\n",
      "data/train/input/slice_12_gt.png\n",
      "data/train/input/slice_85.png\n",
      "data/train/input/slice_78_gt.png\n",
      "data/train/input/slice_26_gt.png\n",
      "data/train/input/slice_74.png\n",
      "data/train/input/slice_76_gt.png\n",
      "data/train/input/slice_18.png\n",
      "data/train/input/slice_87_gt.png\n",
      "data/train/input/slice_60_gt.png\n",
      "data/train/input/slice_71.png\n",
      "data/train/input/slice_33.png\n",
      "data/train/input/slice_62.png\n",
      "data/train/input/slice_13_gt.png\n",
      "data/train/input/slice_62_gt.png\n",
      "data/train/input/slice_63.png\n",
      "data/train/input/slice_78.png\n",
      "data/train/input/slice_65.png\n"
     ]
    }
   ],
   "source": [
    "originals = os.listdir(os.path.join(train_path))\n",
    "\n",
    "for i, filename in enumerate(originals):\n",
    "    \n",
    "    image_path = os.path.join(train_path, filename)\n",
    "    gt_filename = filename + \"_gt\"\n",
    "    gt_path = os.path.join(train_path, gt_filename)\n",
    "    \n",
    "    img = cv2.imread(image_path, 0)\n",
    "    gt = cv2.imread(gt_path, 0)\n",
    "    \n",
    "    if gt is None:\n",
    "        continue\n",
    "        \n",
    "        \n",
    "    "
   ]
  },
  {
   "cell_type": "code",
   "execution_count": null,
   "metadata": {
    "collapsed": true
   },
   "outputs": [],
   "source": []
  },
  {
   "cell_type": "code",
   "execution_count": null,
   "metadata": {
    "collapsed": true
   },
   "outputs": [],
   "source": []
  },
  {
   "cell_type": "code",
   "execution_count": null,
   "metadata": {
    "collapsed": true
   },
   "outputs": [],
   "source": []
  },
  {
   "cell_type": "code",
   "execution_count": 19,
   "metadata": {},
   "outputs": [
    {
     "data": {
      "text/plain": [
       "<matplotlib.image.AxesImage at 0x7ff39bf6f250>"
      ]
     },
     "execution_count": 19,
     "metadata": {},
     "output_type": "execute_result"
    },
    {
     "data": {
      "image/png": "[encoded data removed]",
      "text/plain": [
       "<matplotlib.figure.Figure at 0x7ff38f7a8b10>"
      ]
     },
     "metadata": {},
     "output_type": "display_data"
    }
   ],
   "source": [
    "plt.imshow(img, cmap='gray')"
   ]
  },
  {
   "cell_type": "code",
   "execution_count": 21,
   "metadata": {},
   "outputs": [
    {
     "data": {
      "text/plain": [
       "<matplotlib.image.AxesImage at 0x7ff39b9575d0>"
      ]
     },
     "execution_count": 21,
     "metadata": {},
     "output_type": "execute_result"
    },
    {
     "data": {
      "image/png": "[encoded data removed]",
      "text/plain": [
       "<matplotlib.figure.Figure at 0x7ff38f36c8d0>"
      ]
     },
     "metadata": {},
     "output_type": "display_data"
    }
   ],
   "source": [
    "plt.imshow(gt[400:800, 400:800], cmap='gray')"
   ]
  },
  {
   "cell_type": "code",
   "execution_count": null,
   "metadata": {
    "collapsed": true
   },
   "outputs": [],
   "source": []
  }
 ],
 "metadata": {
  "kernelspec": {
   "display_name": "Python 2",
   "language": "python",
   "name": "python2"
  },
  "language_info": {
   "codemirror_mode": {
    "name": "ipython",
    "version": 2
   },
   "file_extension": ".py",
   "mimetype": "text/x-python",
   "name": "python",
   "nbconvert_exporter": "python",
   "pygments_lexer": "ipython2",
   "version": "2.7.13"
  }
 },
 "nbformat": 4,
 "nbformat_minor": 2
}
