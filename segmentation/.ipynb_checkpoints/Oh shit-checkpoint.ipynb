{
 "cells": [
  {
   "cell_type": "code",
   "execution_count": 1,
   "metadata": {
    "collapsed": true
   },
   "outputs": [],
   "source": [
    "import matplotlib.pyplot as plt\n",
    "%matplotlib inline"
   ]
  },
  {
   "cell_type": "code",
   "execution_count": 23,
   "metadata": {},
   "outputs": [],
   "source": [
    "import cv2\n",
    "import numpy as np\n",
    "import os\n",
    "import re\n",
    "import shutil\n",
    "\n",
    "import keras\n",
    "\n",
    "import BachNet\n",
    "import ChopinNet\n",
    "\n",
    "import networkx as nx\n",
    "import sys\n",
    "import time\n",
    "\n",
    "\n",
    "from heapq import heappop as pop\n",
    "from heapq import heappush as push\n",
    "from utils import graph_utils\n",
    "from utils import display_utils\n",
    "from utils import preprocessing_utils"
   ]
  },
  {
   "cell_type": "code",
   "execution_count": 3,
   "metadata": {
    "collapsed": true
   },
   "outputs": [],
   "source": [
    "train_path = \"data/train\"\n",
    "test_path = \"data/test\"\n",
    "\n",
    "input_path = \"input\"\n",
    "output_path = \"output\"\n",
    "\n",
    "receptive_field_shape = (23, 23)\n",
    "n_epochs = 32"
   ]
  },
  {
   "cell_type": "code",
   "execution_count": 4,
   "metadata": {
    "collapsed": true
   },
   "outputs": [],
   "source": [
    "def generate_seeds(image_path, output_path):\n",
    "    \"\"\"Generates a list of seeds for the image at a specified path.\n",
    "\n",
    "    Args:\n",
    "        image_path: The path to the image in a folder.\n",
    "        output_path: The path to save the list of seeds.\n",
    "\n",
    "    Returns:\n",
    "        A list of seeds.\n",
    "    \"\"\"\n",
    "    print(output_path)\n",
    "    os.system(\"gmic -v -1 \" + image_path + \" -negate -label_fg 0,0 -dilate_circ 6 -o labels.png -o -.asc | tail -n +2 | awk '{ for (i = 1; i<=NF; i++) {x[$i] += i; y[$i] += NR; n[$i]++; } } END { for (v in x) { if (v>0) print v,x[v]/n[v],y[v]/n[v] }}' > \" + output_path + \" /seeds.txt\")\n",
    "    seeds = []\n",
    "    f = open(output_path + \"/seeds.txt\", 'r')\n",
    "    for line in f:\n",
    "        y = int(float(re.split(' ', line)[1]))\n",
    "        x = int(float(re.split(' ', line)[2]))\n",
    "        seed = (x - 1, y - 1)\n",
    "        seeds.append(seed)\n",
    "\n",
    "    return seeds[:]"
   ]
  },
  {
   "cell_type": "code",
   "execution_count": 5,
   "metadata": {
    "collapsed": true
   },
   "outputs": [],
   "source": [
    "def load_image(foldername, img_path, gt_path, labels_path):\n",
    "    \n",
    "    if os.path.exists(foldername):\n",
    "        shutil.rmtree(foldername)\n",
    "\n",
    "    os.makedirs(foldername)\n",
    "    \n",
    "    img = cv2.imread(img_path, 0)\n",
    "    gt = cv2.imread(gt_path, 0)\n",
    "    labels = plt.imread(labels_path)\n",
    "    \n",
    "    plt.imsave(os.path.join(foldername, \"img\"), img, cmap='gray')\n",
    "    plt.imsave(os.path.join(foldername, \"gt\"), gt, cmap='gray')    \n",
    "    plt.imsave(os.path.join(foldername, \"labels\"), labels)   \n",
    "\n",
    "    seeds = generate_seeds(gt_path, foldername)\n",
    "    \n",
    "    return img, gt, seeds, labels"
   ]
  },
  {
   "cell_type": "code",
   "execution_count": 6,
   "metadata": {
    "collapsed": true
   },
   "outputs": [],
   "source": [
    "img = cv2.imread(\"data/train/chopin/seyed/seyed\", 0)"
   ]
  },
  {
   "cell_type": "code",
   "execution_count": 7,
   "metadata": {},
   "outputs": [
    {
     "data": {
      "text/plain": [
       "<matplotlib.image.AxesImage at 0x7f820781aa90>"
      ]
     },
     "execution_count": 7,
     "metadata": {},
     "output_type": "execute_result"
    },
    {
     "data": {
      "image/png": "[encoded data removed]",
      "text/plain": [
       "<matplotlib.figure.Figure at 0x7f8207d19fd0>"
      ]
     },
     "metadata": {},
     "output_type": "display_data"
    }
   ],
   "source": [
    "plt.imshow(img)"
   ]
  },
  {
   "cell_type": "code",
   "execution_count": 8,
   "metadata": {
    "collapsed": true
   },
   "outputs": [],
   "source": [
    "labels = cv2.imread(\"data/train/chopin/seyed/labels.png\", 0)"
   ]
  },
  {
   "cell_type": "code",
   "execution_count": 9,
   "metadata": {},
   "outputs": [
    {
     "data": {
      "text/plain": [
       "<matplotlib.image.AxesImage at 0x7f8203f52950>"
      ]
     },
     "execution_count": 9,
     "metadata": {},
     "output_type": "execute_result"
    },
    {
     "data": {
      "image/png": "[encoded data removed]",
      "text/plain": [
       "<matplotlib.figure.Figure at 0x7f820786fdd0>"
      ]
     },
     "metadata": {},
     "output_type": "display_data"
    }
   ],
   "source": [
    "plt.imshow(labels)"
   ]
  },
  {
   "cell_type": "code",
   "execution_count": 10,
   "metadata": {
    "collapsed": true
   },
   "outputs": [],
   "source": [
    "def make_ground_truth_image(labels):\n",
    "    edges_right = labels[:, :-1].ravel() != labels[:, 1:].ravel()\n",
    "    edges_down = labels[:-1].ravel() != labels[1:].ravel()\n",
    "\n",
    "    edges_down = edges_down.reshape((labels.shape[0] - 1, labels.shape[1]))\n",
    "    edges_right = edges_right.reshape((labels.shape[0], labels.shape[1] - 1))\n",
    "\n",
    "    segmentations = np.zeros_like(labels)\n",
    "\n",
    "    for index, x in np.ndenumerate(edges_down):\n",
    "        if x:\n",
    "            segmentations[index] = 255\n",
    "            segmentations[index[0] + 1][index[1]] = 255\n",
    "\n",
    "    for index, x in np.ndenumerate(edges_right):\n",
    "        if x:\n",
    "            segmentations[index] = 255\n",
    "            segmentations[index[0]][index[1] + 1] = 255\n",
    "            \n",
    "    return segmentations"
   ]
  },
  {
   "cell_type": "code",
   "execution_count": 11,
   "metadata": {
    "collapsed": true
   },
   "outputs": [],
   "source": [
    "gt = make_ground_truth_image(labels)"
   ]
  },
  {
   "cell_type": "code",
   "execution_count": 12,
   "metadata": {},
   "outputs": [
    {
     "data": {
      "text/plain": [
       "<matplotlib.image.AxesImage at 0x7f8203ed1e90>"
      ]
     },
     "execution_count": 12,
     "metadata": {},
     "output_type": "execute_result"
    },
    {
     "data": {
      "image/png": "[encoded data removed]",
      "text/plain": [
       "<matplotlib.figure.Figure at 0x7f82077d3d10>"
      ]
     },
     "metadata": {},
     "output_type": "display_data"
    }
   ],
   "source": [
    "plt.imshow(gt)"
   ]
  },
  {
   "cell_type": "code",
   "execution_count": 13,
   "metadata": {
    "collapsed": true
   },
   "outputs": [],
   "source": [
    "seeds = []\n",
    "f = open(\"data/train/chopin/seyed/seeds.txt\", 'r')\n",
    "for line in f:\n",
    "    y = int(float(re.split(' ', line)[1]))\n",
    "    x = int(float(re.split(' ', line)[2]))\n",
    "    seed = (x - 1, y - 1)\n",
    "    seeds.append(seed)"
   ]
  },
  {
   "cell_type": "code",
   "execution_count": 14,
   "metadata": {},
   "outputs": [
    {
     "data": {
      "text/plain": [
       "<matplotlib.image.AxesImage at 0x7f8203e53650>"
      ]
     },
     "execution_count": 14,
     "metadata": {},
     "output_type": "execute_result"
    },
    {
     "data": {
      "image/png": "[encoded data removed]",
      "text/plain": [
       "<matplotlib.figure.Figure at 0x7f8203fa18d0>"
      ]
     },
     "metadata": {},
     "output_type": "display_data"
    }
   ],
   "source": [
    "seed_image = np.copy(gt)\n",
    "for x, y in seeds:\n",
    "    seed_image[x, y] = 100\n",
    "    \n",
    "plt.imshow(seed_image, cmap='gray')"
   ]
  },
  {
   "cell_type": "code",
   "execution_count": 15,
   "metadata": {
    "collapsed": true
   },
   "outputs": [],
   "source": [
    "edges_right = labels[:, :-1].ravel() != labels[:, 1:].ravel()\n",
    "edges_down = labels[:-1].ravel() != labels[1:].ravel()\n",
    "\n",
    "edges_down = edges_down.reshape((labels.shape[0] - 1, labels.shape[1]))\n",
    "edges_right = edges_right.reshape((labels.shape[0], labels.shape[1] - 1))\n",
    "\n",
    "ground_truth_cuts = []\n",
    "\n",
    "for index, x in np.ndenumerate(edges_down):\n",
    "    if x:\n",
    "        ground_truth_cuts.append(((index), (index[0] + 1, index[1])))\n",
    "\n",
    "for index, x in np.ndenumerate(edges_right):\n",
    "    if x:\n",
    "        ground_truth_cuts.append(((index), (index[0], index[1] + 1)))"
   ]
  },
  {
   "cell_type": "code",
   "execution_count": 16,
   "metadata": {
    "collapsed": true
   },
   "outputs": [],
   "source": [
    "bach = BachNet.BachNet()\n",
    "bach.build(receptive_field_shape, 1)\n",
    "bach.load_model('models/saved_model/Bach/model.h5')"
   ]
  },
  {
   "cell_type": "code",
   "execution_count": 17,
   "metadata": {
    "collapsed": true
   },
   "outputs": [],
   "source": [
    "bps = bach.boundary_probabilities(img)"
   ]
  },
  {
   "cell_type": "code",
   "execution_count": 18,
   "metadata": {},
   "outputs": [
    {
     "data": {
      "text/plain": [
       "<matplotlib.image.AxesImage at 0x7f81f33c1250>"
      ]
     },
     "execution_count": 18,
     "metadata": {},
     "output_type": "execute_result"
    },
    {
     "data": {
      "image/png": "[encoded data removed]",
      "text/plain": [
       "<matplotlib.figure.Figure at 0x7f8203e61250>"
      ]
     },
     "metadata": {},
     "output_type": "display_data"
    }
   ],
   "source": [
    "plt.imshow(bps, cmap='gray')"
   ]
  },
  {
   "cell_type": "code",
   "execution_count": 20,
   "metadata": {},
   "outputs": [],
   "source": [
    "chopin = ChopinNet.Chopin()\n",
    "chopin.build(receptive_field_shape, learning_rate=1e-8)\n",
    "#chopin.load_model(\"models/saved_model/Chopin/checkpoint\")\n",
    "chopin.initialize_session()"
   ]
  },
  {
   "cell_type": "code",
   "execution_count": 21,
   "metadata": {
    "collapsed": true
   },
   "outputs": [],
   "source": [
    "I_a = np.stack((img, bps), axis=-1)"
   ]
  },
  {
   "cell_type": "code",
   "execution_count": 25,
   "metadata": {
    "collapsed": true
   },
   "outputs": [],
   "source": [
    "loss_timeline = []"
   ]
  },
  {
   "cell_type": "code",
   "execution_count": null,
   "metadata": {},
   "outputs": [
    {
     "name": "stdout",
     "output_type": "stream",
     "text": [
      "Starting gradient segmentation...\n"
     ]
    }
   ],
   "source": [
    "#ground_truth_cuts, gt_graph, gt_assignments = graph_utils.generate_gt_cuts(gt, seeds, assignments=True)\n",
    "foldername = os.path.join(train_path, \"chopin\", \"seyed2\")\n",
    "\n",
    "plt.imsave\n",
    "\n",
    "for epoch in range(n_epochs):\n",
    "    start = time.time()\n",
    "    graph = graph_utils.prims_initialize(img)\n",
    "    msf = chopin.predicted_msf(I_a, graph, seeds)\n",
    "    segmentations = display_utils.assignments(np.zeros_like(img), msf, seeds)\n",
    "\n",
    "    shortest_paths = nx.get_node_attributes(msf, 'path')\n",
    "    assignments = nx.get_node_attributes(msf, 'seed')\n",
    "    cuts = graph_utils.get_cut_edges(msf)\n",
    "\n",
    "    filename = \"epoch_{}.png\".format(epoch)\n",
    "\n",
    "    mask = display_utils.transparent_mask(img, segmentations)\n",
    "\n",
    "    plt.imsave(os.path.join(foldername, filename), mask)\n",
    "\n",
    "    constrained_msf = msf.copy()\n",
    "\n",
    "    constrained_msf.remove_edges_from(ground_truth_cuts)\n",
    "\n",
    "    constrained_msf = graph_utils.minimum_spanning_forest(img, constrained_msf, seeds)\n",
    "    \n",
    "    #plt.imsave(\"gt_assignments\", display_utils.assignments(img, constrained_msf, seeds))\n",
    "\n",
    "    ground_truth_paths = nx.get_node_attributes(constrained_msf, 'path')\n",
    "\n",
    "    children = graph_utils.compute_root_error_edge_children(shortest_paths,\n",
    "                                                      ground_truth_paths, cuts,\n",
    "                                                      ground_truth_cuts)\n",
    "\n",
    "    weights = []\n",
    "    static_images = []\n",
    "    dynamic_images = []\n",
    "\n",
    "    for (u, v), weight in children.iteritems():\n",
    "\n",
    "        try:\n",
    "            static_images.append(msf.get_edge_data(u, v)['static_image'])\n",
    "            dynamic_images.append(msf.get_edge_data(u, v)['dynamic_image'])\n",
    "            weights.append(weight)\n",
    "            altitude_val = msf.get_edge_data(u, v)['weight']\n",
    "        except KeyError:\n",
    "            pass\n",
    "\n",
    "    batches = zip(preprocessing_utils.create_batches(np.expand_dims(np.stack(weights), 1)),\n",
    "                  preprocessing_utils.create_batches(np.stack(static_images)),\n",
    "                  preprocessing_utils.create_batches(np.stack(dynamic_images)))\n",
    "\n",
    "    loss = 0\n",
    "    with chopin.sess.as_default():\n",
    "        chopin.sess.run(chopin.zero_ops)\n",
    "\n",
    "        for w, s, d in batches:\n",
    "            feed_dict = {chopin.gradient_weights: w.transpose(),\n",
    "                         chopin.static_input: s,\n",
    "                         chopin.dynamic_input: d,\n",
    "                         keras.backend.learning_phase(): 0}\n",
    "\n",
    "            chopin.sess.run(chopin.accum_ops, feed_dict)\n",
    "            loss = chopin.sess.run(chopin.loss, feed_dict)\n",
    "            loss += loss[0][0]\n",
    "\n",
    "        chopin.sess.run(chopin.train_step)\n",
    "\n",
    "    print(time.time() - start)\n",
    "    loss_timeline.append(loss)\n",
    "    print(\"Loss: \", loss)"
   ]
  },
  {
   "cell_type": "code",
   "execution_count": null,
   "metadata": {
    "collapsed": true
   },
   "outputs": [],
   "source": []
  }
 ],
 "metadata": {
  "kernelspec": {
   "display_name": "Python 2",
   "language": "python",
   "name": "python2"
  },
  "language_info": {
   "codemirror_mode": {
    "name": "ipython",
    "version": 2
   },
   "file_extension": ".py",
   "mimetype": "text/x-python",
   "name": "python",
   "nbconvert_exporter": "python",
   "pygments_lexer": "ipython2",
   "version": "2.7.14"
  }
 },
 "nbformat": 4,
 "nbformat_minor": 2
}
