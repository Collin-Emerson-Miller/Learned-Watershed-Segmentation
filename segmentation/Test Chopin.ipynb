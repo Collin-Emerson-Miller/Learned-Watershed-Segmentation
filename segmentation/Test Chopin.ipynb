{
 "cells": [
  {
   "cell_type": "code",
   "execution_count": 1,
   "metadata": {
    "collapsed": true
   },
   "outputs": [],
   "source": [
    "# Crafted by Collin Miller\n"
   ]
  },
  {
   "cell_type": "code",
   "execution_count": 2,
   "metadata": {
    "collapsed": true
   },
   "outputs": [],
   "source": [
    "from __future__ import absolute_import\n",
    "from __future__ import division\n",
    "from __future__ import print_function"
   ]
  },
  {
   "cell_type": "code",
   "execution_count": 3,
   "metadata": {},
   "outputs": [
    {
     "name": "stderr",
     "output_type": "stream",
     "text": [
      "Using TensorFlow backend.\n"
     ]
    }
   ],
   "source": [
    "import cv2\n",
    "import networkx as nx\n",
    "import numpy as np\n",
    "import os\n",
    "import re\n",
    "import sys\n",
    "import cremi\n",
    "from cremi.evaluation import NeuronIds\n",
    "from cremi.io import CremiFile\n",
    "\n",
    "import matplotlib.pyplot as plt\n",
    "%matplotlib inline\n",
    "\n",
    "from models import ChopinNet\n",
    "from models import BachNet\n",
    "from utils import display_utils\n",
    "from utils import preprocessing_utils\n",
    "from utils import graph_utils\n",
    "from utils import prediction_utils"
   ]
  },
  {
   "cell_type": "code",
   "execution_count": 4,
   "metadata": {
    "collapsed": true
   },
   "outputs": [],
   "source": [
    "receptive_field_shape = (23, 23)\n",
    "bach = BachNet.BachNet()"
   ]
  },
  {
   "cell_type": "code",
   "execution_count": 5,
   "metadata": {
    "collapsed": true
   },
   "outputs": [],
   "source": [
    "import h5py"
   ]
  },
  {
   "cell_type": "code",
   "execution_count": 6,
   "metadata": {
    "collapsed": true
   },
   "outputs": [],
   "source": [
    "def get_cremi_data():\n",
    "    \n",
    "    # Get neuron ids from Cremi data.\n",
    "    with h5py.File(\"data/cremi_data/train/sample_C_20160501.hdf\", \"r\") as hdf:\n",
    "        print (\"Initializing...\")\n",
    "        labels = hdf['volumes']['labels']['neuron_ids'][:]\n",
    "        raw = hdf['volumes']['raw'].value\n",
    "        print (\"Done!\")\n",
    "        \n",
    "    return raw, labels"
   ]
  },
  {
   "cell_type": "code",
   "execution_count": 7,
   "metadata": {},
   "outputs": [
    {
     "name": "stdout",
     "output_type": "stream",
     "text": [
      "Initializing...\n",
      "Done!\n"
     ]
    }
   ],
   "source": [
    "raw, labels = get_cremi_data()"
   ]
  },
  {
   "cell_type": "code",
   "execution_count": 8,
   "metadata": {},
   "outputs": [],
   "source": [
    "raw_test_image =  raw[110, 10:100, 10:100]\n",
    "test_labels =  labels[110, 10:100, 10:100]"
   ]
  },
  {
   "cell_type": "code",
   "execution_count": 9,
   "metadata": {},
   "outputs": [
    {
     "data": {
      "text/plain": [
       "array([[ 77,  77,  79, ..., 115, 125, 134],\n",
       "       [ 88,  84,  84, ..., 112, 117, 123],\n",
       "       [100,  99,  96, ..., 109, 110, 115],\n",
       "       ..., \n",
       "       [159, 158, 159, ..., 145, 154, 154],\n",
       "       [157, 156, 159, ..., 142, 148, 158],\n",
       "       [158, 157, 157, ..., 149, 150, 152]], dtype=uint8)"
      ]
     },
     "execution_count": 9,
     "metadata": {},
     "output_type": "execute_result"
    }
   ],
   "source": [
    "raw_test_image"
   ]
  },
  {
   "cell_type": "code",
   "execution_count": 10,
   "metadata": {},
   "outputs": [
    {
     "data": {
      "text/plain": [
       "array([[10906, 10906, 10906, ..., 10938, 10938, 10938],\n",
       "       [10906, 10906, 10906, ..., 10938, 10938, 10938],\n",
       "       [10906, 10906, 10906, ..., 10938, 10938, 10938],\n",
       "       ..., \n",
       "       [10902, 10902, 10902, ..., 10938, 10938, 10938],\n",
       "       [10902, 10902, 10902, ..., 10938, 10938, 10938],\n",
       "       [10902, 10902, 10902, ..., 10938, 10938, 10938]], dtype=uint64)"
      ]
     },
     "execution_count": 10,
     "metadata": {},
     "output_type": "execute_result"
    }
   ],
   "source": [
    "test_labels"
   ]
  },
  {
   "cell_type": "code",
   "execution_count": 11,
   "metadata": {},
   "outputs": [
    {
     "data": {
      "text/plain": [
       "<matplotlib.image.AxesImage at 0x7f6c359cb690>"
      ]
     },
     "execution_count": 11,
     "metadata": {},
     "output_type": "execute_result"
    },
    {
     "data": {
      "image/png": "[encoded data removed]",
      "text/plain": [
       "<matplotlib.figure.Figure at 0x7f6c9eb80f10>"
      ]
     },
     "metadata": {},
     "output_type": "display_data"
    }
   ],
   "source": [
    "plt.imshow(raw_test_image, cmap='gray')"
   ]
  },
  {
   "cell_type": "code",
   "execution_count": 12,
   "metadata": {
    "collapsed": true
   },
   "outputs": [],
   "source": [
    "plt.imsave(\"data/test/input/manual_test\", raw_test_image, cmap='gray')"
   ]
  },
  {
   "cell_type": "code",
   "execution_count": 13,
   "metadata": {
    "collapsed": true
   },
   "outputs": [],
   "source": [
    "def ids_to_segmentation(neuron_ids):\n",
    "    \"\"\"\n",
    "    Given a numpy array containing the neuron ids for a CREMI neural segmentation image,\n",
    "    this function returns the ground segmentation image where a segmentation boundary\n",
    "    is a white pixel and everything else is a black pixel.\n",
    "    Args:\n",
    "        neuron_ids: A numpy array containing the neuron ids of a segmentation image.\n",
    "    Returns:\n",
    "        A numpy array of ground truth segmentations.\n",
    "    \"\"\"\n",
    "\n",
    "    edges_right = neuron_ids[:, :-1].ravel() != neuron_ids[:, 1:].ravel()\n",
    "    edges_down = neuron_ids[:-1].ravel() != neuron_ids[1:].ravel()\n",
    "\n",
    "    edges_down = edges_down.reshape((neuron_ids.shape[0] - 1, neuron_ids.shape[1]))\n",
    "    edges_right = edges_right.reshape((neuron_ids.shape[0], neuron_ids.shape[1] - 1))\n",
    "\n",
    "    segmentations = np.zeros_like(neuron_ids)\n",
    "\n",
    "    for index, x in np.ndenumerate(edges_down):\n",
    "        if x:\n",
    "            segmentations[index] = 255\n",
    "            segmentations[index[0] + 1][index[1]] = 255\n",
    "\n",
    "    for index, x in np.ndenumerate(edges_right):\n",
    "        if x:\n",
    "            segmentations[index] = 255\n",
    "            segmentations[index[0]][index[1] + 1] = 255\n",
    "\n",
    "    return segmentations"
   ]
  },
  {
   "cell_type": "code",
   "execution_count": 14,
   "metadata": {},
   "outputs": [],
   "source": [
    "gt_test = ids_to_segmentation(test_labels)"
   ]
  },
  {
   "cell_type": "code",
   "execution_count": 15,
   "metadata": {
    "scrolled": false
   },
   "outputs": [
    {
     "data": {
      "text/plain": [
       "<matplotlib.image.AxesImage at 0x7f6c320d7e10>"
      ]
     },
     "execution_count": 15,
     "metadata": {},
     "output_type": "execute_result"
    },
    {
     "data": {
      "image/png": "[encoded data removed]",
      "text/plain": [
       "<matplotlib.figure.Figure at 0x7f6c359af990>"
      ]
     },
     "metadata": {},
     "output_type": "display_data"
    }
   ],
   "source": [
    "plt.imshow(gt_test, cmap='gray')"
   ]
  },
  {
   "cell_type": "code",
   "execution_count": 16,
   "metadata": {
    "collapsed": true
   },
   "outputs": [],
   "source": [
    "plt.imsave(\"data/test/input/manual_test_gt\", gt_test, cmap='gray')"
   ]
  },
  {
   "cell_type": "code",
   "execution_count": 17,
   "metadata": {},
   "outputs": [
    {
     "name": "stdout",
     "output_type": "stream",
     "text": [
      "data/test/input/manual_test_gt data/test/chopin/manual_test\n"
     ]
    }
   ],
   "source": [
    "img, gt, seeds = preprocessing_utils.load_image(\"data/test/chopin/manual_test\", \"test\", \"data/test/input/manual_test\", \"data/test/input/manual_test_gt\")"
   ]
  },
  {
   "cell_type": "code",
   "execution_count": 18,
   "metadata": {},
   "outputs": [],
   "source": [
    "bach.build(23, 23, 1)\n",
    "bach.load_model('models/saved_model/Bach/model.h5')\n",
    "\n",
    "bps = prediction_utils.boundary_probabilities(bach, img)"
   ]
  },
  {
   "cell_type": "code",
   "execution_count": 19,
   "metadata": {},
   "outputs": [
    {
     "data": {
      "text/plain": [
       "array([[ 0.07065698,  0.07065698,  0.07065698, ...,  0.07065698,\n",
       "         0.07065698,  0.07065698],\n",
       "       [ 0.07065698,  0.07065698,  0.07065698, ...,  0.07065698,\n",
       "         0.07065698,  0.07065698],\n",
       "       [ 0.07065698,  0.07065698,  0.07065698, ...,  0.07065698,\n",
       "         0.07065698,  0.07065698],\n",
       "       ..., \n",
       "       [ 0.07065698,  0.07065698,  0.07065698, ...,  0.07065698,\n",
       "         0.07065698,  0.07065698],\n",
       "       [ 0.07065698,  0.07065698,  0.07065698, ...,  0.07065698,\n",
       "         0.07065698,  0.07065698],\n",
       "       [ 0.07065698,  0.07065698,  0.07065698, ...,  0.07065698,\n",
       "         0.07065698,  0.07065698]], dtype=float32)"
      ]
     },
     "execution_count": 19,
     "metadata": {},
     "output_type": "execute_result"
    }
   ],
   "source": [
    "bps"
   ]
  },
  {
   "cell_type": "code",
   "execution_count": 20,
   "metadata": {},
   "outputs": [
    {
     "data": {
      "text/plain": [
       "<matplotlib.image.AxesImage at 0x7f6c296b3c90>"
      ]
     },
     "execution_count": 20,
     "metadata": {},
     "output_type": "execute_result"
    },
    {
     "data": {
      "image/png": "[encoded data removed]",
      "text/plain": [
       "<matplotlib.figure.Figure at 0x7f6c32116110>"
      ]
     },
     "metadata": {},
     "output_type": "display_data"
    }
   ],
   "source": [
    "plt.imshow(bps, cmap='gray')"
   ]
  },
  {
   "cell_type": "code",
   "execution_count": 21,
   "metadata": {},
   "outputs": [
    {
     "name": "stdout",
     "output_type": "stream",
     "text": [
      "INFO:tensorflow:Restoring parameters from models/saved_model/Chopin/model.ckpt\n"
     ]
    }
   ],
   "source": [
    "chopin = ChopinNet.Chopin()\n",
    "chopin.build(receptive_field_shape)\n",
    "chopin.initialize_session()\n",
    "chopin.load_model(\"models/saved_model/Chopin/model.ckpt\")"
   ]
  },
  {
   "cell_type": "code",
   "execution_count": 22,
   "metadata": {},
   "outputs": [
    {
     "name": "stdout",
     "output_type": "stream",
     "text": [
      "Starting gradient segmentation...\n",
      "Segmentation done: 268.689468s\n"
     ]
    }
   ],
   "source": [
    "I_a = np.stack((img, bps), axis=2)\n",
    "I_a = preprocessing_utils.pad_for_window(I_a,\n",
    "                           chopin.receptive_field_shape[0],\n",
    "                           chopin.receptive_field_shape[1])\n",
    "\n",
    "graph = graph_utils.prims_initialize(img)\n",
    "\n",
    "msf = prediction_utils.minimum_spanning_forest(chopin, I_a, graph, seeds)\n",
    "\n",
    "segmentations = display_utils.assignments(img, msf, seeds)\n",
    "\n",
    "assignments = nx.get_node_attributes(msf, 'seed')"
   ]
  },
  {
   "cell_type": "code",
   "execution_count": 23,
   "metadata": {},
   "outputs": [
    {
     "data": {
      "text/plain": [
       "<matplotlib.image.AxesImage at 0x7f6c06dee4d0>"
      ]
     },
     "execution_count": 23,
     "metadata": {},
     "output_type": "execute_result"
    },
    {
     "data": {
      "image/png": "[encoded data removed]",
      "text/plain": [
       "<matplotlib.figure.Figure at 0x7f6c090c9890>"
      ]
     },
     "metadata": {},
     "output_type": "display_data"
    }
   ],
   "source": [
    "plt.imshow(display_utils.assignments(img, msf, seeds))"
   ]
  },
  {
   "cell_type": "code",
   "execution_count": 24,
   "metadata": {},
   "outputs": [
    {
     "data": {
      "text/plain": [
       "<matplotlib.image.AxesImage at 0x7f6c072ace50>"
      ]
     },
     "execution_count": 24,
     "metadata": {},
     "output_type": "execute_result"
    },
    {
     "data": {
      "image/png": "[encoded data removed]",
      "text/plain": [
       "<matplotlib.figure.Figure at 0x7f6c3203fe50>"
      ]
     },
     "metadata": {},
     "output_type": "display_data"
    }
   ],
   "source": [
    "plt.imshow(gt_test, cmap='gray')"
   ]
  },
  {
   "cell_type": "code",
   "execution_count": 25,
   "metadata": {},
   "outputs": [
    {
     "data": {
      "text/plain": [
       "array([[10906, 10906, 10906, ..., 10938, 10938, 10938],\n",
       "       [10906, 10906, 10906, ..., 10938, 10938, 10938],\n",
       "       [10906, 10906, 10906, ..., 10938, 10938, 10938],\n",
       "       ..., \n",
       "       [10902, 10902, 10902, ..., 10938, 10938, 10938],\n",
       "       [10902, 10902, 10902, ..., 10938, 10938, 10938],\n",
       "       [10902, 10902, 10902, ..., 10938, 10938, 10938]], dtype=uint64)"
      ]
     },
     "execution_count": 25,
     "metadata": {},
     "output_type": "execute_result"
    }
   ],
   "source": [
    "test_labels"
   ]
  },
  {
   "cell_type": "code",
   "execution_count": 26,
   "metadata": {},
   "outputs": [
    {
     "data": {
      "text/plain": [
       "[(8, 34), (48, 64), (26, 12), (64, 18)]"
      ]
     },
     "execution_count": 26,
     "metadata": {},
     "output_type": "execute_result"
    }
   ],
   "source": [
    "seeds"
   ]
  },
  {
   "cell_type": "code",
   "execution_count": 27,
   "metadata": {
    "collapsed": true
   },
   "outputs": [],
   "source": [
    "label_mapping = {}\n",
    "\n",
    "for x, y in seeds:\n",
    "    label_mapping[(x, y)] = test_labels[x, y]"
   ]
  },
  {
   "cell_type": "code",
   "execution_count": 28,
   "metadata": {},
   "outputs": [
    {
     "data": {
      "text/plain": [
       "{(8, 34): 10906, (26, 12): 11543, (48, 64): 10938, (64, 18): 10902}"
      ]
     },
     "execution_count": 28,
     "metadata": {},
     "output_type": "execute_result"
    }
   ],
   "source": [
    "label_mapping"
   ]
  },
  {
   "cell_type": "code",
   "execution_count": 29,
   "metadata": {},
   "outputs": [],
   "source": [
    "segmentation = np.zeros_like(test_labels)\n",
    "\n",
    "for (x, y), seed in assignments.iteritems():\n",
    "    segmentation[x, y] = label_mapping[seed]"
   ]
  },
  {
   "cell_type": "code",
   "execution_count": 30,
   "metadata": {},
   "outputs": [
    {
     "data": {
      "text/plain": [
       "array([[11543, 11543, 11543, ..., 10938, 10938, 10938],\n",
       "       [11543, 11543, 11543, ..., 10938, 10938, 10938],\n",
       "       [11543, 11543, 11543, ..., 10938, 10938, 10938],\n",
       "       ..., \n",
       "       [10902, 10902, 10902, ..., 10938, 10938, 10938],\n",
       "       [10902, 10902, 10902, ..., 10938, 10938, 10938],\n",
       "       [10902, 10902, 10902, ..., 10938, 10938, 10938]], dtype=uint64)"
      ]
     },
     "execution_count": 30,
     "metadata": {},
     "output_type": "execute_result"
    }
   ],
   "source": [
    "segmentation"
   ]
  },
  {
   "cell_type": "code",
   "execution_count": 56,
   "metadata": {
    "collapsed": true
   },
   "outputs": [],
   "source": [
    "# coding=utf-8\n",
    "\n",
    "# Evaluation code courtesy of Juan Nunez-Iglesias, taken from\n",
    "# https://github.com/janelia-flyem/gala/blob/master/gala/evaluate.py\n",
    "\n",
    "import numpy as np\n",
    "import scipy.sparse as sparse\n",
    "\n",
    "def voi(reconstruction, groundtruth, ignore_reconstruction=[], ignore_groundtruth=[0]):\n",
    "    \"\"\"Return the conditional entropies of the variation of information metric. [1]\n",
    "    Let X be a reconstruction, and Y a ground truth labelling. The variation of \n",
    "    information between the two is the sum of two conditional entropies:\n",
    "        VI(X, Y) = H(X|Y) + H(Y|X).\n",
    "    The first one, H(X|Y), is a measure of oversegmentation, the second one, \n",
    "    H(Y|X), a measure of undersegmentation. These measures are referred to as \n",
    "    the variation of information split or merge error, respectively.\n",
    "    Parameters\n",
    "    ----------\n",
    "    seg : np.ndarray, int type, arbitrary shape\n",
    "        A candidate segmentation.\n",
    "    gt : np.ndarray, int type, same shape as `seg`\n",
    "        The ground truth segmentation.\n",
    "    ignore_seg, ignore_gt : list of int, optional\n",
    "        Any points having a label in this list are ignored in the evaluation.\n",
    "        By default, only the label 0 in the ground truth will be ignored.\n",
    "    Returns\n",
    "    -------\n",
    "    (split, merge) : float\n",
    "        The variation of information split and merge error, i.e., H(X|Y) and H(Y|X)\n",
    "    References\n",
    "    ----------\n",
    "    [1] Meila, M. (2007). Comparing clusterings - an information based \n",
    "    distance. Journal of Multivariate Analysis 98, 873-895.\n",
    "    \"\"\"\n",
    "    (hyxg, hxgy) = split_vi(reconstruction, groundtruth, ignore_reconstruction, ignore_groundtruth)\n",
    "    return (hxgy, hyxg)\n",
    "\n",
    "def split_vi(x, y=None, ignore_x=[0], ignore_y=[0]):\n",
    "    \"\"\"Return the symmetric conditional entropies associated with the VI.\n",
    "    The variation of information is defined as VI(X,Y) = H(X|Y) + H(Y|X).\n",
    "    If Y is the ground-truth segmentation, then H(Y|X) can be interpreted\n",
    "    as the amount of under-segmentation of Y and H(X|Y) is then the amount\n",
    "    of over-segmentation.  In other words, a perfect over-segmentation\n",
    "    will have H(Y|X)=0 and a perfect under-segmentation will have H(X|Y)=0.\n",
    "    If y is None, x is assumed to be a contingency table.\n",
    "    Parameters\n",
    "    ----------\n",
    "    x : np.ndarray\n",
    "        Label field (int type) or contingency table (float). `x` is\n",
    "        interpreted as a contingency table (summing to 1.0) if and only if `y`\n",
    "        is not provided.\n",
    "    y : np.ndarray of int, same shape as x, optional\n",
    "        A label field to compare to `x`.\n",
    "    ignore_x, ignore_y : list of int, optional\n",
    "        Any points having a label in this list are ignored in the evaluation.\n",
    "        Ignore 0-labeled points by default.\n",
    "    Returns\n",
    "    -------\n",
    "    sv : np.ndarray of float, shape (2,)\n",
    "        The conditional entropies of Y|X and X|Y.\n",
    "    See Also\n",
    "    --------\n",
    "    vi\n",
    "    \"\"\"\n",
    "    _, _, _ , hxgy, hygx, _, _ = vi_tables(x, y, ignore_x, ignore_y)\n",
    "    # false merges, false splits\n",
    "    return np.array([hygx.sum(), hxgy.sum()])\n",
    "\n",
    "def vi_tables(x, y=None, ignore_x=[0], ignore_y=[0]):\n",
    "    \"\"\"Return probability tables used for calculating VI.\n",
    "    If y is None, x is assumed to be a contingency table.\n",
    "    Parameters\n",
    "    ----------\n",
    "    x, y : np.ndarray\n",
    "        Either x and y are provided as equal-shaped np.ndarray label fields\n",
    "        (int type), or y is not provided and x is a contingency table\n",
    "        (sparse.csc_matrix) that may or may not sum to 1.\n",
    "    ignore_x, ignore_y : list of int, optional\n",
    "        Rows and columns (respectively) to ignore in the contingency table.\n",
    "        These are labels that are not counted when evaluating VI.\n",
    "    Returns\n",
    "    -------\n",
    "    pxy : sparse.csc_matrix of float\n",
    "        The normalized contingency table.\n",
    "    px, py, hxgy, hygx, lpygx, lpxgy : np.ndarray of float\n",
    "        The proportions of each label in `x` and `y` (`px`, `py`), the\n",
    "        per-segment conditional entropies of `x` given `y` and vice-versa, the\n",
    "        per-segment conditional probability p log p.\n",
    "    \"\"\"\n",
    "    if y is not None:\n",
    "        pxy = contingency_table(x, y, ignore_x, ignore_y)\n",
    "    else:\n",
    "        cont = x\n",
    "        total = float(cont.sum())\n",
    "        # normalize, since it is an identity op if already done\n",
    "        pxy = cont / total\n",
    "\n",
    "    # Calculate probabilities\n",
    "    px = np.array(pxy.sum(axis=1)).ravel()\n",
    "    py = np.array(pxy.sum(axis=0)).ravel()\n",
    "    # Remove zero rows/cols\n",
    "    nzx = px.nonzero()[0]\n",
    "    nzy = py.nonzero()[0]\n",
    "    nzpx = px[nzx]\n",
    "    nzpy = py[nzy]\n",
    "    nzpxy = pxy[nzx, :][:, nzy]\n",
    "\n",
    "    # Calculate log conditional probabilities and entropies\n",
    "    lpygx = np.zeros(np.shape(px))\n",
    "    lpygx = np.expand_dims(lpygx, axis=-1)\n",
    "    \n",
    "    lpygx[nzx] = xlogx(divide_rows(nzpxy, nzpx)).sum(axis=1) \n",
    "                        # \\sum_x{p_{y|x} \\log{p_{y|x}}}\n",
    "    hygx = -(px*lpygx) # \\sum_x{p_x H(Y|X=x)} = H(Y|X)\n",
    "\n",
    "    lpxgy = np.zeros(np.shape(py))\n",
    "    lpxgy[nzy] = xlogx(divide_columns(nzpxy, nzpy)).sum(axis=0)\n",
    "    hxgy = -(py*lpxgy)\n",
    "\n",
    "    return [pxy] + list(map(np.asarray, [px, py, hxgy, hygx, lpygx, lpxgy]))\n",
    "\n",
    "def contingency_table(seg, gt, ignore_seg=[0], ignore_gt=[0], norm=True):\n",
    "    \"\"\"Return the contingency table for all regions in matched segmentations.\n",
    "    Parameters\n",
    "    ----------\n",
    "    seg : np.ndarray, int type, arbitrary shape\n",
    "        A candidate segmentation.\n",
    "    gt : np.ndarray, int type, same shape as `seg`\n",
    "        The ground truth segmentation.\n",
    "    ignore_seg : list of int, optional\n",
    "        Values to ignore in `seg`. Voxels in `seg` having a value in this list\n",
    "        will not contribute to the contingency table. (default: [0])\n",
    "    ignore_gt : list of int, optional\n",
    "        Values to ignore in `gt`. Voxels in `gt` having a value in this list\n",
    "        will not contribute to the contingency table. (default: [0])\n",
    "    norm : bool, optional\n",
    "        Whether to normalize the table so that it sums to 1.\n",
    "    Returns\n",
    "    -------\n",
    "    cont : scipy.sparse.csc_matrix\n",
    "        A contingency table. `cont[i, j]` will equal the number of voxels\n",
    "        labeled `i` in `seg` and `j` in `gt`. (Or the proportion of such voxels\n",
    "        if `norm=True`.)\n",
    "    \"\"\"\n",
    "    segr = seg.ravel() \n",
    "    gtr = gt.ravel()\n",
    "    ignored = np.zeros(segr.shape, np.bool)\n",
    "    data = np.ones(len(gtr))\n",
    "    for i in ignore_seg:\n",
    "        ignored[segr == i] = True\n",
    "    for j in ignore_gt:\n",
    "        ignored[gtr == j] = True\n",
    "    data[ignored] = 0\n",
    "    cont = sparse.coo_matrix((data, (segr, gtr))).tocsc()\n",
    "    if norm:\n",
    "        cont /= float(cont.sum())\n",
    "    return cont\n",
    "\n",
    "def divide_columns(matrix, row, in_place=False):\n",
    "    \"\"\"Divide each column of `matrix` by the corresponding element in `row`.\n",
    "    The result is as follows: out[i, j] = matrix[i, j] / row[j]\n",
    "    Parameters\n",
    "    ----------\n",
    "    matrix : np.ndarray, scipy.sparse.csc_matrix or csr_matrix, shape (M, N)\n",
    "        The input matrix.\n",
    "    column : a 1D np.ndarray, shape (N,)\n",
    "        The row dividing `matrix`.\n",
    "    in_place : bool (optional, default False)\n",
    "        Do the computation in-place.\n",
    "    Returns\n",
    "    -------\n",
    "    out : same type as `matrix`\n",
    "        The result of the row-wise division.\n",
    "    \"\"\"\n",
    "    if in_place:\n",
    "        out = matrix\n",
    "    else:\n",
    "        out = matrix.copy()\n",
    "    if type(out) in [sparse.csc_matrix, sparse.csr_matrix]:\n",
    "        if type(out) == sparse.csc_matrix:\n",
    "            convert_to_csc = True\n",
    "            out = out.tocsr()\n",
    "        else:\n",
    "            convert_to_csc = False\n",
    "        row_repeated = np.take(row, out.indices)\n",
    "        nz = out.data.nonzero()\n",
    "        out.data[nz] /= row_repeated[nz]\n",
    "        if convert_to_csc:\n",
    "            out = out.tocsc()\n",
    "    else:\n",
    "        out /= row[np.newaxis, :]\n",
    "    return out\n",
    "\n",
    "def divide_rows(matrix, column, in_place=False):\n",
    "    \"\"\"Divide each row of `matrix` by the corresponding element in `column`.\n",
    "    The result is as follows: out[i, j] = matrix[i, j] / column[i]\n",
    "    Parameters\n",
    "    ----------\n",
    "    matrix : np.ndarray, scipy.sparse.csc_matrix or csr_matrix, shape (M, N)\n",
    "        The input matrix.\n",
    "    column : a 1D np.ndarray, shape (M,)\n",
    "        The column dividing `matrix`.\n",
    "    in_place : bool (optional, default False)\n",
    "        Do the computation in-place.\n",
    "    Returns\n",
    "    -------\n",
    "    out : same type as `matrix`\n",
    "        The result of the row-wise division.\n",
    "    \"\"\"\n",
    "    if in_place:\n",
    "        out = matrix\n",
    "    else:\n",
    "        out = matrix.copy()\n",
    "    if type(out) in [sparse.csc_matrix, sparse.csr_matrix]:\n",
    "        if type(out) == sparse.csr_matrix:\n",
    "            convert_to_csr = True\n",
    "            out = out.tocsc()\n",
    "        else:\n",
    "            convert_to_csr = False\n",
    "        column_repeated = np.take(column, out.indices)\n",
    "        nz = out.data.nonzero()\n",
    "        out.data[nz] /= column_repeated[nz]\n",
    "        if convert_to_csr:\n",
    "            out = out.tocsr()\n",
    "    else:\n",
    "        out /= column[:, np.newaxis]\n",
    "    return out\n",
    "\n",
    "def xlogx(x, out=None, in_place=False):\n",
    "    \"\"\"Compute x * log_2(x).\n",
    "    We define 0 * log_2(0) = 0\n",
    "    Parameters\n",
    "    ----------\n",
    "    x : np.ndarray or scipy.sparse.csc_matrix or csr_matrix\n",
    "        The input array.\n",
    "    out : same type as x (optional)\n",
    "        If provided, use this array/matrix for the result.\n",
    "    in_place : bool (optional, default False)\n",
    "        Operate directly on x.\n",
    "    Returns\n",
    "    -------\n",
    "    y : same type as x\n",
    "        Result of x * log_2(x).\n",
    "    \"\"\"\n",
    "    if in_place:\n",
    "        y = x\n",
    "    elif out is None:\n",
    "        y = x.copy()\n",
    "    else:\n",
    "        y = out\n",
    "    if type(y) in [sparse.csc_matrix, sparse.csr_matrix]:\n",
    "        z = y.data\n",
    "    else:\n",
    "        z = y\n",
    "    nz = z.nonzero()\n",
    "    z[nz] *= np.log2(z[nz])\n",
    "    return y"
   ]
  },
  {
   "cell_type": "code",
   "execution_count": 31,
   "metadata": {},
   "outputs": [
    {
     "data": {
      "text/plain": [
       "array([2026, 6074])"
      ]
     },
     "execution_count": 31,
     "metadata": {},
     "output_type": "execute_result"
    }
   ],
   "source": [
    "a = (test_labels.flatten() == segmentation.flatten())\n",
    "np.bincount(a)"
   ]
  },
  {
   "cell_type": "code",
   "execution_count": 32,
   "metadata": {},
   "outputs": [
    {
     "data": {
      "text/plain": [
       "0.68347380124011314"
      ]
     },
     "execution_count": 32,
     "metadata": {},
     "output_type": "execute_result"
    }
   ],
   "source": [
    "from sklearn.metrics.cluster import adjusted_rand_score"
   ]
  },
  {
   "cell_type": "code",
   "execution_count": 59,
   "metadata": {},
   "outputs": [],
   "source": [
    "a_rand = adjusted_rand_score(test_labels.flatten(), segmentation.flatten())\n",
    "split, merge = voi(segmentation, test_labels)"
   ]
  },
  {
   "cell_type": "code",
   "execution_count": 61,
   "metadata": {},
   "outputs": [
    {
     "data": {
      "text/plain": [
       "0.68347380124011314"
      ]
     },
     "execution_count": 61,
     "metadata": {},
     "output_type": "execute_result"
    }
   ],
   "source": [
    "a_rand"
   ]
  },
  {
   "cell_type": "code",
   "execution_count": 63,
   "metadata": {},
   "outputs": [
    {
     "name": "stdout",
     "output_type": "stream",
     "text": [
      "A_Rand:\t 0.68347380124\n",
      "VOI split:\t 0.492335808565\n",
      "VOI merge:\t 2.22605521615\n"
     ]
    }
   ],
   "source": [
    "print(\"A_Rand:\\t\", a_rand)\n",
    "print(\"VOI split:\\t\", split)\n",
    "print(\"VOI merge:\\t\", merge)"
   ]
  },
  {
   "cell_type": "code",
   "execution_count": null,
   "metadata": {
    "collapsed": true
   },
   "outputs": [],
   "source": []
  },
  {
   "cell_type": "code",
   "execution_count": null,
   "metadata": {
    "collapsed": true
   },
   "outputs": [],
   "source": []
  },
  {
   "cell_type": "code",
   "execution_count": null,
   "metadata": {
    "collapsed": true
   },
   "outputs": [],
   "source": []
  },
  {
   "cell_type": "code",
   "execution_count": null,
   "metadata": {
    "collapsed": true
   },
   "outputs": [],
   "source": []
  },
  {
   "cell_type": "code",
   "execution_count": null,
   "metadata": {
    "collapsed": true
   },
   "outputs": [],
   "source": []
  },
  {
   "cell_type": "code",
   "execution_count": null,
   "metadata": {
    "collapsed": true
   },
   "outputs": [],
   "source": []
  },
  {
   "cell_type": "code",
   "execution_count": null,
   "metadata": {
    "collapsed": true
   },
   "outputs": [],
   "source": []
  },
  {
   "cell_type": "code",
   "execution_count": null,
   "metadata": {
    "collapsed": true
   },
   "outputs": [],
   "source": []
  },
  {
   "cell_type": "code",
   "execution_count": null,
   "metadata": {
    "collapsed": true
   },
   "outputs": [],
   "source": []
  },
  {
   "cell_type": "code",
   "execution_count": null,
   "metadata": {
    "collapsed": true
   },
   "outputs": [],
   "source": []
  },
  {
   "cell_type": "code",
   "execution_count": null,
   "metadata": {
    "collapsed": true
   },
   "outputs": [],
   "source": []
  },
  {
   "cell_type": "code",
   "execution_count": null,
   "metadata": {
    "collapsed": true
   },
   "outputs": [],
   "source": []
  },
  {
   "cell_type": "code",
   "execution_count": null,
   "metadata": {
    "collapsed": true
   },
   "outputs": [],
   "source": []
  },
  {
   "cell_type": "code",
   "execution_count": null,
   "metadata": {
    "collapsed": true
   },
   "outputs": [],
   "source": []
  },
  {
   "cell_type": "code",
   "execution_count": 178,
   "metadata": {
    "scrolled": true
   },
   "outputs": [
    {
     "name": "stdout",
     "output_type": "stream",
     "text": [
      "Computing VOI...\n"
     ]
    },
    {
     "ename": "ValueError",
     "evalue": "shape mismatch: value array of shape (10,1) could not be broadcast to indexing result of shape (10,)",
     "output_type": "error",
     "traceback": [
      "\u001b[0;31m---------------------------------------------------------------------------\u001b[0m",
      "\u001b[0;31mValueError\u001b[0m                                Traceback (most recent call last)",
      "\u001b[0;32m<ipython-input-178-d72b9ebfc5d7>\u001b[0m in \u001b[0;36m<module>\u001b[0;34m()\u001b[0m\n\u001b[0;32m----> 1\u001b[0;31m \u001b[0mget_metrics\u001b[0m\u001b[0;34m(\u001b[0m\u001b[0mtest_labels\u001b[0m\u001b[0;34m,\u001b[0m \u001b[0msegmentation\u001b[0m\u001b[0;34m)\u001b[0m\u001b[0;34m\u001b[0m\u001b[0m\n\u001b[0m",
      "\u001b[0;32m<ipython-input-22-8814b1007985>\u001b[0m in \u001b[0;36mget_metrics\u001b[0;34m(test, truth)\u001b[0m\n\u001b[1;32m     29\u001b[0m     \u001b[0mneuron_ids_evaluation\u001b[0m \u001b[0;34m=\u001b[0m \u001b[0mNeuronIds\u001b[0m\u001b[0;34m(\u001b[0m\u001b[0mcremi\u001b[0m\u001b[0;34m.\u001b[0m\u001b[0mVolume\u001b[0m\u001b[0;34m(\u001b[0m\u001b[0mtruth\u001b[0m\u001b[0;34m)\u001b[0m\u001b[0;34m)\u001b[0m\u001b[0;34m\u001b[0m\u001b[0m\n\u001b[1;32m     30\u001b[0m \u001b[0;34m\u001b[0m\u001b[0m\n\u001b[0;32m---> 31\u001b[0;31m     \u001b[0;34m(\u001b[0m\u001b[0mvoi_split\u001b[0m\u001b[0;34m,\u001b[0m \u001b[0mvoi_merge\u001b[0m\u001b[0;34m)\u001b[0m \u001b[0;34m=\u001b[0m \u001b[0mneuron_ids_evaluation\u001b[0m\u001b[0;34m.\u001b[0m\u001b[0mvoi\u001b[0m\u001b[0;34m(\u001b[0m\u001b[0mtest_ids\u001b[0m\u001b[0;34m)\u001b[0m\u001b[0;34m\u001b[0m\u001b[0m\n\u001b[0m\u001b[1;32m     32\u001b[0m     \u001b[0madapted_rand\u001b[0m \u001b[0;34m=\u001b[0m \u001b[0mneuron_ids_evaluation\u001b[0m\u001b[0;34m.\u001b[0m\u001b[0madapted_rand\u001b[0m\u001b[0;34m(\u001b[0m\u001b[0mtest_ids\u001b[0m\u001b[0;34m)\u001b[0m\u001b[0;34m\u001b[0m\u001b[0m\n\u001b[1;32m     33\u001b[0m \u001b[0;34m\u001b[0m\u001b[0m\n",
      "\u001b[0;32m/home/collin/anaconda2/lib/python2.7/site-packages/cremi/evaluation/NeuronIds.pyc\u001b[0m in \u001b[0;36mvoi\u001b[0;34m(self, segmentation)\u001b[0m\n\u001b[1;32m     52\u001b[0m         \u001b[0;32mprint\u001b[0m \u001b[0;34m\"Computing VOI...\"\u001b[0m\u001b[0;34m\u001b[0m\u001b[0m\n\u001b[1;32m     53\u001b[0m \u001b[0;34m\u001b[0m\u001b[0m\n\u001b[0;32m---> 54\u001b[0;31m         \u001b[0;32mreturn\u001b[0m \u001b[0mvoi\u001b[0m\u001b[0;34m(\u001b[0m\u001b[0mnp\u001b[0m\u001b[0;34m.\u001b[0m\u001b[0marray\u001b[0m\u001b[0;34m(\u001b[0m\u001b[0msegmentation\u001b[0m\u001b[0;34m.\u001b[0m\u001b[0mdata\u001b[0m\u001b[0;34m)\u001b[0m\u001b[0;34m,\u001b[0m \u001b[0mself\u001b[0m\u001b[0;34m.\u001b[0m\u001b[0mgt\u001b[0m\u001b[0;34m,\u001b[0m \u001b[0mignore_groundtruth\u001b[0m \u001b[0;34m=\u001b[0m \u001b[0;34m[\u001b[0m\u001b[0;36m0\u001b[0m\u001b[0;34m]\u001b[0m\u001b[0;34m)\u001b[0m\u001b[0;34m\u001b[0m\u001b[0m\n\u001b[0m\u001b[1;32m     55\u001b[0m \u001b[0;34m\u001b[0m\u001b[0m\n\u001b[1;32m     56\u001b[0m     \u001b[0;32mdef\u001b[0m \u001b[0madapted_rand\u001b[0m\u001b[0;34m(\u001b[0m\u001b[0mself\u001b[0m\u001b[0;34m,\u001b[0m \u001b[0msegmentation\u001b[0m\u001b[0;34m)\u001b[0m\u001b[0;34m:\u001b[0m\u001b[0;34m\u001b[0m\u001b[0m\n",
      "\u001b[0;32m/home/collin/anaconda2/lib/python2.7/site-packages/cremi/evaluation/voi.pyc\u001b[0m in \u001b[0;36mvoi\u001b[0;34m(reconstruction, groundtruth, ignore_reconstruction, ignore_groundtruth)\u001b[0m\n\u001b[1;32m     39\u001b[0m     \u001b[0mdistance\u001b[0m\u001b[0;34m.\u001b[0m \u001b[0mJournal\u001b[0m \u001b[0mof\u001b[0m \u001b[0mMultivariate\u001b[0m \u001b[0mAnalysis\u001b[0m \u001b[0;36m98\u001b[0m\u001b[0;34m,\u001b[0m \u001b[0;36m873\u001b[0m\u001b[0;34m-\u001b[0m\u001b[0;36m895.\u001b[0m\u001b[0;34m\u001b[0m\u001b[0m\n\u001b[1;32m     40\u001b[0m     \"\"\"\n\u001b[0;32m---> 41\u001b[0;31m     \u001b[0;34m(\u001b[0m\u001b[0mhyxg\u001b[0m\u001b[0;34m,\u001b[0m \u001b[0mhxgy\u001b[0m\u001b[0;34m)\u001b[0m \u001b[0;34m=\u001b[0m \u001b[0msplit_vi\u001b[0m\u001b[0;34m(\u001b[0m\u001b[0mreconstruction\u001b[0m\u001b[0;34m,\u001b[0m \u001b[0mgroundtruth\u001b[0m\u001b[0;34m,\u001b[0m \u001b[0mignore_reconstruction\u001b[0m\u001b[0;34m,\u001b[0m \u001b[0mignore_groundtruth\u001b[0m\u001b[0;34m)\u001b[0m\u001b[0;34m\u001b[0m\u001b[0m\n\u001b[0m\u001b[1;32m     42\u001b[0m     \u001b[0;32mreturn\u001b[0m \u001b[0;34m(\u001b[0m\u001b[0mhxgy\u001b[0m\u001b[0;34m,\u001b[0m \u001b[0mhyxg\u001b[0m\u001b[0;34m)\u001b[0m\u001b[0;34m\u001b[0m\u001b[0m\n\u001b[1;32m     43\u001b[0m \u001b[0;34m\u001b[0m\u001b[0m\n",
      "\u001b[0;32m/home/collin/anaconda2/lib/python2.7/site-packages/cremi/evaluation/voi.pyc\u001b[0m in \u001b[0;36msplit_vi\u001b[0;34m(x, y, ignore_x, ignore_y)\u001b[0m\n\u001b[1;32m     74\u001b[0m     \u001b[0mvi\u001b[0m\u001b[0;34m\u001b[0m\u001b[0m\n\u001b[1;32m     75\u001b[0m     \"\"\"\n\u001b[0;32m---> 76\u001b[0;31m     \u001b[0m_\u001b[0m\u001b[0;34m,\u001b[0m \u001b[0m_\u001b[0m\u001b[0;34m,\u001b[0m \u001b[0m_\u001b[0m \u001b[0;34m,\u001b[0m \u001b[0mhxgy\u001b[0m\u001b[0;34m,\u001b[0m \u001b[0mhygx\u001b[0m\u001b[0;34m,\u001b[0m \u001b[0m_\u001b[0m\u001b[0;34m,\u001b[0m \u001b[0m_\u001b[0m \u001b[0;34m=\u001b[0m \u001b[0mvi_tables\u001b[0m\u001b[0;34m(\u001b[0m\u001b[0mx\u001b[0m\u001b[0;34m,\u001b[0m \u001b[0my\u001b[0m\u001b[0;34m,\u001b[0m \u001b[0mignore_x\u001b[0m\u001b[0;34m,\u001b[0m \u001b[0mignore_y\u001b[0m\u001b[0;34m)\u001b[0m\u001b[0;34m\u001b[0m\u001b[0m\n\u001b[0m\u001b[1;32m     77\u001b[0m     \u001b[0;31m# false merges, false splits\u001b[0m\u001b[0;34m\u001b[0m\u001b[0;34m\u001b[0m\u001b[0m\n\u001b[1;32m     78\u001b[0m     \u001b[0;32mreturn\u001b[0m \u001b[0mnp\u001b[0m\u001b[0;34m.\u001b[0m\u001b[0marray\u001b[0m\u001b[0;34m(\u001b[0m\u001b[0;34m[\u001b[0m\u001b[0mhygx\u001b[0m\u001b[0;34m.\u001b[0m\u001b[0msum\u001b[0m\u001b[0;34m(\u001b[0m\u001b[0;34m)\u001b[0m\u001b[0;34m,\u001b[0m \u001b[0mhxgy\u001b[0m\u001b[0;34m.\u001b[0m\u001b[0msum\u001b[0m\u001b[0;34m(\u001b[0m\u001b[0;34m)\u001b[0m\u001b[0;34m]\u001b[0m\u001b[0;34m)\u001b[0m\u001b[0;34m\u001b[0m\u001b[0m\n",
      "\u001b[0;32m/home/collin/anaconda2/lib/python2.7/site-packages/cremi/evaluation/voi.pyc\u001b[0m in \u001b[0;36mvi_tables\u001b[0;34m(x, y, ignore_x, ignore_y)\u001b[0m\n\u001b[1;32m    122\u001b[0m     \u001b[0;31m# Calculate log conditional probabilities and entropies\u001b[0m\u001b[0;34m\u001b[0m\u001b[0;34m\u001b[0m\u001b[0m\n\u001b[1;32m    123\u001b[0m     \u001b[0mlpygx\u001b[0m \u001b[0;34m=\u001b[0m \u001b[0mnp\u001b[0m\u001b[0;34m.\u001b[0m\u001b[0mzeros\u001b[0m\u001b[0;34m(\u001b[0m\u001b[0mnp\u001b[0m\u001b[0;34m.\u001b[0m\u001b[0mshape\u001b[0m\u001b[0;34m(\u001b[0m\u001b[0mpx\u001b[0m\u001b[0;34m)\u001b[0m\u001b[0;34m)\u001b[0m\u001b[0;34m\u001b[0m\u001b[0m\n\u001b[0;32m--> 124\u001b[0;31m     \u001b[0mlpygx\u001b[0m\u001b[0;34m[\u001b[0m\u001b[0mnzx\u001b[0m\u001b[0;34m]\u001b[0m \u001b[0;34m=\u001b[0m \u001b[0mxlogx\u001b[0m\u001b[0;34m(\u001b[0m\u001b[0mdivide_rows\u001b[0m\u001b[0;34m(\u001b[0m\u001b[0mnzpxy\u001b[0m\u001b[0;34m,\u001b[0m \u001b[0mnzpx\u001b[0m\u001b[0;34m)\u001b[0m\u001b[0;34m)\u001b[0m\u001b[0;34m.\u001b[0m\u001b[0msum\u001b[0m\u001b[0;34m(\u001b[0m\u001b[0maxis\u001b[0m\u001b[0;34m=\u001b[0m\u001b[0;36m1\u001b[0m\u001b[0;34m)\u001b[0m\u001b[0;34m\u001b[0m\u001b[0m\n\u001b[0m\u001b[1;32m    125\u001b[0m                         \u001b[0;31m# \\sum_x{p_{y|x} \\log{p_{y|x}}}\u001b[0m\u001b[0;34m\u001b[0m\u001b[0;34m\u001b[0m\u001b[0m\n\u001b[1;32m    126\u001b[0m     \u001b[0mhygx\u001b[0m \u001b[0;34m=\u001b[0m \u001b[0;34m-\u001b[0m\u001b[0;34m(\u001b[0m\u001b[0mpx\u001b[0m\u001b[0;34m*\u001b[0m\u001b[0mlpygx\u001b[0m\u001b[0;34m)\u001b[0m \u001b[0;31m# \\sum_x{p_x H(Y|X=x)} = H(Y|X)\u001b[0m\u001b[0;34m\u001b[0m\u001b[0m\n",
      "\u001b[0;31mValueError\u001b[0m: shape mismatch: value array of shape (10,1) could not be broadcast to indexing result of shape (10,)"
     ]
    }
   ],
   "source": [
    "get_metrics(test_labels, segmentation)"
   ]
  },
  {
   "cell_type": "code",
   "execution_count": null,
   "metadata": {
    "collapsed": true
   },
   "outputs": [],
   "source": []
  },
  {
   "cell_type": "code",
   "execution_count": 22,
   "metadata": {
    "collapsed": true
   },
   "outputs": [],
   "source": [
    "def get_metrics(test, truth):\n",
    "    \"\"\"Returns metrics defined by the CREMI challenge.\n",
    "    \n",
    "    Given the generated segmentation and the ground truth segmentation,\n",
    "    return the metrics for the CREMI challenge.\n",
    "    \n",
    "    The metrics for this challenge include 1) the VOI split,\n",
    "    2) VOI merge, and 3) adapted rand score. \n",
    "    \n",
    "    Args:\n",
    "        test: A `numpy` array of the segmentations that have\n",
    "        been generated and wil be tested on.\n",
    "        truth: A `numpy` array of ground truth segmentations that\n",
    "        have been generated andwil be tested on.\n",
    "        \n",
    "    Returns:\n",
    "        voi split, voi merge, adapted rand\n",
    "\n",
    "    Example:\n",
    "    \n",
    "    >>> segmentations = np.random.rand(10, 100, 10)\n",
    "    >>> ground_truths = np.ones((10, 100, 10), dtype=np.uint8)\n",
    "    >>> voi_split, voi_merge, adapted_rand = get_metrics(segmentations,\n",
    "                                                         ground_truths)\n",
    "    \n",
    "    \"\"\"\n",
    "    \n",
    "    test_ids = cremi.Volume(test)\n",
    "    neuron_ids_evaluation = NeuronIds(cremi.Volume(truth))\n",
    "\n",
    "    (voi_split, voi_merge) = neuron_ids_evaluation.voi(test_ids)\n",
    "    adapted_rand = neuron_ids_evaluation.adapted_rand(test_ids)\n",
    "    \n",
    "    return voi_split, voi_merge, adapted_rand"
   ]
  },
  {
   "cell_type": "code",
   "execution_count": 38,
   "metadata": {
    "collapsed": true
   },
   "outputs": [],
   "source": [
    "def map_to_seg_ids(img_shape, pixel_labels):\n",
    "    \"\"\"Maps the pixel coordinates to segmentation ids.\n",
    "    \n",
    "    This function is to map the pixel ids to a segment id.  This\n",
    "    is because in order to test using the segmentation metrics,\n",
    "    the segment ids are required. \n",
    "    \n",
    "    Args:\n",
    "        pixel_labels: A Dictionary in which the keys are the pixels, \n",
    "        and the values are the pixel coordinates of the assigned segment.\n",
    "        \n",
    "    Returns:\n",
    "        A `numpy` array in which the elements are the segment ids.\n",
    "    \n",
    "    \"\"\"\n",
    "\n",
    "    seed_coos = set(pixel_labels.values())\n",
    "\n",
    "    # To know the number of segments, count the number of unique segment ids \n",
    "    # in the assignment dictionary.\n",
    "    n_segments = len(seed_coos)\n",
    "\n",
    "    # A dictionary will be used to map a pixel coordinates to the segmentation id.\n",
    "    map_coo_to_id = dict()\n",
    "\n",
    "    # Now create the mapping from pixel coos to semgent ids.\n",
    "    for segment_id, coo in enumerate(seed_coos):\n",
    "        map_coo_to_id[coo] = segment_id\n",
    "        \n",
    "    segmentation = np.zeros((img_shape[0], img_shape[1]))\n",
    "\n",
    "    for pixel, seg_id in pixel_labels.iteritems():\n",
    "        segmentation[pixel[0], pixel[1]] = map_coo_to_id[pixel_labels[pixel]]\n",
    "        \n",
    "    return segmentation"
   ]
  },
  {
   "cell_type": "code",
   "execution_count": null,
   "metadata": {
    "collapsed": true
   },
   "outputs": [],
   "source": []
  },
  {
   "cell_type": "code",
   "execution_count": null,
   "metadata": {
    "collapsed": true
   },
   "outputs": [],
   "source": []
  },
  {
   "cell_type": "code",
   "execution_count": 7,
   "metadata": {},
   "outputs": [
    {
     "name": "stdout",
     "output_type": "stream",
     "text": [
      "Loading Image: slice_39data/train/input/slice_39_gt.png data/train/chopin/slice_39\n",
      "Loading Image: slice_55data/train/input/slice_55_gt.png data/train/chopin/slice_55\n",
      "Done"
     ]
    }
   ],
   "source": [
    "bach.build(23, 23, 1)\n",
    "bach.load_model('models/saved_model/Bach/model.h5')\n",
    "\n",
    "images_to_train = file(\"images_to_train.txt\", \"r\")\n",
    "\n",
    "image_data = dict()\n",
    "\n",
    "for line in images_to_train:\n",
    "    \n",
    "    f_name, image_path, gt_path = line.split()\n",
    "    \n",
    "    sys.stdout.write(\"\\rLoading Image: {}\".format(f_name))\n",
    "    \n",
    "    foldername = os.path.join(\"data/train/chopin\", f_name)\n",
    "    \n",
    "    img, gt, seeds = preprocessing_utils.load_image(foldername,\n",
    "                                                    f_name,\n",
    "                                                    image_path,\n",
    "                                                    gt_path)\n",
    "    \n",
    "    bps = prediction_utils.boundary_probabilities(bach, img)\n",
    "    \n",
    "    image_data[f_name] = img, bps, gt, seeds\n",
    "    \n",
    "sys.stdout.write(\"Done\")"
   ]
  },
  {
   "cell_type": "code",
   "execution_count": 8,
   "metadata": {},
   "outputs": [
    {
     "name": "stdout",
     "output_type": "stream",
     "text": [
      "INFO:tensorflow:Restoring parameters from models/saved_model/Chopin/model.ckpt\n"
     ]
    }
   ],
   "source": [
    "chopin = ChopinNet.Chopin()\n",
    "chopin.build(receptive_field_shape)\n",
    "chopin.initialize_session()\n",
    "chopin.load_model(\"models/saved_model/Chopin/model.ckpt\")"
   ]
  },
  {
   "cell_type": "code",
   "execution_count": 9,
   "metadata": {},
   "outputs": [
    {
     "data": {
      "text/plain": [
       "<matplotlib.image.AxesImage at 0x7f499d527590>"
      ]
     },
     "execution_count": 9,
     "metadata": {},
     "output_type": "execute_result"
    },
    {
     "data": {
      "image/png": "[encoded data removed]",
      "text/plain": [
       "<matplotlib.figure.Figure at 0x7f4a1802a250>"
      ]
     },
     "metadata": {},
     "output_type": "display_data"
    }
   ],
   "source": [
    "plt.imshow(img, cmap='gray')"
   ]
  },
  {
   "cell_type": "code",
   "execution_count": 10,
   "metadata": {},
   "outputs": [
    {
     "data": {
      "text/plain": [
       "<matplotlib.image.AxesImage at 0x7f499d44a7d0>"
      ]
     },
     "execution_count": 10,
     "metadata": {},
     "output_type": "execute_result"
    },
    {
     "data": {
      "image/png": "[encoded data removed]",
      "text/plain": [
       "<matplotlib.figure.Figure at 0x7f499d4c6110>"
      ]
     },
     "metadata": {},
     "output_type": "display_data"
    }
   ],
   "source": [
    "plt.imshow(gt, cmap='gray')"
   ]
  },
  {
   "cell_type": "code",
   "execution_count": 12,
   "metadata": {},
   "outputs": [
    {
     "data": {
      "text/plain": [
       "{(53, 53): (68, 46),\n",
       " (57, 50): (68, 46),\n",
       " (39, 70): (61, 82),\n",
       " (43, 3): (37, 11),\n",
       " (63, 76): (61, 82),\n",
       " (29, 44): (15, 44),\n",
       " (33, 41): (15, 44),\n",
       " (90, 42): (68, 46),\n",
       " (80, 12): (79, 11),\n",
       " (9, 0): (37, 11),\n",
       " (86, 22): (79, 11),\n",
       " (52, 98): (61, 82),\n",
       " (15, 30): (15, 44),\n",
       " (19, 91): (19, 88),\n",
       " (76, 88): (61, 82),\n",
       " (42, 88): (61, 82),\n",
       " (5, 84): (5, 87),\n",
       " (62, 31): (68, 46),\n",
       " (66, 66): (61, 82),\n",
       " (52, 17): (37, 11),\n",
       " (8, 87): (5, 87),\n",
       " (28, 10): (37, 11),\n",
       " (85, 87): (61, 82),\n",
       " (32, 77): (61, 82),\n",
       " (14, 77): (15, 44),\n",
       " (75, 97): (61, 82),\n",
       " (95, 98): (61, 82),\n",
       " (8, 38): (15, 44),\n",
       " (65, 11): (79, 11),\n",
       " (85, 56): (68, 46),\n",
       " (41, 34): (68, 46),\n",
       " (61, 63): (61, 82),\n",
       " (88, 67): (68, 46),\n",
       " (17, 57): (15, 44),\n",
       " (37, 54): (15, 44),\n",
       " (94, 57): (68, 46),\n",
       " (98, 36): (94, 31),\n",
       " (13, 13): (15, 44),\n",
       " (74, 13): (79, 11),\n",
       " (3, 11): (15, 44),\n",
       " (97, 17): (79, 11),\n",
       " (23, 84): (19, 88),\n",
       " (50, 18): (37, 11),\n",
       " (70, 81): (61, 82),\n",
       " (40, 4): (37, 11),\n",
       " (2, 78): (5, 87),\n",
       " (46, 30): (68, 46),\n",
       " (12, 90): (5, 87),\n",
       " (16, 29): (15, 44),\n",
       " (73, 92): (61, 82),\n",
       " (36, 80): (61, 82),\n",
       " (2, 64): (15, 44),\n",
       " (97, 70): (68, 46),\n",
       " (79, 82): (61, 82),\n",
       " (26, 74): (15, 44),\n",
       " (83, 23): (79, 11),\n",
       " (12, 41): (15, 44),\n",
       " (69, 40): (68, 46),\n",
       " (73, 45): (68, 46),\n",
       " (59, 14): (37, 11),\n",
       " (45, 47): (68, 46),\n",
       " (49, 52): (68, 46),\n",
       " (92, 78): (61, 82),\n",
       " (96, 9): (79, 11),\n",
       " (25, 3): (37, 11),\n",
       " (82, 52): (68, 46),\n",
       " (45, 64): (61, 82),\n",
       " (1, 58): (15, 44),\n",
       " (21, 55): (15, 44),\n",
       " (78, 56): (68, 46),\n",
       " (93, 69): (68, 46),\n",
       " (7, 4): (37, 11),\n",
       " (11, 65): (15, 44),\n",
       " (54, 33): (68, 46),\n",
       " (58, 44): (68, 46),\n",
       " (44, 15): (37, 11),\n",
       " (34, 21): (37, 11),\n",
       " (91, 44): (68, 46),\n",
       " (20, 96): (19, 88),\n",
       " (77, 81): (61, 82),\n",
       " (24, 99): (19, 88),\n",
       " (6, 87): (5, 87),\n",
       " (10, 26): (15, 44),\n",
       " (67, 71): (61, 82),\n",
       " (30, 89): (19, 88),\n",
       " (87, 24): (79, 11),\n",
       " (0, 28): (15, 44),\n",
       " (77, 34): (68, 46),\n",
       " (63, 19): (37, 11),\n",
       " (33, 68): (15, 44),\n",
       " (53, 9): (37, 11),\n",
       " (57, 78): (61, 82),\n",
       " (80, 89): (61, 82),\n",
       " (63, 96): (61, 82),\n",
       " (29, 48): (15, 44),\n",
       " (33, 53): (15, 44),\n",
       " (90, 14): (79, 11),\n",
       " (19, 6): (37, 11),\n",
       " (5, 39): (15, 44),\n",
       " (9, 60): (15, 44),\n",
       " (66, 55): (68, 46),\n",
       " (86, 50): (68, 46),\n",
       " (52, 70): (61, 82),\n",
       " (56, 1): (79, 11),\n",
       " (42, 60): (61, 82),\n",
       " (5, 72): (15, 44),\n",
       " (62, 59): (68, 46),\n",
       " (38, 0): (37, 11),\n",
       " (95, 49): (68, 46),\n",
       " (99, 50): (68, 46),\n",
       " (2, 80): (5, 87),\n",
       " (14, 41): (15, 44),\n",
       " (71, 72): (61, 82),\n",
       " (18, 84): (5, 87),\n",
       " (75, 13): (79, 11),\n",
       " (95, 70): (68, 46),\n",
       " (65, 23): (37, 11),\n",
       " (51, 36): (68, 46),\n",
       " (37, 89): (61, 82),\n",
       " (41, 30): (68, 46),\n",
       " (98, 89): (61, 82),\n",
       " (61, 67): (61, 82),\n",
       " (27, 95): (61, 82),\n",
       " (47, 16): (37, 11),\n",
       " (88, 95): (61, 82),\n",
       " (51, 85): (61, 82),\n",
       " (17, 37): (15, 44),\n",
       " (37, 42): (15, 44),\n",
       " (99, 22): (79, 11),\n",
       " (94, 21): (79, 11),\n",
       " (23, 11): (37, 11),\n",
       " (84, 11): (79, 11),\n",
       " (13, 49): (15, 44),\n",
       " (70, 34): (68, 46),\n",
       " (74, 33): (68, 46),\n",
       " (40, 81): (61, 82),\n",
       " (60, 12): (37, 11),\n",
       " (50, 54): (68, 46),\n",
       " (26, 63): (15, 44),\n",
       " (83, 66): (68, 46),\n",
       " (46, 58): (68, 46),\n",
       " (89, 12): (79, 11),\n",
       " (2, 36): (15, 44),\n",
       " (4, 70): (15, 44),\n",
       " (22, 35): (15, 44),\n",
       " (79, 54): (68, 46),\n",
       " (83, 51): (68, 46),\n",
       " (69, 12): (79, 11),\n",
       " (55, 41): (68, 46),\n",
       " (8, 1): (37, 11),\n",
       " (59, 42): (68, 46),\n",
       " (45, 19): (37, 11),\n",
       " (49, 80): (61, 82),\n",
       " (31, 64): (15, 44),\n",
       " (35, 5): (37, 11),\n",
       " (92, 82): (61, 82),\n",
       " (55, 94): (61, 82),\n",
       " (96, 21): (79, 11),\n",
       " (4, 35): (15, 44),\n",
       " (25, 31): (15, 44),\n",
       " (82, 24): (79, 11),\n",
       " (11, 28): (15, 44),\n",
       " (72, 30): (68, 46),\n",
       " (1, 6): (15, 44),\n",
       " (58, 81): (61, 82),\n",
       " (21, 75): (15, 44),\n",
       " (78, 20): (79, 11),\n",
       " (44, 92): (61, 82),\n",
       " (14, 27): (15, 44),\n",
       " (54, 13): (37, 11),\n",
       " (4, 8): (15, 44),\n",
       " (30, 42): (15, 44),\n",
       " (87, 79): (61, 82),\n",
       " (34, 57): (15, 44),\n",
       " (0, 73): (15, 44),\n",
       " (20, 4): (37, 11),\n",
       " (6, 51): (15, 44),\n",
       " (10, 62): (15, 44),\n",
       " (67, 35): (68, 46),\n",
       " (87, 60): (68, 46),\n",
       " (43, 58): (68, 46),\n",
       " (63, 55): (68, 46),\n",
       " (29, 99): (19, 88),\n",
       " (33, 96): (61, 82),\n",
       " (39, 14): (37, 11),\n",
       " (44, 60): (61, 82),\n",
       " (80, 69): (61, 82),\n",
       " (43, 75): (61, 82),\n",
       " (29, 20): (15, 44),\n",
       " (15, 33): (15, 44),\n",
       " (19, 34): (15, 44),\n",
       " (76, 17): (79, 11),\n",
       " (5, 27): (15, 44),\n",
       " (62, 68): (61, 82),\n",
       " (9, 88): (5, 87),\n",
       " (66, 27): (37, 11),\n",
       " (86, 94): (61, 82),\n",
       " (52, 90): (61, 82),\n",
       " (15, 86): (5, 87),\n",
       " (56, 29): (68, 46),\n",
       " (76, 96): (61, 82),\n",
       " (42, 16): (37, 11),\n",
       " (32, 6): (37, 11),\n",
       " (18, 41): (15, 44),\n",
       " (75, 88): (61, 82),\n",
       " (38, 44): (15, 44),\n",
       " (4, 84): (5, 87),\n",
       " (99, 46): (68, 46),\n",
       " (65, 66): (61, 82),\n",
       " (85, 15): (79, 11),\n",
       " (14, 5): (37, 11),\n",
       " (71, 44): (68, 46),\n",
       " (75, 41): (68, 46),\n",
       " (47, 71): (61, 82),\n",
       " (51, 0): (37, 11),\n",
       " (27, 59): (15, 44),\n",
       " (47, 52): (68, 46),\n",
       " (88, 59): (68, 46),\n",
       " (17, 1): (37, 11),\n",
       " (3, 50): (15, 44),\n",
       " (23, 47): (15, 44),\n",
       " (64, 36): (68, 46),\n",
       " (84, 47): (68, 46),\n",
       " (50, 75): (61, 82),\n",
       " (13, 85): (5, 87),\n",
       " (70, 14): (79, 11),\n",
       " (74, 69): (61, 82),\n",
       " (40, 77): (61, 82),\n",
       " (3, 67): (15, 44),\n",
       " (60, 16): (37, 11),\n",
       " (64, 83): (61, 82),\n",
       " (36, 25): (15, 44),\n",
       " (22, 92): (19, 88),\n",
       " (26, 19): (15, 44),\n",
       " (83, 94): (61, 82),\n",
       " (46, 86): (61, 82),\n",
       " (12, 98): (5, 87),\n",
       " (69, 95): (61, 82),\n",
       " (73, 20): (79, 11),\n",
       " (2, 8): (15, 44),\n",
       " (79, 10): (79, 11),\n",
       " (35, 80): (61, 82),\n",
       " (55, 13): (37, 11),\n",
       " (96, 66): (68, 46),\n",
       " (59, 54): (68, 46),\n",
       " (25, 74): (15, 44),\n",
       " (31, 36): (15, 44),\n",
       " (35, 33): (15, 44),\n",
       " (92, 54): (68, 46),\n",
       " (96, 49): (68, 46),\n",
       " (7, 63): (15, 44),\n",
       " (0, 14): (15, 44),\n",
       " (11, 56): (15, 44),\n",
       " (68, 63): (61, 82),\n",
       " (72, 58): (68, 46),\n",
       " (1, 98): (5, 87),\n",
       " (81, 82): (61, 82),\n",
       " (44, 64): (61, 82),\n",
       " (7, 76): (15, 44),\n",
       " (48, 3): (37, 11),\n",
       " (68, 78): (61, 82),\n",
       " (24, 44): (15, 44),\n",
       " (10, 67): (15, 44),\n",
       " (30, 6): (37, 11),\n",
       " (87, 83): (61, 82),\n",
       " (34, 93): (61, 82),\n",
       " (0, 85): (5, 87),\n",
       " (20, 24): (15, 44),\n",
       " (77, 25): (79, 11),\n",
       " (24, 91): (19, 88),\n",
       " (6, 31): (15, 44),\n",
       " (67, 31): (68, 46),\n",
       " (57, 21): (37, 11),\n",
       " (39, 93): (61, 82),\n",
       " (43, 38): (68, 46),\n",
       " (63, 43): (68, 46),\n",
       " (29, 71): (15, 44),\n",
       " (33, 12): (37, 11),\n",
       " (90, 87): (61, 82),\n",
       " (53, 65): (61, 82),\n",
       " (39, 50): (15, 44),\n",
       " (80, 33): (68, 46),\n",
       " (86, 11): (79, 11),\n",
       " (15, 5): (37, 11),\n",
       " (56, 74): (61, 82),\n",
       " (19, 62): (15, 44),\n",
       " (76, 53): (68, 46),\n",
       " (8, 7): (15, 44),\n",
       " (62, 96): (61, 82),\n",
       " (52, 62): (61, 82),\n",
       " (56, 57): (68, 46),\n",
       " (28, 39): (15, 44),\n",
       " (32, 34): (15, 44),\n",
       " (89, 55): (68, 46),\n",
       " (18, 13): (15, 44),\n",
       " (75, 68): (61, 82),\n",
       " (38, 72): (61, 82),\n",
       " (4, 72): (15, 44),\n",
       " (8, 11): (15, 44),\n",
       " (65, 46): (68, 46),\n",
       " (28, 86): (61, 82),\n",
       " (85, 35): (68, 46),\n",
       " (71, 16): (79, 11),\n",
       " (61, 26): (68, 46),\n",
       " (47, 91): (61, 82),\n",
       " (51, 28): (68, 46),\n",
       " (17, 92): (19, 88),\n",
       " (37, 17): (37, 11),\n",
       " (94, 66): (68, 46),\n",
       " (41, 86): (61, 82),\n",
       " (97, 8): (79, 11),\n",
       " (98, 1): (79, 11),\n",
       " (27, 7): (37, 11),\n",
       " (88, 23): (79, 11),\n",
       " (74, 22): (79, 11),\n",
       " (3, 46): (15, 44),\n",
       " (60, 69): (61, 82),\n",
       " (23, 51): (15, 44),\n",
       " (64, 0): (79, 11),\n",
       " (84, 67): (68, 46),\n",
       " (40, 41): (15, 44),\n",
       " (60, 52): (68, 46),\n",
       " (46, 3): (37, 11),\n",
       " (16, 50): (15, 44),\n",
       " (36, 61): (15, 44),\n",
       " (93, 60): (68, 46),\n",
       " (97, 57): (68, 46),\n",
       " (93, 1): (79, 11),\n",
       " (12, 6): (37, 11),\n",
       " (69, 51): (68, 46),\n",
       " (16, 65): (15, 44),\n",
       " (73, 48): (68, 46),\n",
       " (22, 7): (37, 11),\n",
       " (49, 15): (37, 11),\n",
       " (35, 76): (61, 82),\n",
       " (55, 17): (37, 11),\n",
       " (59, 82): (61, 82),\n",
       " (25, 38): (15, 44),\n",
       " (82, 81): (61, 82),\n",
       " (45, 91): (61, 82),\n",
       " (31, 24): (15, 44),\n",
       " (92, 26): (94, 31),\n",
       " (21, 18): (15, 44),\n",
       " (7, 35): (15, 44),\n",
       " (48, 80): (61, 82),\n",
       " (11, 36): (15, 44),\n",
       " (68, 19): (37, 11),\n",
       " (72, 86): (61, 82),\n",
       " (54, 90): (61, 82),\n",
       " (1, 78): (5, 87),\n",
       " (58, 9): (37, 11),\n",
       " (78, 76): (61, 82),\n",
       " (44, 36): (68, 46),\n",
       " (48, 47): (68, 46),\n",
       " (34, 14): (37, 11),\n",
       " (20, 77): (15, 44),\n",
       " (24, 8): (37, 11),\n",
       " (81, 41): (68, 46),\n",
       " (30, 98): (19, 88),\n",
       " (34, 97): (61, 82),\n",
       " (0, 49): (15, 44),\n",
       " (20, 60): (15, 44),\n",
       " (77, 61): (68, 46),\n",
       " (53, 52): (68, 46),\n",
       " (57, 49): (68, 46),\n",
       " (39, 65): (61, 82),\n",
       " (43, 2): (37, 11),\n",
       " (63, 79): (61, 82),\n",
       " (29, 43): (15, 44),\n",
       " (33, 40): (15, 44),\n",
       " (90, 43): (68, 46),\n",
       " (80, 13): (79, 11),\n",
       " (9, 7): (15, 44),\n",
       " (86, 23): (79, 11),\n",
       " (52, 99): (61, 82),\n",
       " (15, 25): (15, 44),\n",
       " (19, 90): (19, 88),\n",
       " (76, 89): (61, 82),\n",
       " (42, 89): (61, 82),\n",
       " (5, 83): (5, 87),\n",
       " (62, 28): (68, 46),\n",
       " (66, 67): (61, 82),\n",
       " (52, 18): (37, 11),\n",
       " (8, 88): (5, 87),\n",
       " (28, 11): (37, 11),\n",
       " (85, 86): (61, 82),\n",
       " (32, 78): (61, 82),\n",
       " (14, 82): (5, 87),\n",
       " (75, 96): (61, 82),\n",
       " (4, 44): (15, 44),\n",
       " (8, 39): (15, 44),\n",
       " (65, 10): (79, 11),\n",
       " (41, 33): (68, 46),\n",
       " (61, 62): (61, 82),\n",
       " (88, 68): (68, 46),\n",
       " (17, 56): (15, 44),\n",
       " (37, 53): (15, 44),\n",
       " (94, 62): (68, 46),\n",
       " (98, 37): (94, 31),\n",
       " (13, 12): (15, 44),\n",
       " (74, 10): (79, 11),\n",
       " (8, 69): (15, 44),\n",
       " (3, 10): (15, 44),\n",
       " (23, 87): (19, 88),\n",
       " (50, 19): (37, 11),\n",
       " (70, 86): (61, 82),\n",
       " (40, 5): (37, 11),\n",
       " (46, 31): (68, 46),\n",
       " (12, 91): (5, 87),\n",
       " (16, 30): (15, 44),\n",
       " (73, 67): (61, 82),\n",
       " (36, 81): (61, 82),\n",
       " (93, 0): (79, 11),\n",
       " (22, 4): (37, 11),\n",
       " (79, 93): (61, 82),\n",
       " (26, 75): (15, 44),\n",
       " (83, 22): (79, 11),\n",
       " (12, 42): (15, 44),\n",
       " (69, 23): (68, 46),\n",
       " (73, 44): (68, 46),\n",
       " (59, 1): (79, 11),\n",
       " (45, 46): (68, 46),\n",
       " (49, 43): (68, 46),\n",
       " (92, 79): (61, 82),\n",
       " (96, 10): (79, 11),\n",
       " (25, 2): (37, 11),\n",
       " (82, 53): (68, 46),\n",
       " (14, 0): (37, 11),\n",
       " (1, 57): (15, 44),\n",
       " (21, 54): (15, 44),\n",
       " (4, 17): (15, 44),\n",
       " (78, 57): (68, 46),\n",
       " (7, 7): (15, 44),\n",
       " (11, 64): (15, 44),\n",
       " (54, 38): (68, 46),\n",
       " (58, 45): (68, 46),\n",
       " (44, 8): (37, 11),\n",
       " (34, 18): (37, 11),\n",
       " (91, 47): (68, 46),\n",
       " (20, 97): (19, 88),\n",
       " (77, 80): (61, 82),\n",
       " (81, 21): (79, 11),\n",
       " (10, 27): (15, 44),\n",
       " (67, 70): (61, 82),\n",
       " (30, 94): (61, 82),\n",
       " (87, 27): (68, 46),\n",
       " (91, 92): (61, 82),\n",
       " (77, 33): (68, 46),\n",
       " (63, 18): (37, 11),\n",
       " (33, 91): (61, 82),\n",
       " (53, 8): (37, 11),\n",
       " (57, 77): (61, 82),\n",
       " (80, 90): (61, 82),\n",
       " (63, 99): (61, 82),\n",
       " (29, 15): (37, 11),\n",
       " (33, 52): (15, 44),\n",
       " (90, 15): (79, 11),\n",
       " (19, 9): (37, 11),\n",
       " (5, 38): (15, 44),\n",
       " (9, 35): (15, 44),\n",
       " (66, 52): (68, 46),\n",
       " (86, 51): (68, 46),\n",
       " (52, 71): (61, 82),\n",
       " (56, 2): (79, 11),\n",
       " (42, 61): (61, 82),\n",
       " (62, 56): (68, 46),\n",
       " (38, 1): (37, 11),\n",
       " (95, 48): (68, 46),\n",
       " (99, 53): (68, 46),\n",
       " (14, 46): (15, 44),\n",
       " (71, 75): (61, 82),\n",
       " (18, 85): (5, 87),\n",
       " (75, 12): (79, 11),\n",
       " (4, 0): (37, 11),\n",
       " (65, 22): (37, 11),\n",
       " (51, 39): (68, 46),\n",
       " (37, 88): (61, 82),\n",
       " (41, 29): (68, 46),\n",
       " (98, 86): (61, 82),\n",
       " (61, 66): (61, 82),\n",
       " (27, 94): (19, 88),\n",
       " (47, 19): (37, 11),\n",
       " (88, 32): (68, 46),\n",
       " (51, 84): (61, 82),\n",
       " (17, 36): (15, 44),\n",
       " (37, 41): (15, 44),\n",
       " (94, 26): (79, 11),\n",
       " (23, 10): (37, 11),\n",
       " (84, 20): (79, 11),\n",
       " (13, 48): (15, 44),\n",
       " (70, 35): (68, 46),\n",
       " (74, 46): (68, 46),\n",
       " (40, 82): (61, 82),\n",
       " (60, 13): (37, 11),\n",
       " (64, 72): (61, 82),\n",
       " (50, 55): (68, 46),\n",
       " (26, 60): (15, 44),\n",
       " (83, 69): (61, 82),\n",
       " (46, 59): (68, 46),\n",
       " (81, 22): (79, 11),\n",
       " (2, 37): (15, 44),\n",
       " (22, 32): (15, 44),\n",
       " (79, 49): (68, 46),\n",
       " (83, 50): (68, 46),\n",
       " (69, 11): (79, 11),\n",
       " (55, 40): (68, 46),\n",
       " (59, 45): (68, 46),\n",
       " (45, 18): (37, 11),\n",
       " (49, 87): (61, 82),\n",
       " (31, 67): (15, 44),\n",
       " (35, 4): (37, 11),\n",
       " (92, 83): (61, 82),\n",
       " (55, 89): (61, 82),\n",
       " (96, 22): (79, 11),\n",
       " (25, 30): (15, 44),\n",
       " (82, 25): (79, 11),\n",
       " (11, 31): (15, 44),\n",
       " (72, 31): (68, 46),\n",
       " (1, 5): (15, 44),\n",
       " (58, 94): (61, 82),\n",
       " (21, 74): (15, 44),\n",
       " (78, 21): (79, 11),\n",
       " (44, 93): (61, 82),\n",
       " (48, 24): (68, 46),\n",
       " (54, 2): (37, 11),\n",
       " (6, 13): (15, 44),\n",
       " (30, 43): (15, 44),\n",
       " (87, 78): (61, 82),\n",
       " (34, 54): (15, 44),\n",
       " (0, 74): (15, 44),\n",
       " (20, 5): (37, 11),\n",
       " (24, 64): (15, 44),\n",
       " (6, 48): (15, 44),\n",
       " (10, 63): (15, 44),\n",
       " (67, 34): (68, 46),\n",
       " (87, 63): (68, 46),\n",
       " (43, 61): (61, 82),\n",
       " (63, 54): (68, 46),\n",
       " (29, 98): (19, 88),\n",
       " (39, 9): (37, 11),\n",
       " (80, 70): (61, 82),\n",
       " (43, 74): (61, 82),\n",
       " (29, 19): (15, 44),\n",
       " (15, 32): (15, 44),\n",
       " (19, 37): (15, 44),\n",
       " (76, 18): (79, 11),\n",
       " (5, 26): (15, 44),\n",
       " (62, 69): (61, 82),\n",
       " (9, 95): (5, 87),\n",
       " (66, 24): (37, 11),\n",
       " (86, 95): (61, 82),\n",
       " (52, 91): (61, 82),\n",
       " (15, 81): (5, 87),\n",
       " (56, 30): (68, 46),\n",
       " (56, 54): (68, 46),\n",
       " (76, 97): (61, 82),\n",
       " (42, 17): (37, 11),\n",
       " (32, 7): (37, 11),\n",
       " (18, 38): (15, 44),\n",
       " (75, 91): (61, 82),\n",
       " (38, 45): (15, 44),\n",
       " (4, 85): (5, 87),\n",
       " (8, 16): (15, 44),\n",
       " (65, 65): (61, 82),\n",
       " (85, 14): (79, 11),\n",
       " (14, 10): (15, 44),\n",
       " (71, 47): (68, 46),\n",
       " (75, 40): (68, 46),\n",
       " (47, 70): (61, 82),\n",
       " (51, 3): (37, 11),\n",
       " (27, 58): (15, 44),\n",
       " (47, 55): (68, 46),\n",
       " (88, 60): (68, 46),\n",
       " (17, 0): (37, 11),\n",
       " (3, 53): (15, 44),\n",
       " (22, 91): (19, 88),\n",
       " (23, 46): (15, 44),\n",
       " (64, 37): (68, 46),\n",
       " (84, 40): (68, 46),\n",
       " (50, 72): (61, 82),\n",
       " (13, 84): (5, 87),\n",
       " (70, 15): (79, 11),\n",
       " (74, 66): (61, 82),\n",
       " (40, 78): (61, 82),\n",
       " (3, 66): (15, 44),\n",
       " (60, 17): (37, 11),\n",
       " (64, 84): (61, 82),\n",
       " (36, 26): (15, 44),\n",
       " (22, 93): (19, 88),\n",
       " (26, 16): (37, 11),\n",
       " (83, 97): (61, 82),\n",
       " (46, 87): (61, 82),\n",
       " (12, 99): (5, 87),\n",
       " (69, 94): (61, 82),\n",
       " (73, 27): (68, 46),\n",
       " (2, 9): (15, 44),\n",
       " (79, 21): (79, 11),\n",
       " (35, 83): (61, 82),\n",
       " (55, 12): (37, 11),\n",
       " (96, 67): (68, 46),\n",
       " (59, 73): (61, 82),\n",
       " (25, 73): (15, 44),\n",
       " (31, 39): (15, 44),\n",
       " (35, 32): (15, 44),\n",
       " (92, 55): (68, 46),\n",
       " (96, 50): (68, 46),\n",
       " (2, 15): (15, 44),\n",
       " (7, 62): (15, 44),\n",
       " (11, 59): (15, 44),\n",
       " (68, 56): (68, 46),\n",
       " (72, 59): (68, 46),\n",
       " (1, 97): (5, 87),\n",
       " (44, 65): (61, 82),\n",
       " (7, 79): (5, 87),\n",
       " (48, 4): (37, 11),\n",
       " (68, 79): (61, 82),\n",
       " (79, 15): (79, 11),\n",
       " (24, 45): (15, 44),\n",
       " (10, 64): (15, 44),\n",
       " (30, 7): (37, 11),\n",
       " (87, 82): (61, 82),\n",
       " (34, 90): (61, 82),\n",
       " (0, 86): (5, 87),\n",
       " (20, 25): (15, 44),\n",
       " (77, 24): (79, 11),\n",
       " (24, 92): (19, 88),\n",
       " (6, 28): (15, 44),\n",
       " (67, 30): (68, 46),\n",
       " (57, 20): (37, 11),\n",
       " (39, 92): (61, 82),\n",
       " (43, 25): (68, 46),\n",
       " (63, 42): (68, 46),\n",
       " (29, 70): (15, 44),\n",
       " (33, 3): (37, 11),\n",
       " (90, 84): (61, 82),\n",
       " (53, 64): (61, 82),\n",
       " (39, 45): (15, 44),\n",
       " (80, 34): (68, 46),\n",
       " (86, 8): (79, 11),\n",
       " (15, 4): (37, 11),\n",
       " (56, 75): (61, 82),\n",
       " (19, 65): (15, 44),\n",
       " (76, 54): (68, 46),\n",
       " (42, 98): (61, 82),\n",
       " (62, 97): (61, 82),\n",
       " (52, 63): (61, 82),\n",
       " (56, 58): (68, 46),\n",
       " (28, 32): (15, 44),\n",
       " (32, 35): (15, 44),\n",
       " (25, 71): (15, 44),\n",
       " (89, 54): (68, 46),\n",
       " (18, 10): (15, 44),\n",
       " (75, 71): (61, 82),\n",
       " (38, 73): (61, 82),\n",
       " (4, 73): (15, 44),\n",
       " (8, 12): (15, 44),\n",
       " (65, 45): (68, 46),\n",
       " (28, 87): (61, 82),\n",
       " (85, 34): (68, 46),\n",
       " (71, 19): (79, 11),\n",
       " (61, 25): (68, 46),\n",
       " (47, 90): (61, 82),\n",
       " (51, 31): (68, 46),\n",
       " (17, 83): (5, 87),\n",
       " (37, 16): (37, 11),\n",
       " (94, 67): (68, 46),\n",
       " (41, 85): (61, 82),\n",
       " (98, 30): (94, 31),\n",
       " (27, 6): (37, 11),\n",
       " (89, 34): (68, 46),\n",
       " (88, 24): (79, 11),\n",
       " (74, 23): (79, 11),\n",
       " (3, 17): (15, 44),\n",
       " (60, 70): (61, 82),\n",
       " (23, 50): (15, 44),\n",
       " (64, 1): (79, 11),\n",
       " (84, 76): (61, 82),\n",
       " (40, 42): (15, 44),\n",
       " (60, 53): (68, 46),\n",
       " (46, 0): (37, 11),\n",
       " (14, 68): (15, 44),\n",
       " (16, 51): (15, 44),\n",
       " (36, 62): (15, 44),\n",
       " (93, 59): (68, 46),\n",
       " (95, 28): (94, 31),\n",
       " (97, 56): (68, 46),\n",
       " (12, 7): (15, 44),\n",
       " (69, 50): (68, 46),\n",
       " (16, 66): (15, 44),\n",
       " (73, 55): (68, 46),\n",
       " (99, 89): (61, 82),\n",
       " (49, 14): (37, 11),\n",
       " (35, 79): (61, 82),\n",
       " (55, 16): (37, 11),\n",
       " (59, 85): (61, 82),\n",
       " (25, 37): (15, 44),\n",
       " (82, 78): (61, 82),\n",
       " (45, 90): (61, 82),\n",
       " (31, 27): (15, 44),\n",
       " (92, 27): (94, 31),\n",
       " (21, 17): (15, 44),\n",
       " (78, 34): (68, 46),\n",
       " (7, 34): (15, 44),\n",
       " (48, 81): (61, 82),\n",
       " (11, 39): (15, 44),\n",
       " (68, 28): (68, 46),\n",
       " (72, 87): (61, 82),\n",
       " (54, 91): (61, 82),\n",
       " (1, 77): (5, 87),\n",
       " (58, 22): (37, 11),\n",
       " (4, 7): (15, 44),\n",
       " (78, 77): (61, 82),\n",
       " (44, 37): (68, 46),\n",
       " (48, 32): (68, 46),\n",
       " (34, 15): (37, 11),\n",
       " (20, 78): (15, 44),\n",
       " (24, 9): (37, 11),\n",
       " (81, 40): (68, 46),\n",
       " (30, 99): (19, 88),\n",
       " (0, 50): (15, 44),\n",
       " (20, 61): (15, 44),\n",
       " (77, 60): (68, 46),\n",
       " (53, 51): (68, 46),\n",
       " (57, 48): (68, 46),\n",
       " (39, 64): (61, 82),\n",
       " (43, 5): (37, 11),\n",
       " (63, 78): (61, 82),\n",
       " (29, 42): (15, 44),\n",
       " (33, 47): (15, 44),\n",
       " (90, 40): (68, 46),\n",
       " (80, 14): (79, 11),\n",
       " (9, 6): (15, 44),\n",
       " (86, 20): (79, 11),\n",
       " (15, 24): (15, 44),\n",
       " (19, 93): (19, 88),\n",
       " (76, 90): (61, 82),\n",
       " (42, 70): (61, 82),\n",
       " (5, 82): (5, 87),\n",
       " (62, 29): (68, 46),\n",
       " (66, 64): (61, 82),\n",
       " (52, 19): (37, 11),\n",
       " (38, 26): (68, 46),\n",
       " (8, 89): (5, 87),\n",
       " (28, 4): (37, 11),\n",
       " (85, 85): (61, 82),\n",
       " (32, 79): (61, 82),\n",
       " (14, 83): (5, 87),\n",
       " (75, 99): (61, 82),\n",
       " (4, 45): (15, 44),\n",
       " (8, 40): (15, 44),\n",
       " (65, 9): (79, 11),\n",
       " (41, 32): (68, 46),\n",
       " (61, 61): (61, 82),\n",
       " (88, 69): (68, 46),\n",
       " (17, 63): (15, 44),\n",
       " (37, 52): (15, 44),\n",
       " (94, 63): (68, 46),\n",
       " (98, 34): (94, 31),\n",
       " (13, 11): (15, 44),\n",
       " (74, 11): (79, 11),\n",
       " (3, 13): (15, 44),\n",
       " (23, 86): (19, 88),\n",
       " (84, 96): (61, 82),\n",
       " (50, 16): (37, 11),\n",
       " (70, 87): (61, 82),\n",
       " (40, 6): (37, 11),\n",
       " (46, 28): (68, 46),\n",
       " (12, 84): (5, 87),\n",
       " (16, 31): (15, 44),\n",
       " (73, 66): (61, 82),\n",
       " (36, 82): (61, 82),\n",
       " (2, 94): (5, 87),\n",
       " (22, 5): (37, 11),\n",
       " (79, 92): (61, 82),\n",
       " (26, 72): (15, 44),\n",
       " (83, 25): (79, 11),\n",
       " (12, 43): (15, 44),\n",
       " (69, 22): (68, 46),\n",
       " (6, 65): (15, 44),\n",
       " (59, 0): (79, 11),\n",
       " (45, 45): (68, 46),\n",
       " (49, 42): (68, 46),\n",
       " (92, 72): (68, 46),\n",
       " (96, 11): (79, 11),\n",
       " (25, 1): (37, 11),\n",
       " (82, 50): (68, 46),\n",
       " (1, 56): (15, 44),\n",
       " (6, 26): (15, 44),\n",
       " (21, 53): (15, 44),\n",
       " (78, 62): (68, 46),\n",
       " (7, 6): (15, 44),\n",
       " (11, 67): (15, 44),\n",
       " (54, 39): (68, 46),\n",
       " (58, 42): (68, 46),\n",
       " (44, 9): (37, 11),\n",
       " (34, 19): (37, 11),\n",
       " (91, 46): (68, 46),\n",
       " (20, 98): (19, 88),\n",
       " (77, 79): (61, 82),\n",
       " (6, 85): (5, 87),\n",
       " (10, 24): (15, 44),\n",
       " (67, 73): (61, 82),\n",
       " (30, 95): (61, 82),\n",
       " (87, 26): (68, 46),\n",
       " (0, 30): (15, 44),\n",
       " (77, 32): (68, 46),\n",
       " (63, 29): (68, 46),\n",
       " (33, 90): (61, 82),\n",
       " (53, 23): (37, 11),\n",
       " (57, 76): (61, 82),\n",
       " (80, 91): (61, 82),\n",
       " (43, 97): (61, 82),\n",
       " (63, 98): (61, 82),\n",
       " (29, 14): (37, 11),\n",
       " (90, 12): (79, 11),\n",
       " (19, 8): (37, 11),\n",
       " (5, 37): (15, 44),\n",
       " (9, 34): (15, 44),\n",
       " (66, 53): (68, 46),\n",
       " (86, 48): (68, 46),\n",
       " (52, 64): (61, 82),\n",
       " (56, 3): (79, 11),\n",
       " (42, 58): (68, 46),\n",
       " (62, 57): (68, 46),\n",
       " (38, 6): (37, 11),\n",
       " (95, 51): (68, 46),\n",
       " (99, 52): (68, 46),\n",
       " (14, 47): (15, 44),\n",
       " (71, 74): (61, 82),\n",
       " (18, 82): (15, 44),\n",
       " (75, 15): (79, 11),\n",
       " (95, 64): (68, 46),\n",
       " (65, 21): (37, 11),\n",
       " (51, 38): (68, 46),\n",
       " (37, 71): (61, 82),\n",
       " (41, 28): (68, 46),\n",
       " (98, 87): (61, 82),\n",
       " (61, 65): (61, 82),\n",
       " (27, 81): (61, 82),\n",
       " (47, 18): (37, 11),\n",
       " (88, 33): (68, 46),\n",
       " (51, 87): (61, 82),\n",
       " (17, 27): (15, 44),\n",
       " (37, 40): (15, 44),\n",
       " (94, 27): (79, 11),\n",
       " (23, 5): (37, 11),\n",
       " (84, 21): (79, 11),\n",
       " (13, 47): (15, 44),\n",
       " (70, 32): (68, 46),\n",
       " (74, 47): (68, 46),\n",
       " (40, 83): (61, 82),\n",
       " (60, 14): (37, 11),\n",
       " (64, 73): (61, 82),\n",
       " (50, 52): (68, 46),\n",
       " (2, 75): (15, 44),\n",
       " (26, 61): (15, 44),\n",
       " (83, 68): (61, 82),\n",
       " (46, 56): (68, 46),\n",
       " (93, 99): (61, 82),\n",
       " (97, 96): (61, 82),\n",
       " (22, 14): (15, 44),\n",
       " (79, 48): (68, 46),\n",
       " (83, 53): (68, 46),\n",
       " (69, 10): (79, 11),\n",
       " (55, 43): (68, 46),\n",
       " (59, 44): (68, 46),\n",
       " (45, 17): (37, 11),\n",
       " (49, 86): (61, 82),\n",
       " (31, 66): (15, 44),\n",
       " (35, 7): (37, 11),\n",
       " (92, 44): (68, 46),\n",
       " (55, 88): (61, 82),\n",
       " (96, 23): (79, 11),\n",
       " (25, 29): (15, 44),\n",
       " (82, 22): (79, 11),\n",
       " (11, 30): (15, 44),\n",
       " (72, 0): (79, 11),\n",
       " (1, 4): (15, 44),\n",
       " (58, 95): (61, 82),\n",
       " (21, 73): (15, 44),\n",
       " (78, 26): (68, 46),\n",
       " (44, 94): (61, 82),\n",
       " (48, 25): (68, 46),\n",
       " (68, 84): (61, 82),\n",
       " (54, 3): (79, 11),\n",
       " (30, 40): (15, 44),\n",
       " (87, 73): (61, 82),\n",
       " (34, 55): (15, 44),\n",
       " (0, 75): (15, 44),\n",
       " (20, 6): (37, 11),\n",
       " (24, 65): (15, 44),\n",
       " (6, 49): (15, 44),\n",
       " (10, 60): (15, 44),\n",
       " (67, 37): (68, 46),\n",
       " (87, 62): (68, 46),\n",
       " (43, 60): (61, 82),\n",
       " (63, 49): (68, 46),\n",
       " (29, 97): (61, 82),\n",
       " (39, 8): (37, 11),\n",
       " (80, 71): (61, 82),\n",
       " (43, 77): (61, 82),\n",
       " (29, 18): (37, 11),\n",
       " (15, 35): (15, 44),\n",
       " (19, 36): (15, 44),\n",
       " (76, 19): (79, 11),\n",
       " (5, 25): (15, 44),\n",
       " (62, 74): (61, 82),\n",
       " (9, 94): (5, 87),\n",
       " (66, 25): (37, 11),\n",
       " (86, 92): (61, 82),\n",
       " (52, 36): (68, 46),\n",
       " (15, 80): (15, 44),\n",
       " (56, 31): (68, 46),\n",
       " (76, 98): (61, 82),\n",
       " (42, 30): (68, 46),\n",
       " (32, 24): (15, 44),\n",
       " (18, 39): (15, 44),\n",
       " (75, 90): (61, 82),\n",
       " (38, 34): (15, 44),\n",
       " (4, 86): (5, 87),\n",
       " (8, 17): (15, 44),\n",
       " (65, 64): (61, 82),\n",
       " (28, 76): (15, 44),\n",
       " (85, 13): (79, 11),\n",
       " (14, 11): (15, 44),\n",
       " (71, 46): (68, 46),\n",
       " (75, 43): (68, 46),\n",
       " (47, 65): (61, 82),\n",
       " (51, 2): (37, 11),\n",
       " (27, 61): (15, 44),\n",
       " (47, 54): (68, 46),\n",
       " (88, 61): (68, 46),\n",
       " (17, 7): (37, 11),\n",
       " (99, 29): (94, 31),\n",
       " (3, 52): (15, 44),\n",
       " (23, 41): (15, 44),\n",
       " (64, 38): (68, 46),\n",
       " (84, 41): (68, 46),\n",
       " (50, 73): (61, 82),\n",
       " (13, 83): (5, 87),\n",
       " (70, 12): (79, 11),\n",
       " (74, 67): (61, 82),\n",
       " (40, 79): (61, 82),\n",
       " (3, 69): (15, 44),\n",
       " (60, 18): (37, 11),\n",
       " (64, 85): (61, 82),\n",
       " (36, 27): (15, 44),\n",
       " (8, 97): (5, 87),\n",
       " (22, 82): (15, 44),\n",
       " (26, 17): (15, 44),\n",
       " (83, 96): (61, 82),\n",
       " (46, 84): (61, 82),\n",
       " (0, 29): (15, 44),\n",
       " (69, 93): (61, 82),\n",
       " (73, 26): (68, 46),\n",
       " (2, 6): (15, 44),\n",
       " (4, 67): (15, 44),\n",
       " (79, 20): (79, 11),\n",
       " (35, 82): (61, 82),\n",
       " (55, 15): (37, 11),\n",
       " (96, 68): (68, 46),\n",
       " (59, 72): (61, 82),\n",
       " (25, 72): (15, 44),\n",
       " (31, 38): (15, 44),\n",
       " (35, 35): (15, 44),\n",
       " (92, 48): (68, 46),\n",
       " (96, 51): (68, 46),\n",
       " (7, 57): (15, 44),\n",
       " (11, 58): (15, 44),\n",
       " (68, 57): (68, 46),\n",
       " (72, 60): (68, 46),\n",
       " (1, 96): (5, 87),\n",
       " (44, 66): (61, 82),\n",
       " (7, 78): (5, 87),\n",
       " (48, 5): (37, 11),\n",
       " (68, 72): (61, 82),\n",
       " (8, 74): (15, 44),\n",
       " (24, 46): (15, 44),\n",
       " (10, 65): (15, 44),\n",
       " (30, 4): (37, 11),\n",
       " (34, 91): (61, 82),\n",
       " (0, 87): (5, 87),\n",
       " (20, 26): (15, 44),\n",
       " (77, 23): (79, 11),\n",
       " (24, 93): (19, 88),\n",
       " (6, 29): (15, 44),\n",
       " (67, 1): (79, 11),\n",
       " (57, 27): (68, 46),\n",
       " (39, 95): (61, 82),\n",
       " (43, 24): (37, 11),\n",
       " (63, 85): (61, 82),\n",
       " (29, 69): (15, 44),\n",
       " (33, 2): (37, 11),\n",
       " (90, 85): (61, 82),\n",
       " (53, 79): (61, 82),\n",
       " (39, 44): (15, 44),\n",
       " (80, 35): (68, 46),\n",
       " (86, 9): (79, 11),\n",
       " (15, 7): (37, 11),\n",
       " (56, 76): (61, 82),\n",
       " ...}"
      ]
     },
     "execution_count": 12,
     "metadata": {},
     "output_type": "execute_result"
    }
   ],
   "source": [
    "assignments"
   ]
  },
  {
   "cell_type": "code",
   "execution_count": 17,
   "metadata": {},
   "outputs": [
    {
     "data": {
      "text/plain": [
       "<matplotlib.image.AxesImage at 0x7f499d2d4b50>"
      ]
     },
     "execution_count": 17,
     "metadata": {},
     "output_type": "execute_result"
    },
    {
     "data": {
      "image/png": "[encoded data removed]",
      "text/plain": [
       "<matplotlib.figure.Figure at 0x7f499d339210>"
      ]
     },
     "metadata": {},
     "output_type": "display_data"
    }
   ],
   "source": [
    "plt.imshow(segmentations)"
   ]
  },
  {
   "cell_type": "code",
   "execution_count": 19,
   "metadata": {
    "collapsed": true
   },
   "outputs": [],
   "source": [
    "assignments = nx.get_node_attributes(msf, 'seed')"
   ]
  },
  {
   "cell_type": "code",
   "execution_count": 53,
   "metadata": {
    "collapsed": true
   },
   "outputs": [],
   "source": [
    "_, graph, truth = graph_utils.generate_gt_cuts(gt, seeds, assignments=True)\n",
    "truth = map_to_seg_ids(segmentations.shape, truth)"
   ]
  },
  {
   "cell_type": "code",
   "execution_count": 54,
   "metadata": {
    "collapsed": true
   },
   "outputs": [],
   "source": [
    "gt_assignments = nx.get_node_attributes(graph, 'seed')"
   ]
  },
  {
   "cell_type": "code",
   "execution_count": 65,
   "metadata": {
    "collapsed": true
   },
   "outputs": [],
   "source": [
    "gt_segs = display_utils.assignments(gt, graph, seeds)"
   ]
  },
  {
   "cell_type": "code",
   "execution_count": 66,
   "metadata": {},
   "outputs": [
    {
     "data": {
      "text/plain": [
       "<matplotlib.image.AxesImage at 0x7f499cede6d0>"
      ]
     },
     "execution_count": 66,
     "metadata": {},
     "output_type": "execute_result"
    },
    {
     "data": {
      "image/png": "[encoded data removed]",
      "text/plain": [
       "<matplotlib.figure.Figure at 0x7f499d35e7d0>"
      ]
     },
     "metadata": {},
     "output_type": "display_data"
    }
   ],
   "source": [
    "plt.imshow(gt_segs)"
   ]
  }
 ],
 "metadata": {
  "kernelspec": {
   "display_name": "Python 2",
   "language": "python",
   "name": "python2"
  },
  "language_info": {
   "codemirror_mode": {
    "name": "ipython",
    "version": 2
   },
   "file_extension": ".py",
   "mimetype": "text/x-python",
   "name": "python",
   "nbconvert_exporter": "python",
   "pygments_lexer": "ipython2",
   "version": "2.7.13"
  }
 },
 "nbformat": 4,
 "nbformat_minor": 2
}
