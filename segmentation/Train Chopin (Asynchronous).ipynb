{
 "cells": [
  {
   "cell_type": "code",
   "execution_count": 1,
   "metadata": {
    "collapsed": true
   },
   "outputs": [],
   "source": [
    "from __future__ import absolute_import\n",
    "from __future__ import division\n",
    "from __future__ import print_function"
   ]
  },
  {
   "cell_type": "code",
   "execution_count": 2,
   "metadata": {
    "collapsed": true
   },
   "outputs": [],
   "source": [
    "import matplotlib.pyplot as plt\n",
    "%matplotlib inline"
   ]
  },
  {
   "cell_type": "code",
   "execution_count": 3,
   "metadata": {},
   "outputs": [
    {
     "name": "stderr",
     "output_type": "stream",
     "text": [
      "Using TensorFlow backend.\n"
     ]
    }
   ],
   "source": [
    "import cv2\n",
    "import numpy as np\n",
    "import os\n",
    "import re\n",
    "import shutil\n",
    "\n",
    "from models import BachNet\n",
    "from models import ChopinNet\n",
    "\n",
    "import networkx as nx\n",
    "import sys\n",
    "import time\n",
    "\n",
    "from heapq import heappop as pop\n",
    "from heapq import heappush as push\n",
    "from utils import graph_utils\n",
    "from utils import display_utils\n",
    "from utils import prediction_utils\n",
    "from utils import preprocessing_utils"
   ]
  },
  {
   "cell_type": "code",
   "execution_count": 4,
   "metadata": {
    "collapsed": true
   },
   "outputs": [],
   "source": [
    "train_path = \"data/train\"\n",
    "test_path = \"data/test\"\n",
    "\n",
    "input_path = \"input\"\n",
    "output_path = \"output\"\n",
    "\n",
    "gt_tag = \"gt\"\n",
    "\n",
    "receptive_field_shape = (12, 12)\n",
    "n_epochs = 5\n",
    "save_rate = 10"
   ]
  },
  {
   "cell_type": "code",
   "execution_count": 5,
   "metadata": {},
   "outputs": [],
   "source": [
    "bach = BachNet.BachNet()\n",
    "bach.build(receptive_field_shape, 1)\n",
    "bach.load_model('models/saved_models/Bach/model.h5')"
   ]
  },
  {
   "cell_type": "code",
   "execution_count": 6,
   "metadata": {
    "scrolled": true
   },
   "outputs": [
    {
     "name": "stdout",
     "output_type": "stream",
     "text": [
      "Loading image:  segprob.0083_gt\n",
      "Loading image:  segprob.0083\n",
      "Loading image:  segprob.0083\n",
      "Loading image:  segprob\n",
      "Loading image:  segprob\n",
      "Loading image:  segprob_gt\n"
     ]
    }
   ],
   "source": [
    "batch = dict()\n",
    "input_gen = prediction_utils.input_generator(bach, train_path, input_path, gt_tag)\n",
    "\n",
    "while True:\n",
    "    try:\n",
    "        f_name, img, bps, I_a, gt, gt_cuts, seeds = next(input_gen)\n",
    "        graph = graph_utils.prims_initialize(img)\n",
    "        batch[f_name] = img, bps, I_a, gt, gt_cuts, seeds, graph\n",
    "    except StopIteration:\n",
    "        break"
   ]
  },
  {
   "cell_type": "code",
   "execution_count": null,
   "metadata": {
    "collapsed": true
   },
   "outputs": [],
   "source": [
    "chopin = ChopinNet.Chopin()\n",
    "chopin.build(receptive_field_shape, learning_rate=1e-5)\n",
    "#chopin.load_model(\"models/saved_model/Chopin/checkpoint\")\n",
    "chopin.initialize_session()"
   ]
  },
  {
   "cell_type": "code",
   "execution_count": null,
   "metadata": {
    "scrolled": true
   },
   "outputs": [
    {
     "name": "stdout",
     "output_type": "stream",
     "text": [
      "Training on: segprob\n",
      "Starting gradient segmentation...\n",
      "Segmentation done: 180.650106s\n",
      "Starting gradient segmentation...\n",
      "Segmentation done: 0.896355s\n",
      "198.365983963\n",
      "Loss:  523.831295013\n",
      "Training on: segprob.0083\n",
      "Starting gradient segmentation...\n",
      "Segmentation done: 181.903794s\n",
      "Starting gradient segmentation...\n",
      "Segmentation done: 0.847989s\n",
      "196.476339102\n",
      "Loss:  48.3562879562\n",
      "Training on: segprob\n",
      "Starting gradient segmentation...\n",
      "Segmentation done: 185.779429s\n",
      "Starting gradient segmentation...\n",
      "Segmentation done: 0.886245s\n",
      "Saving Model\n",
      "215.427311182\n",
      "Loss:  29.9987916946\n",
      "Training on: segprob.0083\n",
      "Starting gradient segmentation...\n",
      "Segmentation done: 185.725619s\n",
      "Starting gradient segmentation...\n",
      "Segmentation done: 0.840728s\n",
      "Saving Model\n",
      "218.333958864\n",
      "Loss:  15.5963751078\n",
      "Training on: segprob\n",
      "Starting gradient segmentation...\n",
      "Segmentation done: 180.857045s\n",
      "Starting gradient segmentation...\n",
      "Segmentation done: 1.225638s\n",
      "Saving Model\n",
      "216.183753014\n",
      "Loss:  7.6176738739\n",
      "Training on: segprob.0083\n",
      "Starting gradient segmentation...\n",
      "Segmentation done: 181.106448s\n",
      "Starting gradient segmentation...\n",
      "Segmentation done: 0.839306s\n",
      "Saving Model\n",
      "219.126838923\n",
      "Loss:  6.76278603077\n",
      "Training on: segprob\n",
      "Starting gradient segmentation...\n",
      "Segmentation done: 184.356958s\n",
      "Starting gradient segmentation...\n",
      "Segmentation done: 0.891929s\n",
      "Saving Model\n",
      "224.849706888\n",
      "Loss:  10.2654237747\n",
      "Training on: segprob.0083\n",
      "Starting gradient segmentation...\n",
      "Segmentation done: 181.798172s\n",
      "Starting gradient segmentation...\n",
      "Segmentation done: 0.880820s\n",
      "Saving Model\n",
      "224.96055913\n",
      "Loss:  -19.6918344498\n",
      "Training on: segprob\n",
      "Starting gradient segmentation...\n"
     ]
    }
   ],
   "source": [
    "global_loss_timeline = []\n",
    "loss_timelines = dict()\n",
    "loss_file = open(\"data/train/chopin/global_loss.txt\", 'w')\n",
    "loss_file.write(\"f_name\\tepoch\\tloss\\n\")\n",
    "\n",
    "for epoch in range(n_epochs):\n",
    "    for f_name, (img, bps, I_a, gt, gt_cuts, seeds, graph) in batch.iteritems():\n",
    "        print(\"Training on:\", f_name)\n",
    "        \n",
    "        foldername = os.path.join(train_path, \"chopin\", f_name)\n",
    "        start = time.time()\n",
    "        \n",
    "        loss, segmentations, cuts = chopin.train_on_image(img, I_a, gt_cuts, seeds, graph)\n",
    "        \n",
    "        if epoch % save_rate:\n",
    "            print(\"Saving Model\")\n",
    "            chopin.save_model(os.path.join(foldername, \"saved_models\", \"model\"), epoch)\n",
    "            chopin.save_model(\"models/saved_models/Chopin/chopin\", epoch)\n",
    "        \n",
    "        print(time.time() - start)\n",
    "        print(\"Loss: \", loss)\n",
    "        \n",
    "        plt.imsave(os.path.join(foldername, \"epoch_{}_bw.png\".format(epoch)), display_utils.view_boundaries(np.zeros_like(img), cuts))\n",
    "\n",
    "        mask = display_utils.transparent_mask(display_utils.view_boundaries(img, gt_cuts), segmentations, alpha=0.75)\n",
    "        plt.imsave(os.path.join(foldername, \"epoch_{}_overlay.png\".format(epoch)), mask)\n",
    "        \n",
    "        loss_file.write(f_name + \"\\t\" + str(epoch) + \"\\t\" + str(loss) + \"\\n\")\n",
    "        loss_file.flush()\n",
    "        \n",
    "        global_loss_timeline.append(loss)\n",
    "        \n",
    "        try:\n",
    "            loss_timelines[f_name].append(loss)\n",
    "        except KeyError:\n",
    "            loss_timelines[f_name] = [loss]\n",
    "            \n",
    "        plt.plot(loss_timelines[f_name])\n",
    "        plt.savefig(os.path.join(foldername, \"local_loss\"))\n",
    "        \n",
    "        plt.gcf().clear()\n",
    "            \n",
    "        plt.plot(global_loss_timeline)\n",
    "        plt.savefig(\"data/train/chopin/global_loss\")\n",
    "        \n",
    "        plt.gcf().clear()\n",
    "            \n",
    "loss_file.close()"
   ]
  },
  {
   "cell_type": "code",
   "execution_count": null,
   "metadata": {
    "collapsed": true
   },
   "outputs": [],
   "source": []
  }
 ],
 "metadata": {
  "kernelspec": {
   "display_name": "Python 2",
   "language": "python",
   "name": "python2"
  },
  "language_info": {
   "codemirror_mode": {
    "name": "ipython",
    "version": 2
   },
   "file_extension": ".py",
   "mimetype": "text/x-python",
   "name": "python",
   "nbconvert_exporter": "python",
   "pygments_lexer": "ipython2",
   "version": "2.7.14"
  }
 },
 "nbformat": 4,
 "nbformat_minor": 2
}
